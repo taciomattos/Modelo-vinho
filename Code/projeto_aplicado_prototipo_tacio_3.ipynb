{
  "nbformat": 4,
  "nbformat_minor": 0,
  "metadata": {
    "colab": {
      "provenance": [],
      "include_colab_link": true
    },
    "kernelspec": {
      "name": "python3",
      "display_name": "Python 3"
    },
    "language_info": {
      "name": "python"
    }
  },
  "cells": [
    {
      "cell_type": "markdown",
      "metadata": {
        "id": "view-in-github",
        "colab_type": "text"
      },
      "source": [
        "<a href=\"https://colab.research.google.com/github/taciomattos/Modelo-vinho/blob/main/Code/projeto_aplicado_prototipo_tacio_3.ipynb\" target=\"_parent\"><img src=\"https://colab.research.google.com/assets/colab-badge.svg\" alt=\"Open In Colab\"/></a>"
      ]
    },
    {
      "cell_type": "markdown",
      "source": [
        "## Disciplina: Projeto Aplicado Análise Preditiva e Vantagem Competitiva\n",
        "\n",
        "#### Aluno: Tacio Roberto Mattos de Oliveira\n",
        "\n",
        "#### Professor: Sérgio Monteiro\n",
        "#### Curso: MBA em BI & Data Science"
      ],
      "metadata": {
        "id": "WII_zhXPoaAn"
      }
    },
    {
      "cell_type": "markdown",
      "source": [
        "# **Instalação dos Pacotes**"
      ],
      "metadata": {
        "id": "M5SR2ZEMk-Pz"
      }
    },
    {
      "cell_type": "code",
      "execution_count": null,
      "metadata": {
        "colab": {
          "base_uri": "https://localhost:8080/"
        },
        "id": "8U-gBG-skSCT",
        "outputId": "ba32c6cb-97a7-406f-fd85-0fad22bf907b"
      },
      "outputs": [
        {
          "output_type": "stream",
          "name": "stdout",
          "text": [
            "Looking in indexes: https://pypi.org/simple, https://us-python.pkg.dev/colab-wheels/public/simple/\n",
            "Requirement already satisfied: yfinance in /usr/local/lib/python3.9/dist-packages (0.2.12)\n",
            "Requirement already satisfied: beautifulsoup4>=4.11.1 in /usr/local/lib/python3.9/dist-packages (from yfinance) (4.11.2)\n",
            "Requirement already satisfied: html5lib>=1.1 in /usr/local/lib/python3.9/dist-packages (from yfinance) (1.1)\n",
            "Requirement already satisfied: cryptography>=3.3.2 in /usr/local/lib/python3.9/dist-packages (from yfinance) (39.0.2)\n",
            "Requirement already satisfied: pandas>=1.3.0 in /usr/local/lib/python3.9/dist-packages (from yfinance) (1.5.3)\n",
            "Requirement already satisfied: appdirs>=1.4.4 in /usr/local/lib/python3.9/dist-packages (from yfinance) (1.4.4)\n",
            "Requirement already satisfied: requests>=2.26 in /usr/local/lib/python3.9/dist-packages (from yfinance) (2.28.2)\n",
            "Requirement already satisfied: pytz>=2022.5 in /usr/local/lib/python3.9/dist-packages (from yfinance) (2022.7.1)\n",
            "Requirement already satisfied: numpy>=1.16.5 in /usr/local/lib/python3.9/dist-packages (from yfinance) (1.22.4)\n",
            "Requirement already satisfied: frozendict>=2.3.4 in /usr/local/lib/python3.9/dist-packages (from yfinance) (2.3.5)\n",
            "Requirement already satisfied: multitasking>=0.0.7 in /usr/local/lib/python3.9/dist-packages (from yfinance) (0.0.11)\n",
            "Requirement already satisfied: lxml>=4.9.1 in /usr/local/lib/python3.9/dist-packages (from yfinance) (4.9.2)\n",
            "Requirement already satisfied: soupsieve>1.2 in /usr/local/lib/python3.9/dist-packages (from beautifulsoup4>=4.11.1->yfinance) (2.4)\n",
            "Requirement already satisfied: cffi>=1.12 in /usr/local/lib/python3.9/dist-packages (from cryptography>=3.3.2->yfinance) (1.15.1)\n",
            "Requirement already satisfied: six>=1.9 in /usr/local/lib/python3.9/dist-packages (from html5lib>=1.1->yfinance) (1.15.0)\n",
            "Requirement already satisfied: webencodings in /usr/local/lib/python3.9/dist-packages (from html5lib>=1.1->yfinance) (0.5.1)\n",
            "Requirement already satisfied: python-dateutil>=2.8.1 in /usr/local/lib/python3.9/dist-packages (from pandas>=1.3.0->yfinance) (2.8.2)\n",
            "Requirement already satisfied: urllib3<1.27,>=1.21.1 in /usr/local/lib/python3.9/dist-packages (from requests>=2.26->yfinance) (1.26.14)\n",
            "Requirement already satisfied: idna<4,>=2.5 in /usr/local/lib/python3.9/dist-packages (from requests>=2.26->yfinance) (2.10)\n",
            "Requirement already satisfied: certifi>=2017.4.17 in /usr/local/lib/python3.9/dist-packages (from requests>=2.26->yfinance) (2022.12.7)\n",
            "Requirement already satisfied: charset-normalizer<4,>=2 in /usr/local/lib/python3.9/dist-packages (from requests>=2.26->yfinance) (3.1.0)\n",
            "Requirement already satisfied: pycparser in /usr/local/lib/python3.9/dist-packages (from cffi>=1.12->cryptography>=3.3.2->yfinance) (2.21)\n"
          ]
        }
      ],
      "source": [
        "# Instalando o yahoo finance\n",
        "!pip install yfinance --upgrade --no-cache-dir"
      ]
    },
    {
      "cell_type": "code",
      "source": [
        "!pip install requests"
      ],
      "metadata": {
        "colab": {
          "base_uri": "https://localhost:8080/"
        },
        "id": "W2KlDJ29lVBe",
        "outputId": "e7b0758b-0308-4e72-fd50-e855c0c2c881"
      },
      "execution_count": null,
      "outputs": [
        {
          "output_type": "stream",
          "name": "stdout",
          "text": [
            "Looking in indexes: https://pypi.org/simple, https://us-python.pkg.dev/colab-wheels/public/simple/\n",
            "Requirement already satisfied: requests in /usr/local/lib/python3.9/dist-packages (2.28.2)\n",
            "Requirement already satisfied: idna<4,>=2.5 in /usr/local/lib/python3.9/dist-packages (from requests) (2.10)\n",
            "Requirement already satisfied: certifi>=2017.4.17 in /usr/local/lib/python3.9/dist-packages (from requests) (2022.12.7)\n",
            "Requirement already satisfied: urllib3<1.27,>=1.21.1 in /usr/local/lib/python3.9/dist-packages (from requests) (1.26.14)\n",
            "Requirement already satisfied: charset-normalizer<4,>=2 in /usr/local/lib/python3.9/dist-packages (from requests) (3.1.0)\n"
          ]
        }
      ]
    },
    {
      "cell_type": "code",
      "source": [
        "pip install --upgrade pandas"
      ],
      "metadata": {
        "colab": {
          "base_uri": "https://localhost:8080/"
        },
        "id": "8POOVaxjlZ-C",
        "outputId": "4cd7dd30-b2d6-48dc-d5f6-2849a5a4add2"
      },
      "execution_count": null,
      "outputs": [
        {
          "output_type": "stream",
          "name": "stdout",
          "text": [
            "Looking in indexes: https://pypi.org/simple, https://us-python.pkg.dev/colab-wheels/public/simple/\n",
            "Requirement already satisfied: pandas in /usr/local/lib/python3.9/dist-packages (1.5.3)\n",
            "Requirement already satisfied: python-dateutil>=2.8.1 in /usr/local/lib/python3.9/dist-packages (from pandas) (2.8.2)\n",
            "Requirement already satisfied: pytz>=2020.1 in /usr/local/lib/python3.9/dist-packages (from pandas) (2022.7.1)\n",
            "Requirement already satisfied: numpy>=1.20.3 in /usr/local/lib/python3.9/dist-packages (from pandas) (1.22.4)\n",
            "Requirement already satisfied: six>=1.5 in /usr/local/lib/python3.9/dist-packages (from python-dateutil>=2.8.1->pandas) (1.15.0)\n"
          ]
        }
      ]
    },
    {
      "cell_type": "markdown",
      "source": [
        "# **Importação dos Pacotes**"
      ],
      "metadata": {
        "id": "qKO9k5PplpEq"
      }
    },
    {
      "cell_type": "code",
      "source": [
        "import pandas as pd\n",
        "import numpy as np\n",
        "import yfinance as yf #Instalando e importando a API no código\n",
        "import matplotlib.pyplot as plt\n",
        "from sklearn.metrics import mean_squared_error"
      ],
      "metadata": {
        "id": "G28fxUxNlllq"
      },
      "execution_count": null,
      "outputs": []
    },
    {
      "cell_type": "markdown",
      "source": [
        "# **Baixar Dados Reais**"
      ],
      "metadata": {
        "id": "xwTgOfwbluXS"
      }
    },
    {
      "cell_type": "code",
      "source": [
        "import requests\n",
        "url = \"https://investnews.com.br/financas/veja-a-lista-completa-dos-bdrs-disponiveis-para-pessoas-fisicas-na-b3/\"\n",
        "r = requests.get(url)\n",
        "html = r.text\n",
        "df_nomes_tickers = pd.read_html(html, header=0)[0]\n",
        "df_nomes_tickers.head(10)"
      ],
      "metadata": {
        "colab": {
          "base_uri": "https://localhost:8080/",
          "height": 363
        },
        "id": "sc4Z9JKnWpIe",
        "outputId": "afd42679-9cb3-4e32-d8b5-37eb85c24d9f"
      },
      "execution_count": null,
      "outputs": [
        {
          "output_type": "execute_result",
          "data": {
            "text/plain": [
              "                  EMPRESA  CÓDIGO                           SETOR  \\\n",
              "0                      3M  MMMC34         Indústria diversificada   \n",
              "1                AB INBEV  ABUD34                         Bebidas   \n",
              "2                 ABB LTD  A1BB34                      Industrial   \n",
              "3                  ABBOTT  ABTT34                   Farmacêuticos   \n",
              "4                  ABBVIE  ABBV34  Medicamentos e Outros Produtos   \n",
              "5             ABIOMED INC  A1BM34                           Saúde   \n",
              "6              ACTIVISION  ATVI34                      Tecnologia   \n",
              "7               ADOBE INC  ADBE34                      Tecnologia   \n",
              "8  ADVANCE AUTO PARTS INC  A1AP34               Peças Automotivas   \n",
              "9            ADVANCED MIC  A1MD34                      Tecnologia   \n",
              "\n",
              "  PAÍS DE ORIGEM  \n",
              "0            EUA  \n",
              "1        Bélgica  \n",
              "2    Switzerland  \n",
              "3            EUA  \n",
              "4            EUA  \n",
              "5            EUA  \n",
              "6            EUA  \n",
              "7            EUA  \n",
              "8            EUA  \n",
              "9            EUA  "
            ],
            "text/html": [
              "\n",
              "  <div id=\"df-b195375d-3c0f-4c94-a352-bc35d1a289ff\">\n",
              "    <div class=\"colab-df-container\">\n",
              "      <div>\n",
              "<style scoped>\n",
              "    .dataframe tbody tr th:only-of-type {\n",
              "        vertical-align: middle;\n",
              "    }\n",
              "\n",
              "    .dataframe tbody tr th {\n",
              "        vertical-align: top;\n",
              "    }\n",
              "\n",
              "    .dataframe thead th {\n",
              "        text-align: right;\n",
              "    }\n",
              "</style>\n",
              "<table border=\"1\" class=\"dataframe\">\n",
              "  <thead>\n",
              "    <tr style=\"text-align: right;\">\n",
              "      <th></th>\n",
              "      <th>EMPRESA</th>\n",
              "      <th>CÓDIGO</th>\n",
              "      <th>SETOR</th>\n",
              "      <th>PAÍS DE ORIGEM</th>\n",
              "    </tr>\n",
              "  </thead>\n",
              "  <tbody>\n",
              "    <tr>\n",
              "      <th>0</th>\n",
              "      <td>3M</td>\n",
              "      <td>MMMC34</td>\n",
              "      <td>Indústria diversificada</td>\n",
              "      <td>EUA</td>\n",
              "    </tr>\n",
              "    <tr>\n",
              "      <th>1</th>\n",
              "      <td>AB INBEV</td>\n",
              "      <td>ABUD34</td>\n",
              "      <td>Bebidas</td>\n",
              "      <td>Bélgica</td>\n",
              "    </tr>\n",
              "    <tr>\n",
              "      <th>2</th>\n",
              "      <td>ABB LTD</td>\n",
              "      <td>A1BB34</td>\n",
              "      <td>Industrial</td>\n",
              "      <td>Switzerland</td>\n",
              "    </tr>\n",
              "    <tr>\n",
              "      <th>3</th>\n",
              "      <td>ABBOTT</td>\n",
              "      <td>ABTT34</td>\n",
              "      <td>Farmacêuticos</td>\n",
              "      <td>EUA</td>\n",
              "    </tr>\n",
              "    <tr>\n",
              "      <th>4</th>\n",
              "      <td>ABBVIE</td>\n",
              "      <td>ABBV34</td>\n",
              "      <td>Medicamentos e Outros Produtos</td>\n",
              "      <td>EUA</td>\n",
              "    </tr>\n",
              "    <tr>\n",
              "      <th>5</th>\n",
              "      <td>ABIOMED INC</td>\n",
              "      <td>A1BM34</td>\n",
              "      <td>Saúde</td>\n",
              "      <td>EUA</td>\n",
              "    </tr>\n",
              "    <tr>\n",
              "      <th>6</th>\n",
              "      <td>ACTIVISION</td>\n",
              "      <td>ATVI34</td>\n",
              "      <td>Tecnologia</td>\n",
              "      <td>EUA</td>\n",
              "    </tr>\n",
              "    <tr>\n",
              "      <th>7</th>\n",
              "      <td>ADOBE INC</td>\n",
              "      <td>ADBE34</td>\n",
              "      <td>Tecnologia</td>\n",
              "      <td>EUA</td>\n",
              "    </tr>\n",
              "    <tr>\n",
              "      <th>8</th>\n",
              "      <td>ADVANCE AUTO PARTS INC</td>\n",
              "      <td>A1AP34</td>\n",
              "      <td>Peças Automotivas</td>\n",
              "      <td>EUA</td>\n",
              "    </tr>\n",
              "    <tr>\n",
              "      <th>9</th>\n",
              "      <td>ADVANCED MIC</td>\n",
              "      <td>A1MD34</td>\n",
              "      <td>Tecnologia</td>\n",
              "      <td>EUA</td>\n",
              "    </tr>\n",
              "  </tbody>\n",
              "</table>\n",
              "</div>\n",
              "      <button class=\"colab-df-convert\" onclick=\"convertToInteractive('df-b195375d-3c0f-4c94-a352-bc35d1a289ff')\"\n",
              "              title=\"Convert this dataframe to an interactive table.\"\n",
              "              style=\"display:none;\">\n",
              "        \n",
              "  <svg xmlns=\"http://www.w3.org/2000/svg\" height=\"24px\"viewBox=\"0 0 24 24\"\n",
              "       width=\"24px\">\n",
              "    <path d=\"M0 0h24v24H0V0z\" fill=\"none\"/>\n",
              "    <path d=\"M18.56 5.44l.94 2.06.94-2.06 2.06-.94-2.06-.94-.94-2.06-.94 2.06-2.06.94zm-11 1L8.5 8.5l.94-2.06 2.06-.94-2.06-.94L8.5 2.5l-.94 2.06-2.06.94zm10 10l.94 2.06.94-2.06 2.06-.94-2.06-.94-.94-2.06-.94 2.06-2.06.94z\"/><path d=\"M17.41 7.96l-1.37-1.37c-.4-.4-.92-.59-1.43-.59-.52 0-1.04.2-1.43.59L10.3 9.45l-7.72 7.72c-.78.78-.78 2.05 0 2.83L4 21.41c.39.39.9.59 1.41.59.51 0 1.02-.2 1.41-.59l7.78-7.78 2.81-2.81c.8-.78.8-2.07 0-2.86zM5.41 20L4 18.59l7.72-7.72 1.47 1.35L5.41 20z\"/>\n",
              "  </svg>\n",
              "      </button>\n",
              "      \n",
              "  <style>\n",
              "    .colab-df-container {\n",
              "      display:flex;\n",
              "      flex-wrap:wrap;\n",
              "      gap: 12px;\n",
              "    }\n",
              "\n",
              "    .colab-df-convert {\n",
              "      background-color: #E8F0FE;\n",
              "      border: none;\n",
              "      border-radius: 50%;\n",
              "      cursor: pointer;\n",
              "      display: none;\n",
              "      fill: #1967D2;\n",
              "      height: 32px;\n",
              "      padding: 0 0 0 0;\n",
              "      width: 32px;\n",
              "    }\n",
              "\n",
              "    .colab-df-convert:hover {\n",
              "      background-color: #E2EBFA;\n",
              "      box-shadow: 0px 1px 2px rgba(60, 64, 67, 0.3), 0px 1px 3px 1px rgba(60, 64, 67, 0.15);\n",
              "      fill: #174EA6;\n",
              "    }\n",
              "\n",
              "    [theme=dark] .colab-df-convert {\n",
              "      background-color: #3B4455;\n",
              "      fill: #D2E3FC;\n",
              "    }\n",
              "\n",
              "    [theme=dark] .colab-df-convert:hover {\n",
              "      background-color: #434B5C;\n",
              "      box-shadow: 0px 1px 3px 1px rgba(0, 0, 0, 0.15);\n",
              "      filter: drop-shadow(0px 1px 2px rgba(0, 0, 0, 0.3));\n",
              "      fill: #FFFFFF;\n",
              "    }\n",
              "  </style>\n",
              "\n",
              "      <script>\n",
              "        const buttonEl =\n",
              "          document.querySelector('#df-b195375d-3c0f-4c94-a352-bc35d1a289ff button.colab-df-convert');\n",
              "        buttonEl.style.display =\n",
              "          google.colab.kernel.accessAllowed ? 'block' : 'none';\n",
              "\n",
              "        async function convertToInteractive(key) {\n",
              "          const element = document.querySelector('#df-b195375d-3c0f-4c94-a352-bc35d1a289ff');\n",
              "          const dataTable =\n",
              "            await google.colab.kernel.invokeFunction('convertToInteractive',\n",
              "                                                     [key], {});\n",
              "          if (!dataTable) return;\n",
              "\n",
              "          const docLinkHtml = 'Like what you see? Visit the ' +\n",
              "            '<a target=\"_blank\" href=https://colab.research.google.com/notebooks/data_table.ipynb>data table notebook</a>'\n",
              "            + ' to learn more about interactive tables.';\n",
              "          element.innerHTML = '';\n",
              "          dataTable['output_type'] = 'display_data';\n",
              "          await google.colab.output.renderOutput(dataTable, element);\n",
              "          const docLink = document.createElement('div');\n",
              "          docLink.innerHTML = docLinkHtml;\n",
              "          element.appendChild(docLink);\n",
              "        }\n",
              "      </script>\n",
              "    </div>\n",
              "  </div>\n",
              "  "
            ]
          },
          "metadata": {},
          "execution_count": 149
        }
      ]
    },
    {
      "cell_type": "code",
      "source": [
        "with pd.option_context('display.max_rows',10):\n",
        "  print(df_nomes_tickers)"
      ],
      "metadata": {
        "id": "5nv3Yk6cWwFm",
        "outputId": "293b1f9c-9b33-4985-81af-7e39bc12b815",
        "colab": {
          "base_uri": "https://localhost:8080/"
        }
      },
      "execution_count": null,
      "outputs": [
        {
          "output_type": "stream",
          "name": "stdout",
          "text": [
            "           EMPRESA  CÓDIGO                                   SETOR  \\\n",
            "0               3M  MMMC34                 Indústria diversificada   \n",
            "1         AB INBEV  ABUD34                                 Bebidas   \n",
            "2          ABB LTD  A1BB34                              Industrial   \n",
            "3           ABBOTT  ABTT34                           Farmacêuticos   \n",
            "4           ABBVIE  ABBV34          Medicamentos e Outros Produtos   \n",
            "..             ...     ...                                     ...   \n",
            "703  RAYTHEON TECH  RYTT34                              Industrial   \n",
            "704   SCHLUMBERGER  SLBG34  Equipamentos e Serviços de Combustível   \n",
            "705        TIFFANY  TIFF34                               Joalheria   \n",
            "706     US BANCORP  USBC34                  Instituição Financeira   \n",
            "707         XP INC  XPBR31                              Financeiro   \n",
            "\n",
            "    PAÍS DE ORIGEM  \n",
            "0              EUA  \n",
            "1          Bélgica  \n",
            "2      Switzerland  \n",
            "3              EUA  \n",
            "4              EUA  \n",
            "..             ...  \n",
            "703            EUA  \n",
            "704            EUA  \n",
            "705            EUA  \n",
            "706            EUA  \n",
            "707         Brasil  \n",
            "\n",
            "[708 rows x 4 columns]\n"
          ]
        }
      ]
    },
    {
      "cell_type": "code",
      "source": [
        "\n",
        "tickers = ['PETR4.SA', 'ABUD34.SA', 'MMMC34.SA', 'A1BB34.SA', 'ABTT34.SA','ABBV34.SA', 'RYTT34.SA', 'USBC34.SA', 'ADBE34.SA', 'XPBR31.SA']\n",
        "\n",
        "df = yf.download(tickers, \n",
        "                 start='2023-02-09', \n",
        "                 end='2023-02-25',\n",
        "                 group_by=\"ticker\"); \n",
        "\n",
        "df.head()"
      ],
      "metadata": {
        "colab": {
          "base_uri": "https://localhost:8080/",
          "height": 483
        },
        "id": "W-mm3GiPVNsW",
        "outputId": "49e7b9cc-e181-4ef3-e4c6-a648ef127b3a"
      },
      "execution_count": null,
      "outputs": [
        {
          "output_type": "stream",
          "name": "stdout",
          "text": [
            "[*********************100%***********************]  10 of 10 completed\n"
          ]
        },
        {
          "output_type": "execute_result",
          "data": {
            "text/plain": [
              "            A1BB34.SA                                                     \\\n",
              "                 Open       High        Low      Close  Adj Close Volume   \n",
              "Date                                                                       \n",
              "2023-02-09  44.160000  44.480000  44.160000  44.200001  44.200001     10   \n",
              "2023-02-10  43.439999  43.720001  43.439999  43.720001  43.720001     18   \n",
              "2023-02-13  43.610001  43.610001  43.610001  43.610001  43.610001      1   \n",
              "2023-02-14  43.610001  44.040001  43.610001  44.040001  44.040001     21   \n",
              "2023-02-15  44.520000  44.759998  44.520000  44.759998  44.759998     12   \n",
              "\n",
              "            ABTT34.SA                                   ...  XPBR31.SA  \\\n",
              "                 Open       High        Low      Close  ...        Low   \n",
              "Date                                                    ...              \n",
              "2023-02-09  48.189999  48.189999  47.270000  47.270000  ...  82.339996   \n",
              "2023-02-10  47.049999  47.049999  47.000000  47.000000  ...  80.279999   \n",
              "2023-02-13  47.200001  47.200001  47.200001  47.200001  ...  80.709999   \n",
              "2023-02-14  47.200001  47.200001  47.200001  47.200001  ...  81.860001   \n",
              "2023-02-15  46.349998  46.349998  46.349998  46.349998  ...  81.559998   \n",
              "\n",
              "                                          RYTT34.SA                        \\\n",
              "                Close  Adj Close  Volume       Open       High        Low   \n",
              "Date                                                                        \n",
              "2023-02-09  82.690002  82.690002  904775  86.000000  86.120003  85.480003   \n",
              "2023-02-10  81.230003  81.230003  649433  85.510002  87.480003  85.339996   \n",
              "2023-02-13  84.000000  84.000000  400048  87.500000  87.500000  86.599998   \n",
              "2023-02-14  82.989998  82.989998  472429  86.690002  88.190002  86.690002   \n",
              "2023-02-15  83.989998  83.989998  619864  87.730003  87.730003  87.730003   \n",
              "\n",
              "                                         \n",
              "                Close  Adj Close Volume  \n",
              "Date                                     \n",
              "2023-02-09  85.779999  85.313713    564  \n",
              "2023-02-10  87.480003  87.004478   2416  \n",
              "2023-02-13  86.690002  86.218773     74  \n",
              "2023-02-14  88.190002  87.710617    176  \n",
              "2023-02-15  87.730003  87.253120      7  \n",
              "\n",
              "[5 rows x 60 columns]"
            ],
            "text/html": [
              "\n",
              "  <div id=\"df-eaec23e4-3845-426a-bf2f-12d5a5b4ce2b\">\n",
              "    <div class=\"colab-df-container\">\n",
              "      <div>\n",
              "<style scoped>\n",
              "    .dataframe tbody tr th:only-of-type {\n",
              "        vertical-align: middle;\n",
              "    }\n",
              "\n",
              "    .dataframe tbody tr th {\n",
              "        vertical-align: top;\n",
              "    }\n",
              "\n",
              "    .dataframe thead tr th {\n",
              "        text-align: left;\n",
              "    }\n",
              "\n",
              "    .dataframe thead tr:last-of-type th {\n",
              "        text-align: right;\n",
              "    }\n",
              "</style>\n",
              "<table border=\"1\" class=\"dataframe\">\n",
              "  <thead>\n",
              "    <tr>\n",
              "      <th></th>\n",
              "      <th colspan=\"6\" halign=\"left\">A1BB34.SA</th>\n",
              "      <th colspan=\"4\" halign=\"left\">ABTT34.SA</th>\n",
              "      <th>...</th>\n",
              "      <th colspan=\"4\" halign=\"left\">XPBR31.SA</th>\n",
              "      <th colspan=\"6\" halign=\"left\">RYTT34.SA</th>\n",
              "    </tr>\n",
              "    <tr>\n",
              "      <th></th>\n",
              "      <th>Open</th>\n",
              "      <th>High</th>\n",
              "      <th>Low</th>\n",
              "      <th>Close</th>\n",
              "      <th>Adj Close</th>\n",
              "      <th>Volume</th>\n",
              "      <th>Open</th>\n",
              "      <th>High</th>\n",
              "      <th>Low</th>\n",
              "      <th>Close</th>\n",
              "      <th>...</th>\n",
              "      <th>Low</th>\n",
              "      <th>Close</th>\n",
              "      <th>Adj Close</th>\n",
              "      <th>Volume</th>\n",
              "      <th>Open</th>\n",
              "      <th>High</th>\n",
              "      <th>Low</th>\n",
              "      <th>Close</th>\n",
              "      <th>Adj Close</th>\n",
              "      <th>Volume</th>\n",
              "    </tr>\n",
              "    <tr>\n",
              "      <th>Date</th>\n",
              "      <th></th>\n",
              "      <th></th>\n",
              "      <th></th>\n",
              "      <th></th>\n",
              "      <th></th>\n",
              "      <th></th>\n",
              "      <th></th>\n",
              "      <th></th>\n",
              "      <th></th>\n",
              "      <th></th>\n",
              "      <th></th>\n",
              "      <th></th>\n",
              "      <th></th>\n",
              "      <th></th>\n",
              "      <th></th>\n",
              "      <th></th>\n",
              "      <th></th>\n",
              "      <th></th>\n",
              "      <th></th>\n",
              "      <th></th>\n",
              "      <th></th>\n",
              "    </tr>\n",
              "  </thead>\n",
              "  <tbody>\n",
              "    <tr>\n",
              "      <th>2023-02-09</th>\n",
              "      <td>44.160000</td>\n",
              "      <td>44.480000</td>\n",
              "      <td>44.160000</td>\n",
              "      <td>44.200001</td>\n",
              "      <td>44.200001</td>\n",
              "      <td>10</td>\n",
              "      <td>48.189999</td>\n",
              "      <td>48.189999</td>\n",
              "      <td>47.270000</td>\n",
              "      <td>47.270000</td>\n",
              "      <td>...</td>\n",
              "      <td>82.339996</td>\n",
              "      <td>82.690002</td>\n",
              "      <td>82.690002</td>\n",
              "      <td>904775</td>\n",
              "      <td>86.000000</td>\n",
              "      <td>86.120003</td>\n",
              "      <td>85.480003</td>\n",
              "      <td>85.779999</td>\n",
              "      <td>85.313713</td>\n",
              "      <td>564</td>\n",
              "    </tr>\n",
              "    <tr>\n",
              "      <th>2023-02-10</th>\n",
              "      <td>43.439999</td>\n",
              "      <td>43.720001</td>\n",
              "      <td>43.439999</td>\n",
              "      <td>43.720001</td>\n",
              "      <td>43.720001</td>\n",
              "      <td>18</td>\n",
              "      <td>47.049999</td>\n",
              "      <td>47.049999</td>\n",
              "      <td>47.000000</td>\n",
              "      <td>47.000000</td>\n",
              "      <td>...</td>\n",
              "      <td>80.279999</td>\n",
              "      <td>81.230003</td>\n",
              "      <td>81.230003</td>\n",
              "      <td>649433</td>\n",
              "      <td>85.510002</td>\n",
              "      <td>87.480003</td>\n",
              "      <td>85.339996</td>\n",
              "      <td>87.480003</td>\n",
              "      <td>87.004478</td>\n",
              "      <td>2416</td>\n",
              "    </tr>\n",
              "    <tr>\n",
              "      <th>2023-02-13</th>\n",
              "      <td>43.610001</td>\n",
              "      <td>43.610001</td>\n",
              "      <td>43.610001</td>\n",
              "      <td>43.610001</td>\n",
              "      <td>43.610001</td>\n",
              "      <td>1</td>\n",
              "      <td>47.200001</td>\n",
              "      <td>47.200001</td>\n",
              "      <td>47.200001</td>\n",
              "      <td>47.200001</td>\n",
              "      <td>...</td>\n",
              "      <td>80.709999</td>\n",
              "      <td>84.000000</td>\n",
              "      <td>84.000000</td>\n",
              "      <td>400048</td>\n",
              "      <td>87.500000</td>\n",
              "      <td>87.500000</td>\n",
              "      <td>86.599998</td>\n",
              "      <td>86.690002</td>\n",
              "      <td>86.218773</td>\n",
              "      <td>74</td>\n",
              "    </tr>\n",
              "    <tr>\n",
              "      <th>2023-02-14</th>\n",
              "      <td>43.610001</td>\n",
              "      <td>44.040001</td>\n",
              "      <td>43.610001</td>\n",
              "      <td>44.040001</td>\n",
              "      <td>44.040001</td>\n",
              "      <td>21</td>\n",
              "      <td>47.200001</td>\n",
              "      <td>47.200001</td>\n",
              "      <td>47.200001</td>\n",
              "      <td>47.200001</td>\n",
              "      <td>...</td>\n",
              "      <td>81.860001</td>\n",
              "      <td>82.989998</td>\n",
              "      <td>82.989998</td>\n",
              "      <td>472429</td>\n",
              "      <td>86.690002</td>\n",
              "      <td>88.190002</td>\n",
              "      <td>86.690002</td>\n",
              "      <td>88.190002</td>\n",
              "      <td>87.710617</td>\n",
              "      <td>176</td>\n",
              "    </tr>\n",
              "    <tr>\n",
              "      <th>2023-02-15</th>\n",
              "      <td>44.520000</td>\n",
              "      <td>44.759998</td>\n",
              "      <td>44.520000</td>\n",
              "      <td>44.759998</td>\n",
              "      <td>44.759998</td>\n",
              "      <td>12</td>\n",
              "      <td>46.349998</td>\n",
              "      <td>46.349998</td>\n",
              "      <td>46.349998</td>\n",
              "      <td>46.349998</td>\n",
              "      <td>...</td>\n",
              "      <td>81.559998</td>\n",
              "      <td>83.989998</td>\n",
              "      <td>83.989998</td>\n",
              "      <td>619864</td>\n",
              "      <td>87.730003</td>\n",
              "      <td>87.730003</td>\n",
              "      <td>87.730003</td>\n",
              "      <td>87.730003</td>\n",
              "      <td>87.253120</td>\n",
              "      <td>7</td>\n",
              "    </tr>\n",
              "  </tbody>\n",
              "</table>\n",
              "<p>5 rows × 60 columns</p>\n",
              "</div>\n",
              "      <button class=\"colab-df-convert\" onclick=\"convertToInteractive('df-eaec23e4-3845-426a-bf2f-12d5a5b4ce2b')\"\n",
              "              title=\"Convert this dataframe to an interactive table.\"\n",
              "              style=\"display:none;\">\n",
              "        \n",
              "  <svg xmlns=\"http://www.w3.org/2000/svg\" height=\"24px\"viewBox=\"0 0 24 24\"\n",
              "       width=\"24px\">\n",
              "    <path d=\"M0 0h24v24H0V0z\" fill=\"none\"/>\n",
              "    <path d=\"M18.56 5.44l.94 2.06.94-2.06 2.06-.94-2.06-.94-.94-2.06-.94 2.06-2.06.94zm-11 1L8.5 8.5l.94-2.06 2.06-.94-2.06-.94L8.5 2.5l-.94 2.06-2.06.94zm10 10l.94 2.06.94-2.06 2.06-.94-2.06-.94-.94-2.06-.94 2.06-2.06.94z\"/><path d=\"M17.41 7.96l-1.37-1.37c-.4-.4-.92-.59-1.43-.59-.52 0-1.04.2-1.43.59L10.3 9.45l-7.72 7.72c-.78.78-.78 2.05 0 2.83L4 21.41c.39.39.9.59 1.41.59.51 0 1.02-.2 1.41-.59l7.78-7.78 2.81-2.81c.8-.78.8-2.07 0-2.86zM5.41 20L4 18.59l7.72-7.72 1.47 1.35L5.41 20z\"/>\n",
              "  </svg>\n",
              "      </button>\n",
              "      \n",
              "  <style>\n",
              "    .colab-df-container {\n",
              "      display:flex;\n",
              "      flex-wrap:wrap;\n",
              "      gap: 12px;\n",
              "    }\n",
              "\n",
              "    .colab-df-convert {\n",
              "      background-color: #E8F0FE;\n",
              "      border: none;\n",
              "      border-radius: 50%;\n",
              "      cursor: pointer;\n",
              "      display: none;\n",
              "      fill: #1967D2;\n",
              "      height: 32px;\n",
              "      padding: 0 0 0 0;\n",
              "      width: 32px;\n",
              "    }\n",
              "\n",
              "    .colab-df-convert:hover {\n",
              "      background-color: #E2EBFA;\n",
              "      box-shadow: 0px 1px 2px rgba(60, 64, 67, 0.3), 0px 1px 3px 1px rgba(60, 64, 67, 0.15);\n",
              "      fill: #174EA6;\n",
              "    }\n",
              "\n",
              "    [theme=dark] .colab-df-convert {\n",
              "      background-color: #3B4455;\n",
              "      fill: #D2E3FC;\n",
              "    }\n",
              "\n",
              "    [theme=dark] .colab-df-convert:hover {\n",
              "      background-color: #434B5C;\n",
              "      box-shadow: 0px 1px 3px 1px rgba(0, 0, 0, 0.15);\n",
              "      filter: drop-shadow(0px 1px 2px rgba(0, 0, 0, 0.3));\n",
              "      fill: #FFFFFF;\n",
              "    }\n",
              "  </style>\n",
              "\n",
              "      <script>\n",
              "        const buttonEl =\n",
              "          document.querySelector('#df-eaec23e4-3845-426a-bf2f-12d5a5b4ce2b button.colab-df-convert');\n",
              "        buttonEl.style.display =\n",
              "          google.colab.kernel.accessAllowed ? 'block' : 'none';\n",
              "\n",
              "        async function convertToInteractive(key) {\n",
              "          const element = document.querySelector('#df-eaec23e4-3845-426a-bf2f-12d5a5b4ce2b');\n",
              "          const dataTable =\n",
              "            await google.colab.kernel.invokeFunction('convertToInteractive',\n",
              "                                                     [key], {});\n",
              "          if (!dataTable) return;\n",
              "\n",
              "          const docLinkHtml = 'Like what you see? Visit the ' +\n",
              "            '<a target=\"_blank\" href=https://colab.research.google.com/notebooks/data_table.ipynb>data table notebook</a>'\n",
              "            + ' to learn more about interactive tables.';\n",
              "          element.innerHTML = '';\n",
              "          dataTable['output_type'] = 'display_data';\n",
              "          await google.colab.output.renderOutput(dataTable, element);\n",
              "          const docLink = document.createElement('div');\n",
              "          docLink.innerHTML = docLinkHtml;\n",
              "          element.appendChild(docLink);\n",
              "        }\n",
              "      </script>\n",
              "    </div>\n",
              "  </div>\n",
              "  "
            ]
          },
          "metadata": {},
          "execution_count": 151
        }
      ]
    },
    {
      "cell_type": "code",
      "source": [
        "for acao in tickers:\n",
        "  serie = df[acao, 'Close']\n",
        "  serie.plot()\n",
        "\n",
        "plt.title(\"Cotação x tempo\", fontsize = 25)\n",
        "# Legendas\n",
        "#plt.legend(loc='lower left')\n",
        "#plt.legend(loc=2)\n",
        "plt.legend(loc='best')\n",
        "plt.figure();"
      ],
      "metadata": {
        "colab": {
          "base_uri": "https://localhost:8080/",
          "height": 327
        },
        "id": "i8pWqZK7XUWg",
        "outputId": "b53abfaf-2c0c-4116-c9e9-c8abccb5bd97"
      },
      "execution_count": null,
      "outputs": [
        {
          "output_type": "display_data",
          "data": {
            "text/plain": [
              "<Figure size 432x288 with 1 Axes>"
            ],
            "image/png": "[encoded data removed]"
          },
          "metadata": {
            "needs_background": "light"
          }
        },
        {
          "output_type": "display_data",
          "data": {
            "text/plain": [
              "<Figure size 432x288 with 0 Axes>"
            ]
          },
          "metadata": {}
        }
      ]
    },
    {
      "cell_type": "markdown",
      "source": [
        "###Realizando as predições por ação individualmente"
      ],
      "metadata": {
        "id": "n93DMuDPCR8O"
      }
    },
    {
      "cell_type": "code",
      "source": [
        "y=[]\n",
        "for a in df['PETR4.SA', 'Close']:\n",
        "  y.append(a)"
      ],
      "metadata": {
        "id": "FeMs3OSiXT-N"
      },
      "execution_count": null,
      "outputs": []
    },
    {
      "cell_type": "code",
      "source": [
        "x = np.arange (1,len(y)+1,1)\n"
      ],
      "metadata": {
        "id": "6ckPplKr4HoJ"
      },
      "execution_count": null,
      "outputs": []
    },
    {
      "cell_type": "markdown",
      "source": [
        "**padronização dos dados**"
      ],
      "metadata": {
        "id": "49d1UbukDB-r"
      }
    },
    {
      "cell_type": "code",
      "source": [
        "minimo = np.min(y)\n",
        "maximo = np.max(y)\n",
        "y = (y - minimo)/(maximo - minimo)"
      ],
      "metadata": {
        "id": "gGV-6ynrC8Wi"
      },
      "execution_count": null,
      "outputs": []
    },
    {
      "cell_type": "markdown",
      "source": [
        "**Preparação dos conjuntos de dados de treinamento e de teste**"
      ],
      "metadata": {
        "id": "YWjd72H6mbgp"
      }
    },
    {
      "cell_type": "code",
      "source": [
        "percentual_treinamento = 0.7\n",
        "qtd_treinamento = int(percentual_treinamento*(len(x)));\n",
        "\n",
        "x_treino = x[0:qtd_treinamento] \n",
        "x_teste = x[qtd_treinamento:]\n",
        "\n",
        "y_treino = y[0:qtd_treinamento]\n",
        "y_teste = y[qtd_treinamento:]\n",
        "\n",
        "treino = np.array(list(zip(x_treino, y_treino)))\n",
        "teste = np.array(list(zip(x_teste, y_teste)))\n",
        "\n",
        "for i in range(5):\n",
        "  print('treino[{}]: {}'.format(i+1, treino[i]))\n"
      ],
      "metadata": {
        "colab": {
          "base_uri": "https://localhost:8080/"
        },
        "id": "MTKaJiyf9C-0",
        "outputId": "f35f0237-fc69-4d37-a37e-a24fdabdf743"
      },
      "execution_count": null,
      "outputs": [
        {
          "output_type": "stream",
          "name": "stdout",
          "text": [
            "treino[1]: [1.         0.15596335]\n",
            "treino[2]: [2.         0.88073298]\n",
            "treino[3]: [3.        0.9541274]\n",
            "treino[4]: [4.         0.86238569]\n",
            "treino[5]: [5.         0.89908202]\n"
          ]
        }
      ]
    },
    {
      "cell_type": "markdown",
      "source": [
        "**Organização do modelo de dados**"
      ],
      "metadata": {
        "id": "gqkEK26EmmAQ"
      }
    },
    {
      "cell_type": "code",
      "source": [
        "def create_dataset(n_X, look_back):\n",
        "  dataX = []\n",
        "  dataY = []\n",
        "  for i in range(len(n_X)-look_back):\n",
        "    a = n_X[i:(i+look_back), ]\n",
        "    print('a: {}'.format(a))\n",
        "    dataX.append(a)\n",
        "    dataY.append(n_X[i + look_back, ])\n",
        "  print('dataX: {}'.format(dataX))\n",
        "  return np.array(dataX), np.array(dataY)"
      ],
      "metadata": {
        "id": "urjHNdyXmrqg"
      },
      "execution_count": null,
      "outputs": []
    },
    {
      "cell_type": "code",
      "source": [
        "def preparar_dados(dados_serie, look_back):\n",
        "  X, y =[],[]\n",
        "  n = len(dados_serie)\n",
        "  for i in range(n - look_back):\n",
        "    posicao_fim = i + look_back\n",
        "    if posicao_fim <= n:\n",
        "      seq_x = dados_serie[i:posicao_fim,1]\n",
        "      seq_y = dados_serie[posicao_fim,1]\n",
        "      X.append(seq_x)\n",
        "      y.append(seq_y)\n",
        "  return np.array(X), np.array(y)"
      ],
      "metadata": {
        "id": "NnHjRR6Qmxaw"
      },
      "execution_count": null,
      "outputs": []
    },
    {
      "cell_type": "markdown",
      "source": [
        "**Visualização da estruturação dos dados**"
      ],
      "metadata": {
        "id": "dosjjfY1m72Q"
      }
    },
    {
      "cell_type": "code",
      "source": [
        "  look_back = 2\n",
        "\n",
        "  x_treino, y_treino = preparar_dados(treino, look_back)\n",
        "  x_teste, y_teste = preparar_dados(teste, look_back)\n",
        "  n_caracteristicas = 1 #série monovariada\n",
        "  x_treino = x_treino.reshape((x_treino.shape[0], \n",
        "                               x_treino.shape[1], \n",
        "                               n_caracteristicas))\n",
        "  x_teste = x_teste.reshape((x_teste.shape[0], \n",
        "                         x_teste.shape[1], \n",
        "                         n_caracteristicas))\n",
        "\n",
        "#print('ax: {}'.format(trainx))\n",
        "#print('y: {}'.format(y))\n",
        "  for i in range(5):\n",
        "    print('treino[{}]: {} -> {}'.format(i+1, x_treino[i], y_treino[i]))\n"
      ],
      "metadata": {
        "colab": {
          "base_uri": "https://localhost:8080/"
        },
        "id": "Y1KFvmc_m_j4",
        "outputId": "7c51c170-b76b-43bb-f488-7bf8dcc61e0f"
      },
      "execution_count": null,
      "outputs": [
        {
          "output_type": "stream",
          "name": "stdout",
          "text": [
            "treino[1]: [[0.15596335]\n",
            " [0.88073298]] -> 0.9541273968719487\n",
            "treino[2]: [[0.88073298]\n",
            " [0.9541274 ]] -> 0.8623856903376181\n",
            "treino[3]: [[0.9541274 ]\n",
            " [0.86238569]] -> 0.8990820229791732\n",
            "treino[4]: [[0.86238569]\n",
            " [0.89908202]] -> 1.0\n",
            "treino[5]: [[0.89908202]\n",
            " [1.        ]] -> 0.6238534036544094\n"
          ]
        }
      ]
    },
    {
      "cell_type": "markdown",
      "source": [
        "**Criação do Modelo de Redes Neurais**"
      ],
      "metadata": {
        "id": "xo0CRClInDsQ"
      }
    },
    {
      "cell_type": "code",
      "source": [
        "import tensorflow as tf\n",
        "from keras.models import Sequential\n",
        "from keras.layers import LSTM, Dense, Dropout\n",
        "n_etapas = x_treino.shape[1]\n",
        "n_caracteristicas = x_treino.shape[2]\n",
        "epocas = 20\n",
        "n_unidades = 100\n",
        "tf.random.set_seed(8888) # Setting seed to ensure reproducibility.\n",
        "modelo = Sequential()\n",
        "camada_de_entrada=(n_etapas, n_caracteristicas)\n",
        "modelo.add(LSTM(n_unidades, \n",
        "               return_sequences = True, \n",
        "               input_shape = camada_de_entrada))\n",
        "modelo.add(Dropout(0.2))\n",
        "modelo.add(LSTM(128,\n",
        "               input_shape = camada_de_entrada))\n",
        "modelo.add(Dense(1))\n"
      ],
      "metadata": {
        "id": "pqKS7-7VnIfg"
      },
      "execution_count": null,
      "outputs": []
    },
    {
      "cell_type": "markdown",
      "source": [
        "**Visualização do modelo**"
      ],
      "metadata": {
        "id": "8lSO8fdCnM04"
      }
    },
    {
      "cell_type": "code",
      "source": [
        "modelo.summary()"
      ],
      "metadata": {
        "id": "SAs1oNySnPkf",
        "colab": {
          "base_uri": "https://localhost:8080/"
        },
        "outputId": "4f947826-c68d-49b2-94aa-39d33d4d13d5"
      },
      "execution_count": null,
      "outputs": [
        {
          "output_type": "stream",
          "name": "stdout",
          "text": [
            "Model: \"sequential_4\"\n",
            "_________________________________________________________________\n",
            " Layer (type)                Output Shape              Param #   \n",
            "=================================================================\n",
            " lstm_8 (LSTM)               (None, 2, 100)            40800     \n",
            "                                                                 \n",
            " dropout_4 (Dropout)         (None, 2, 100)            0         \n",
            "                                                                 \n",
            " lstm_9 (LSTM)               (None, 128)               117248    \n",
            "                                                                 \n",
            " dense_4 (Dense)             (None, 1)                 129       \n",
            "                                                                 \n",
            "=================================================================\n",
            "Total params: 158,177\n",
            "Trainable params: 158,177\n",
            "Non-trainable params: 0\n",
            "_________________________________________________________________\n"
          ]
        }
      ]
    },
    {
      "cell_type": "markdown",
      "source": [
        "**Escolha de Hiperparâmetros**"
      ],
      "metadata": {
        "id": "ePJaHrsPnT-Y"
      }
    },
    {
      "cell_type": "code",
      "source": [
        "modelo.compile(loss = 'mean_squared_error', \n",
        "              optimizer = 'adam')"
      ],
      "metadata": {
        "id": "gU3QB1XinXX_"
      },
      "execution_count": null,
      "outputs": []
    },
    {
      "cell_type": "markdown",
      "source": [
        "**Treinamento do Modelo**"
      ],
      "metadata": {
        "id": "yCGRLDm8nZBH"
      }
    },
    {
      "cell_type": "code",
      "source": [
        "\n",
        "\n",
        "historico = modelo.fit(x_treino, y_treino,\n",
        "                       epochs = epocas,\n",
        "                       batch_size = 70,\n",
        "                       verbose = False,\n",
        "                       shuffle = False,\n",
        "                       validation_split = 0.3)"
      ],
      "metadata": {
        "id": "XR-vfzzFndsX"
      },
      "execution_count": null,
      "outputs": []
    },
    {
      "cell_type": "markdown",
      "source": [
        "**Visualização do \"aprendizado\"**"
      ],
      "metadata": {
        "id": "UuMhp0a8nlBn"
      }
    },
    {
      "cell_type": "code",
      "source": [
        "import pandas as pd\n",
        "hist = pd.DataFrame(historico.history)\n",
        "hist.head()"
      ],
      "metadata": {
        "id": "yqzDMfaMnl2g",
        "colab": {
          "base_uri": "https://localhost:8080/",
          "height": 206
        },
        "outputId": "aab6723b-6172-47ed-8f69-8e9679bf42c0"
      },
      "execution_count": null,
      "outputs": [
        {
          "output_type": "execute_result",
          "data": {
            "text/plain": [
              "       loss  val_loss\n",
              "0  0.823251  0.657413\n",
              "1  0.783242  0.621526\n",
              "2  0.750230  0.586252\n",
              "3  0.709917  0.551158\n",
              "4  0.672459  0.515878"
            ],
            "text/html": [
              "\n",
              "  <div id=\"df-21151805-82e5-43d3-9621-814f5c8101f8\">\n",
              "    <div class=\"colab-df-container\">\n",
              "      <div>\n",
              "<style scoped>\n",
              "    .dataframe tbody tr th:only-of-type {\n",
              "        vertical-align: middle;\n",
              "    }\n",
              "\n",
              "    .dataframe tbody tr th {\n",
              "        vertical-align: top;\n",
              "    }\n",
              "\n",
              "    .dataframe thead th {\n",
              "        text-align: right;\n",
              "    }\n",
              "</style>\n",
              "<table border=\"1\" class=\"dataframe\">\n",
              "  <thead>\n",
              "    <tr style=\"text-align: right;\">\n",
              "      <th></th>\n",
              "      <th>loss</th>\n",
              "      <th>val_loss</th>\n",
              "    </tr>\n",
              "  </thead>\n",
              "  <tbody>\n",
              "    <tr>\n",
              "      <th>0</th>\n",
              "      <td>0.823251</td>\n",
              "      <td>0.657413</td>\n",
              "    </tr>\n",
              "    <tr>\n",
              "      <th>1</th>\n",
              "      <td>0.783242</td>\n",
              "      <td>0.621526</td>\n",
              "    </tr>\n",
              "    <tr>\n",
              "      <th>2</th>\n",
              "      <td>0.750230</td>\n",
              "      <td>0.586252</td>\n",
              "    </tr>\n",
              "    <tr>\n",
              "      <th>3</th>\n",
              "      <td>0.709917</td>\n",
              "      <td>0.551158</td>\n",
              "    </tr>\n",
              "    <tr>\n",
              "      <th>4</th>\n",
              "      <td>0.672459</td>\n",
              "      <td>0.515878</td>\n",
              "    </tr>\n",
              "  </tbody>\n",
              "</table>\n",
              "</div>\n",
              "      <button class=\"colab-df-convert\" onclick=\"convertToInteractive('df-21151805-82e5-43d3-9621-814f5c8101f8')\"\n",
              "              title=\"Convert this dataframe to an interactive table.\"\n",
              "              style=\"display:none;\">\n",
              "        \n",
              "  <svg xmlns=\"http://www.w3.org/2000/svg\" height=\"24px\"viewBox=\"0 0 24 24\"\n",
              "       width=\"24px\">\n",
              "    <path d=\"M0 0h24v24H0V0z\" fill=\"none\"/>\n",
              "    <path d=\"M18.56 5.44l.94 2.06.94-2.06 2.06-.94-2.06-.94-.94-2.06-.94 2.06-2.06.94zm-11 1L8.5 8.5l.94-2.06 2.06-.94-2.06-.94L8.5 2.5l-.94 2.06-2.06.94zm10 10l.94 2.06.94-2.06 2.06-.94-2.06-.94-.94-2.06-.94 2.06-2.06.94z\"/><path d=\"M17.41 7.96l-1.37-1.37c-.4-.4-.92-.59-1.43-.59-.52 0-1.04.2-1.43.59L10.3 9.45l-7.72 7.72c-.78.78-.78 2.05 0 2.83L4 21.41c.39.39.9.59 1.41.59.51 0 1.02-.2 1.41-.59l7.78-7.78 2.81-2.81c.8-.78.8-2.07 0-2.86zM5.41 20L4 18.59l7.72-7.72 1.47 1.35L5.41 20z\"/>\n",
              "  </svg>\n",
              "      </button>\n",
              "      \n",
              "  <style>\n",
              "    .colab-df-container {\n",
              "      display:flex;\n",
              "      flex-wrap:wrap;\n",
              "      gap: 12px;\n",
              "    }\n",
              "\n",
              "    .colab-df-convert {\n",
              "      background-color: #E8F0FE;\n",
              "      border: none;\n",
              "      border-radius: 50%;\n",
              "      cursor: pointer;\n",
              "      display: none;\n",
              "      fill: #1967D2;\n",
              "      height: 32px;\n",
              "      padding: 0 0 0 0;\n",
              "      width: 32px;\n",
              "    }\n",
              "\n",
              "    .colab-df-convert:hover {\n",
              "      background-color: #E2EBFA;\n",
              "      box-shadow: 0px 1px 2px rgba(60, 64, 67, 0.3), 0px 1px 3px 1px rgba(60, 64, 67, 0.15);\n",
              "      fill: #174EA6;\n",
              "    }\n",
              "\n",
              "    [theme=dark] .colab-df-convert {\n",
              "      background-color: #3B4455;\n",
              "      fill: #D2E3FC;\n",
              "    }\n",
              "\n",
              "    [theme=dark] .colab-df-convert:hover {\n",
              "      background-color: #434B5C;\n",
              "      box-shadow: 0px 1px 3px 1px rgba(0, 0, 0, 0.15);\n",
              "      filter: drop-shadow(0px 1px 2px rgba(0, 0, 0, 0.3));\n",
              "      fill: #FFFFFF;\n",
              "    }\n",
              "  </style>\n",
              "\n",
              "      <script>\n",
              "        const buttonEl =\n",
              "          document.querySelector('#df-21151805-82e5-43d3-9621-814f5c8101f8 button.colab-df-convert');\n",
              "        buttonEl.style.display =\n",
              "          google.colab.kernel.accessAllowed ? 'block' : 'none';\n",
              "\n",
              "        async function convertToInteractive(key) {\n",
              "          const element = document.querySelector('#df-21151805-82e5-43d3-9621-814f5c8101f8');\n",
              "          const dataTable =\n",
              "            await google.colab.kernel.invokeFunction('convertToInteractive',\n",
              "                                                     [key], {});\n",
              "          if (!dataTable) return;\n",
              "\n",
              "          const docLinkHtml = 'Like what you see? Visit the ' +\n",
              "            '<a target=\"_blank\" href=https://colab.research.google.com/notebooks/data_table.ipynb>data table notebook</a>'\n",
              "            + ' to learn more about interactive tables.';\n",
              "          element.innerHTML = '';\n",
              "          dataTable['output_type'] = 'display_data';\n",
              "          await google.colab.output.renderOutput(dataTable, element);\n",
              "          const docLink = document.createElement('div');\n",
              "          docLink.innerHTML = docLinkHtml;\n",
              "          element.appendChild(docLink);\n",
              "        }\n",
              "      </script>\n",
              "    </div>\n",
              "  </div>\n",
              "  "
            ]
          },
          "metadata": {},
          "execution_count": 164
        }
      ]
    },
    {
      "cell_type": "markdown",
      "source": [
        "**Precisão do Modelo**"
      ],
      "metadata": {
        "id": "J2OaLMYRntF_"
      }
    },
    {
      "cell_type": "code",
      "source": [
        "loss = modelo.evaluate(x_teste, y_teste, batch_size=64)\n",
        "print(\"loss: {}\".format(loss))"
      ],
      "metadata": {
        "id": "loDMZHoDnxOX",
        "colab": {
          "base_uri": "https://localhost:8080/"
        },
        "outputId": "c2825634-bd0c-4cf4-afe0-779266938bd1"
      },
      "execution_count": null,
      "outputs": [
        {
          "output_type": "stream",
          "name": "stdout",
          "text": [
            "1/1 [==============================] - 0s 40ms/step - loss: 0.0798\n",
            "loss: 0.07980065792798996\n"
          ]
        }
      ]
    },
    {
      "cell_type": "markdown",
      "source": [
        "**Visualização do Processo de Aprendizado**"
      ],
      "metadata": {
        "id": "IcBBbwt4n41_"
      }
    },
    {
      "cell_type": "code",
      "source": [
        "plt.title('Cálculo do Erro ao longo do treinamento')\n",
        "plt.ylabel('Erro')\n",
        "plt.xlabel('Época')\n",
        "plt.plot(historico.history['loss'])\n",
        "plt.plot(historico.history['val_loss'])\n",
        "plt.legend(['loss (treinamento)', 'val_loss (validação)'], loc='upper right')\n",
        "plt.show()"
      ],
      "metadata": {
        "id": "JTxXSTnon9FI",
        "colab": {
          "base_uri": "https://localhost:8080/",
          "height": 297
        },
        "outputId": "902ad325-3fa9-4e59-ee57-0598b3cb711f"
      },
      "execution_count": null,
      "outputs": [
        {
          "output_type": "display_data",
          "data": {
            "text/plain": [
              "<Figure size 432x288 with 1 Axes>"
            ],
            "image/png": "[encoded data removed]"
          },
          "metadata": {
            "needs_background": "light"
          }
        }
      ]
    },
    {
      "cell_type": "markdown",
      "source": [
        "**Realização da Predição**"
      ],
      "metadata": {
        "id": "_cWEUFIpoBOI"
      }
    },
    {
      "cell_type": "code",
      "source": [
        "predicao = modelo.predict(x_teste)"
      ],
      "metadata": {
        "id": "g9OBs8WqoErA",
        "colab": {
          "base_uri": "https://localhost:8080/"
        },
        "outputId": "bf68bc16-2a0d-4e93-850f-263010450e66"
      },
      "execution_count": null,
      "outputs": [
        {
          "output_type": "stream",
          "name": "stdout",
          "text": [
            "1/1 [==============================] - 3s 3s/step\n"
          ]
        }
      ]
    },
    {
      "cell_type": "code",
      "source": [
        "look_back = 1\n",
        "valores_reais_y = y_teste\n",
        "plt.figure(figsize=(50,10))\n",
        "plt.plot(list(range(len(valores_reais_y))), \n",
        "         valores_reais_y, \n",
        "         marker='.', \n",
        "         label=\"Real\")\n",
        "lst_dados_predicao=[w[0] for w in predicao]\n",
        "plt.plot(list(np.arange(len(predicao))-look_back), \n",
        "         lst_dados_predicao, \n",
        "         'r',label=\"Estimação do Modelo\")\n",
        "plt.ylabel('valores', size=15)\n",
        "plt.xlabel('período', size=15)\n",
        "plt.legend(fontsize=15)\n",
        "plt.show()"
      ],
      "metadata": {
        "id": "4qEqLzQYoFPg",
        "colab": {
          "base_uri": "https://localhost:8080/",
          "height": 312
        },
        "outputId": "41f968f9-8ef0-4049-e596-23f3d157e5f7"
      },
      "execution_count": null,
      "outputs": [
        {
          "output_type": "display_data",
          "data": {
            "text/plain": [
              "<Figure size 3600x720 with 1 Axes>"
            ],
            "image/png": "[encoded data removed]"
          },
          "metadata": {
            "needs_background": "light"
          }
        }
      ]
    },
    {
      "cell_type": "markdown",
      "source": [
        "# **Fazendo Predições**"
      ],
      "metadata": {
        "id": "e1iCv92v6Ki7"
      }
    },
    {
      "cell_type": "code",
      "source": [
        "len(valores_reais_y)"
      ],
      "metadata": {
        "id": "Mz9-UNjP6OhL",
        "colab": {
          "base_uri": "https://localhost:8080/"
        },
        "outputId": "f691da60-38b7-47e9-9d8b-71afec769174"
      },
      "execution_count": null,
      "outputs": [
        {
          "output_type": "execute_result",
          "data": {
            "text/plain": [
              "1"
            ]
          },
          "metadata": {},
          "execution_count": 169
        }
      ]
    },
    {
      "cell_type": "code",
      "source": [
        "len(lst_dados_predicao)"
      ],
      "metadata": {
        "id": "lSQlMOIq6V2L",
        "colab": {
          "base_uri": "https://localhost:8080/"
        },
        "outputId": "eb8381aa-d161-4204-df9f-9082d349bbb1"
      },
      "execution_count": null,
      "outputs": [
        {
          "output_type": "execute_result",
          "data": {
            "text/plain": [
              "1"
            ]
          },
          "metadata": {},
          "execution_count": 170
        }
      ]
    },
    {
      "cell_type": "code",
      "source": [
        "n=len(x_teste)\n",
        "x_teste[n-1] #lembrar que no Python a indexação começa na posição 0"
      ],
      "metadata": {
        "id": "7VuvOUMb7BZB",
        "colab": {
          "base_uri": "https://localhost:8080/"
        },
        "outputId": "b05db754-62f4-4358-db7a-0bd6837e3fc6"
      },
      "execution_count": null,
      "outputs": [
        {
          "output_type": "execute_result",
          "data": {
            "text/plain": [
              "array([[0.        ],\n",
              "       [0.72476963]])"
            ]
          },
          "metadata": {},
          "execution_count": 171
        }
      ]
    },
    {
      "cell_type": "code",
      "source": [
        "minha_predicao = modelo.predict([x_teste[n-1]])"
      ],
      "metadata": {
        "id": "SsytATo07n_q",
        "colab": {
          "base_uri": "https://localhost:8080/"
        },
        "outputId": "b37bf3ca-6215-4a9b-99ea-ec1c02aa92e2"
      },
      "execution_count": null,
      "outputs": [
        {
          "output_type": "stream",
          "name": "stderr",
          "text": [
            "WARNING:tensorflow:Model was constructed with shape (None, 2, 1) for input KerasTensor(type_spec=TensorSpec(shape=(None, 2, 1), dtype=tf.float32, name='lstm_8_input'), name='lstm_8_input', description=\"created by layer 'lstm_8_input'\"), but it was called on an input with incompatible shape (None, 1, 1).\n"
          ]
        },
        {
          "output_type": "stream",
          "name": "stdout",
          "text": [
            "1/1 [==============================] - 2s 2s/step\n"
          ]
        }
      ]
    },
    {
      "cell_type": "code",
      "source": [
        "print(f'minha predição é: {minha_predicao}')"
      ],
      "metadata": {
        "id": "EmH1ZCa378BQ",
        "colab": {
          "base_uri": "https://localhost:8080/"
        },
        "outputId": "fc27eac1-5427-4558-bfae-bd7ea987c8c7"
      },
      "execution_count": null,
      "outputs": [
        {
          "output_type": "stream",
          "name": "stdout",
          "text": [
            "minha predição é: [[0.12617773]\n",
            " [0.24234118]]\n"
          ]
        }
      ]
    },
    {
      "cell_type": "markdown",
      "source": [
        "#ABUD34"
      ],
      "metadata": {
        "id": "2Np9wbO9V1R7"
      }
    },
    {
      "cell_type": "code",
      "source": [
        "y=[]\n",
        "for a in df['ABUD34.SA', 'Close']:\n",
        "  y.append(a)"
      ],
      "metadata": {
        "id": "VgKX_Q_5VjKt"
      },
      "execution_count": null,
      "outputs": []
    },
    {
      "cell_type": "code",
      "source": [
        "x = np.arange (1,len(y)+1,1)\n"
      ],
      "metadata": {
        "id": "0vK6WwQaVjKx"
      },
      "execution_count": null,
      "outputs": []
    },
    {
      "cell_type": "markdown",
      "source": [
        "**padronização dos dados**"
      ],
      "metadata": {
        "id": "APSHPY4-VjKy"
      }
    },
    {
      "cell_type": "code",
      "source": [
        "minimo = np.min(y)\n",
        "maximo = np.max(y)\n",
        "y = (y - minimo)/(maximo - minimo)"
      ],
      "metadata": {
        "id": "nF5mkNquVjKy"
      },
      "execution_count": null,
      "outputs": []
    },
    {
      "cell_type": "markdown",
      "source": [
        "**Preparação dos conjuntos de dados de treinamento e de teste**"
      ],
      "metadata": {
        "id": "e_PMSbXzVjKy"
      }
    },
    {
      "cell_type": "code",
      "source": [
        "percentual_treinamento = 0.7\n",
        "qtd_treinamento = int(percentual_treinamento*(len(x)));\n",
        "\n",
        "x_treino = x[0:qtd_treinamento] \n",
        "x_teste = x[qtd_treinamento:]\n",
        "\n",
        "y_treino = y[0:qtd_treinamento]\n",
        "y_teste = y[qtd_treinamento:]\n",
        "\n",
        "treino = np.array(list(zip(x_treino, y_treino)))\n",
        "teste = np.array(list(zip(x_teste, y_teste)))\n",
        "\n",
        "for i in range(5):\n",
        "  print('treino[{}]: {}'.format(i+1, treino[i]))\n"
      ],
      "metadata": {
        "colab": {
          "base_uri": "https://localhost:8080/"
        },
        "outputId": "d698a834-b5fa-4207-9d2b-aa6a0f33e0a9",
        "id": "LMvlNUslVjKy"
      },
      "execution_count": null,
      "outputs": [
        {
          "output_type": "stream",
          "name": "stdout",
          "text": [
            "treino[1]: [1.         0.03906194]\n",
            "treino[2]: [2.         0.01562537]\n",
            "treino[3]: [3.         0.01562537]\n",
            "treino[4]: [4.         0.01562537]\n",
            "treino[5]: [5.         0.47656343]\n"
          ]
        }
      ]
    },
    {
      "cell_type": "markdown",
      "source": [
        "**Organização do modelo de dados**"
      ],
      "metadata": {
        "id": "I_sf2rHgVjKy"
      }
    },
    {
      "cell_type": "code",
      "source": [
        "def create_dataset(n_X, look_back):\n",
        "  dataX = []\n",
        "  dataY = []\n",
        "  for i in range(len(n_X)-look_back):\n",
        "    a = n_X[i:(i+look_back), ]\n",
        "    print('a: {}'.format(a))\n",
        "    dataX.append(a)\n",
        "    dataY.append(n_X[i + look_back, ])\n",
        "  print('dataX: {}'.format(dataX))\n",
        "  return np.array(dataX), np.array(dataY)"
      ],
      "metadata": {
        "id": "t9zIYiTNVjKy"
      },
      "execution_count": null,
      "outputs": []
    },
    {
      "cell_type": "code",
      "source": [
        "def preparar_dados(dados_serie, look_back):\n",
        "  X, y =[],[]\n",
        "  n = len(dados_serie)\n",
        "  for i in range(n - look_back):\n",
        "    posicao_fim = i + look_back\n",
        "    if posicao_fim <= n:\n",
        "      seq_x = dados_serie[i:posicao_fim,1]\n",
        "      seq_y = dados_serie[posicao_fim,1]\n",
        "      X.append(seq_x)\n",
        "      y.append(seq_y)\n",
        "  return np.array(X), np.array(y)"
      ],
      "metadata": {
        "id": "M6U_bbbzVjKy"
      },
      "execution_count": null,
      "outputs": []
    },
    {
      "cell_type": "markdown",
      "source": [
        "**Visualização da estruturação dos dados**"
      ],
      "metadata": {
        "id": "WckOuEyzVjKy"
      }
    },
    {
      "cell_type": "code",
      "source": [
        "  look_back = 2\n",
        "\n",
        "  x_treino, y_treino = preparar_dados(treino, look_back)\n",
        "  x_teste, y_teste = preparar_dados(teste, look_back)\n",
        "  n_caracteristicas = 1 #série monovariada\n",
        "  x_treino = x_treino.reshape((x_treino.shape[0], \n",
        "                               x_treino.shape[1], \n",
        "                               n_caracteristicas))\n",
        "  x_teste = x_teste.reshape((x_teste.shape[0], \n",
        "                         x_teste.shape[1], \n",
        "                         n_caracteristicas))\n",
        "\n",
        "#print('ax: {}'.format(trainx))\n",
        "#print('y: {}'.format(y))\n",
        "  for i in range(5):\n",
        "    print('treino[{}]: {} -> {}'.format(i+1, x_treino[i], y_treino[i]))\n",
        "\n",
        "\n",
        "\n"
      ],
      "metadata": {
        "colab": {
          "base_uri": "https://localhost:8080/"
        },
        "outputId": "2b5115f5-bba3-4255-f28b-ee5c4b1c85de",
        "id": "ib94jEJbVjKy"
      },
      "execution_count": null,
      "outputs": [
        {
          "output_type": "stream",
          "name": "stdout",
          "text": [
            "treino[1]: [[0.03906194]\n",
            " [0.01562537]] -> 0.015625372529385118\n",
            "treino[2]: [[0.01562537]\n",
            " [0.01562537]] -> 0.015625372529385118\n",
            "treino[3]: [[0.01562537]\n",
            " [0.01562537]] -> 0.4765634313234628\n",
            "treino[4]: [[0.01562537]\n",
            " [0.47656343]] -> 0.4765634313234628\n",
            "treino[5]: [[0.47656343]\n",
            " [0.47656343]] -> 0.0\n"
          ]
        }
      ]
    },
    {
      "cell_type": "markdown",
      "source": [
        "**Criação do Modelo de Redes Neurais**"
      ],
      "metadata": {
        "id": "_tStQ5T1VjKy"
      }
    },
    {
      "cell_type": "code",
      "source": [
        "import tensorflow as tf\n",
        "from keras.models import Sequential\n",
        "from keras.layers import LSTM, Dense, Dropout\n",
        "n_etapas = x_treino.shape[1]\n",
        "n_caracteristicas = x_treino.shape[2]\n",
        "epocas = 20\n",
        "n_unidades = 100\n",
        "tf.random.set_seed(8888) # Setting seed to ensure reproducibility.\n",
        "modelo = Sequential()\n",
        "camada_de_entrada=(n_etapas, n_caracteristicas)\n",
        "modelo.add(LSTM(n_unidades, \n",
        "               return_sequences = True, \n",
        "               input_shape = camada_de_entrada))\n",
        "modelo.add(Dropout(0.2))\n",
        "modelo.add(LSTM(128,\n",
        "               input_shape = camada_de_entrada))\n",
        "modelo.add(Dense(1))\n"
      ],
      "metadata": {
        "id": "PXaxrsd7VjKy"
      },
      "execution_count": null,
      "outputs": []
    },
    {
      "cell_type": "markdown",
      "source": [
        "**Visualização do modelo**"
      ],
      "metadata": {
        "id": "Bxz_A9dZVjKy"
      }
    },
    {
      "cell_type": "code",
      "source": [
        "modelo.summary()"
      ],
      "metadata": {
        "colab": {
          "base_uri": "https://localhost:8080/"
        },
        "outputId": "4f6599d3-e907-472e-bd56-0e9ce3341bd8",
        "id": "TZbiEwakVjKy"
      },
      "execution_count": null,
      "outputs": [
        {
          "output_type": "stream",
          "name": "stdout",
          "text": [
            "Model: \"sequential_5\"\n",
            "_________________________________________________________________\n",
            " Layer (type)                Output Shape              Param #   \n",
            "=================================================================\n",
            " lstm_10 (LSTM)              (None, 2, 100)            40800     \n",
            "                                                                 \n",
            " dropout_5 (Dropout)         (None, 2, 100)            0         \n",
            "                                                                 \n",
            " lstm_11 (LSTM)              (None, 128)               117248    \n",
            "                                                                 \n",
            " dense_5 (Dense)             (None, 1)                 129       \n",
            "                                                                 \n",
            "=================================================================\n",
            "Total params: 158,177\n",
            "Trainable params: 158,177\n",
            "Non-trainable params: 0\n",
            "_________________________________________________________________\n"
          ]
        }
      ]
    },
    {
      "cell_type": "markdown",
      "source": [
        "**Escolha de Hiperparâmetros**"
      ],
      "metadata": {
        "id": "ghpZI1ntVjKy"
      }
    },
    {
      "cell_type": "code",
      "source": [
        "modelo.compile(loss = 'mean_squared_error', \n",
        "              optimizer = 'adam')"
      ],
      "metadata": {
        "id": "b7R6mrMDVjKz"
      },
      "execution_count": null,
      "outputs": []
    },
    {
      "cell_type": "markdown",
      "source": [
        "**Treinamento do Modelo**"
      ],
      "metadata": {
        "id": "tFcs-q9JVjKz"
      }
    },
    {
      "cell_type": "code",
      "source": [
        "\n",
        "\n",
        "historico = modelo.fit(x_treino, y_treino,\n",
        "                       epochs = epocas,\n",
        "                       batch_size = 70,\n",
        "                       verbose = False,\n",
        "                       shuffle = False,\n",
        "                       validation_split = 0.3)"
      ],
      "metadata": {
        "id": "s5JfGS1sVjKz"
      },
      "execution_count": null,
      "outputs": []
    },
    {
      "cell_type": "markdown",
      "source": [
        "**Visualização do \"aprendizado\"**"
      ],
      "metadata": {
        "id": "aadsLl5ZVjKz"
      }
    },
    {
      "cell_type": "code",
      "source": [
        "import pandas as pd\n",
        "hist = pd.DataFrame(historico.history)\n",
        "hist.head()"
      ],
      "metadata": {
        "colab": {
          "base_uri": "https://localhost:8080/",
          "height": 206
        },
        "outputId": "d6903829-6b55-4c71-b56e-bb64f990f4a1",
        "id": "54UfU8voVjKz"
      },
      "execution_count": null,
      "outputs": [
        {
          "output_type": "execute_result",
          "data": {
            "text/plain": [
              "       loss  val_loss\n",
              "0  0.075849  0.108594\n",
              "1  0.073015  0.103973\n",
              "2  0.070211  0.099531\n",
              "3  0.067467  0.095218\n",
              "4  0.064741  0.091003"
            ],
            "text/html": [
              "\n",
              "  <div id=\"df-43633294-f076-4085-815d-02e778be4258\">\n",
              "    <div class=\"colab-df-container\">\n",
              "      <div>\n",
              "<style scoped>\n",
              "    .dataframe tbody tr th:only-of-type {\n",
              "        vertical-align: middle;\n",
              "    }\n",
              "\n",
              "    .dataframe tbody tr th {\n",
              "        vertical-align: top;\n",
              "    }\n",
              "\n",
              "    .dataframe thead th {\n",
              "        text-align: right;\n",
              "    }\n",
              "</style>\n",
              "<table border=\"1\" class=\"dataframe\">\n",
              "  <thead>\n",
              "    <tr style=\"text-align: right;\">\n",
              "      <th></th>\n",
              "      <th>loss</th>\n",
              "      <th>val_loss</th>\n",
              "    </tr>\n",
              "  </thead>\n",
              "  <tbody>\n",
              "    <tr>\n",
              "      <th>0</th>\n",
              "      <td>0.075849</td>\n",
              "      <td>0.108594</td>\n",
              "    </tr>\n",
              "    <tr>\n",
              "      <th>1</th>\n",
              "      <td>0.073015</td>\n",
              "      <td>0.103973</td>\n",
              "    </tr>\n",
              "    <tr>\n",
              "      <th>2</th>\n",
              "      <td>0.070211</td>\n",
              "      <td>0.099531</td>\n",
              "    </tr>\n",
              "    <tr>\n",
              "      <th>3</th>\n",
              "      <td>0.067467</td>\n",
              "      <td>0.095218</td>\n",
              "    </tr>\n",
              "    <tr>\n",
              "      <th>4</th>\n",
              "      <td>0.064741</td>\n",
              "      <td>0.091003</td>\n",
              "    </tr>\n",
              "  </tbody>\n",
              "</table>\n",
              "</div>\n",
              "      <button class=\"colab-df-convert\" onclick=\"convertToInteractive('df-43633294-f076-4085-815d-02e778be4258')\"\n",
              "              title=\"Convert this dataframe to an interactive table.\"\n",
              "              style=\"display:none;\">\n",
              "        \n",
              "  <svg xmlns=\"http://www.w3.org/2000/svg\" height=\"24px\"viewBox=\"0 0 24 24\"\n",
              "       width=\"24px\">\n",
              "    <path d=\"M0 0h24v24H0V0z\" fill=\"none\"/>\n",
              "    <path d=\"M18.56 5.44l.94 2.06.94-2.06 2.06-.94-2.06-.94-.94-2.06-.94 2.06-2.06.94zm-11 1L8.5 8.5l.94-2.06 2.06-.94-2.06-.94L8.5 2.5l-.94 2.06-2.06.94zm10 10l.94 2.06.94-2.06 2.06-.94-2.06-.94-.94-2.06-.94 2.06-2.06.94z\"/><path d=\"M17.41 7.96l-1.37-1.37c-.4-.4-.92-.59-1.43-.59-.52 0-1.04.2-1.43.59L10.3 9.45l-7.72 7.72c-.78.78-.78 2.05 0 2.83L4 21.41c.39.39.9.59 1.41.59.51 0 1.02-.2 1.41-.59l7.78-7.78 2.81-2.81c.8-.78.8-2.07 0-2.86zM5.41 20L4 18.59l7.72-7.72 1.47 1.35L5.41 20z\"/>\n",
              "  </svg>\n",
              "      </button>\n",
              "      \n",
              "  <style>\n",
              "    .colab-df-container {\n",
              "      display:flex;\n",
              "      flex-wrap:wrap;\n",
              "      gap: 12px;\n",
              "    }\n",
              "\n",
              "    .colab-df-convert {\n",
              "      background-color: #E8F0FE;\n",
              "      border: none;\n",
              "      border-radius: 50%;\n",
              "      cursor: pointer;\n",
              "      display: none;\n",
              "      fill: #1967D2;\n",
              "      height: 32px;\n",
              "      padding: 0 0 0 0;\n",
              "      width: 32px;\n",
              "    }\n",
              "\n",
              "    .colab-df-convert:hover {\n",
              "      background-color: #E2EBFA;\n",
              "      box-shadow: 0px 1px 2px rgba(60, 64, 67, 0.3), 0px 1px 3px 1px rgba(60, 64, 67, 0.15);\n",
              "      fill: #174EA6;\n",
              "    }\n",
              "\n",
              "    [theme=dark] .colab-df-convert {\n",
              "      background-color: #3B4455;\n",
              "      fill: #D2E3FC;\n",
              "    }\n",
              "\n",
              "    [theme=dark] .colab-df-convert:hover {\n",
              "      background-color: #434B5C;\n",
              "      box-shadow: 0px 1px 3px 1px rgba(0, 0, 0, 0.15);\n",
              "      filter: drop-shadow(0px 1px 2px rgba(0, 0, 0, 0.3));\n",
              "      fill: #FFFFFF;\n",
              "    }\n",
              "  </style>\n",
              "\n",
              "      <script>\n",
              "        const buttonEl =\n",
              "          document.querySelector('#df-43633294-f076-4085-815d-02e778be4258 button.colab-df-convert');\n",
              "        buttonEl.style.display =\n",
              "          google.colab.kernel.accessAllowed ? 'block' : 'none';\n",
              "\n",
              "        async function convertToInteractive(key) {\n",
              "          const element = document.querySelector('#df-43633294-f076-4085-815d-02e778be4258');\n",
              "          const dataTable =\n",
              "            await google.colab.kernel.invokeFunction('convertToInteractive',\n",
              "                                                     [key], {});\n",
              "          if (!dataTable) return;\n",
              "\n",
              "          const docLinkHtml = 'Like what you see? Visit the ' +\n",
              "            '<a target=\"_blank\" href=https://colab.research.google.com/notebooks/data_table.ipynb>data table notebook</a>'\n",
              "            + ' to learn more about interactive tables.';\n",
              "          element.innerHTML = '';\n",
              "          dataTable['output_type'] = 'display_data';\n",
              "          await google.colab.output.renderOutput(dataTable, element);\n",
              "          const docLink = document.createElement('div');\n",
              "          docLink.innerHTML = docLinkHtml;\n",
              "          element.appendChild(docLink);\n",
              "        }\n",
              "      </script>\n",
              "    </div>\n",
              "  </div>\n",
              "  "
            ]
          },
          "metadata": {},
          "execution_count": 185
        }
      ]
    },
    {
      "cell_type": "markdown",
      "source": [
        "**Precisão do Modelo**"
      ],
      "metadata": {
        "id": "xNlWqbknVjKz"
      }
    },
    {
      "cell_type": "code",
      "source": [
        "loss = modelo.evaluate(x_teste, y_teste, batch_size=64)\n",
        "print(\"loss: {}\".format(loss))"
      ],
      "metadata": {
        "colab": {
          "base_uri": "https://localhost:8080/"
        },
        "outputId": "214bfd30-3fb7-4215-9c82-3db1c1aea2ca",
        "id": "2ecMMamSVjKz"
      },
      "execution_count": null,
      "outputs": [
        {
          "output_type": "stream",
          "name": "stdout",
          "text": [
            "1/1 [==============================] - 0s 68ms/step - loss: 0.4700\n",
            "loss: 0.4700366258621216\n"
          ]
        }
      ]
    },
    {
      "cell_type": "markdown",
      "source": [
        "**Visualização do Processo de Aprendizado**"
      ],
      "metadata": {
        "id": "3rLykJNUVjKz"
      }
    },
    {
      "cell_type": "code",
      "source": [
        "plt.title('Cálculo do Erro ao longo do treinamento')\n",
        "plt.ylabel('Erro')\n",
        "plt.xlabel('Época')\n",
        "plt.plot(historico.history['loss'])\n",
        "plt.plot(historico.history['val_loss'])\n",
        "plt.legend(['loss (treinamento)', 'val_loss (validação)'], loc='upper right')\n",
        "plt.show()"
      ],
      "metadata": {
        "colab": {
          "base_uri": "https://localhost:8080/",
          "height": 297
        },
        "outputId": "f68ea13a-60bf-4b22-9819-57cd381402af",
        "id": "SwtWQPeyVjKz"
      },
      "execution_count": null,
      "outputs": [
        {
          "output_type": "display_data",
          "data": {
            "text/plain": [
              "<Figure size 432x288 with 1 Axes>"
            ],
            "image/png": "[encoded data removed]"
          },
          "metadata": {
            "needs_background": "light"
          }
        }
      ]
    },
    {
      "cell_type": "markdown",
      "source": [
        "**Realização da Predição**"
      ],
      "metadata": {
        "id": "1Z6Lm9y5VjKz"
      }
    },
    {
      "cell_type": "code",
      "source": [
        "predicao = modelo.predict(x_teste)"
      ],
      "metadata": {
        "colab": {
          "base_uri": "https://localhost:8080/"
        },
        "outputId": "c1dddd4b-433e-44db-e5e6-1bbd99905db6",
        "id": "o-SGEa1ZVjKz"
      },
      "execution_count": null,
      "outputs": [
        {
          "output_type": "stream",
          "name": "stderr",
          "text": [
            "WARNING:tensorflow:5 out of the last 5 calls to <function Model.make_predict_function.<locals>.predict_function at 0x7fdf14ee5280> triggered tf.function retracing. Tracing is expensive and the excessive number of tracings could be due to (1) creating @tf.function repeatedly in a loop, (2) passing tensors with different shapes, (3) passing Python objects instead of tensors. For (1), please define your @tf.function outside of the loop. For (2), @tf.function has reduce_retracing=True option that can avoid unnecessary retracing. For (3), please refer to https://www.tensorflow.org/guide/function#controlling_retracing and https://www.tensorflow.org/api_docs/python/tf/function for  more details.\n"
          ]
        },
        {
          "output_type": "stream",
          "name": "stdout",
          "text": [
            "1/1 [==============================] - 2s 2s/step\n"
          ]
        }
      ]
    },
    {
      "cell_type": "code",
      "source": [
        "look_back = 1\n",
        "valores_reais_y = y_teste\n",
        "plt.figure(figsize=(50,10))\n",
        "plt.plot(list(range(len(valores_reais_y))), \n",
        "         valores_reais_y, \n",
        "         marker='.', \n",
        "         label=\"Real\")\n",
        "lst_dados_predicao=[w[0] for w in predicao]\n",
        "plt.plot(list(np.arange(len(predicao))-look_back), \n",
        "         lst_dados_predicao, \n",
        "         'r',label=\"Estimação do Modelo\")\n",
        "plt.ylabel('valores', size=15)\n",
        "plt.xlabel('período', size=15)\n",
        "plt.legend(fontsize=15)\n",
        "plt.show()"
      ],
      "metadata": {
        "colab": {
          "base_uri": "https://localhost:8080/",
          "height": 313
        },
        "outputId": "3a88dc94-7f99-4f00-b692-bd5b6b0f18ef",
        "id": "uPdh6a9fVjKz"
      },
      "execution_count": null,
      "outputs": [
        {
          "output_type": "display_data",
          "data": {
            "text/plain": [
              "<Figure size 3600x720 with 1 Axes>"
            ],
            "image/png": "[encoded data removed]"
          },
          "metadata": {
            "needs_background": "light"
          }
        }
      ]
    },
    {
      "cell_type": "markdown",
      "source": [
        "# **Fazendo Predições**"
      ],
      "metadata": {
        "id": "HW16r-CZVjKz"
      }
    },
    {
      "cell_type": "code",
      "source": [
        "len(valores_reais_y)"
      ],
      "metadata": {
        "colab": {
          "base_uri": "https://localhost:8080/"
        },
        "outputId": "17931c92-d965-49bf-9da4-b2b2e791633d",
        "id": "3VWQ1aVfVjKz"
      },
      "execution_count": null,
      "outputs": [
        {
          "output_type": "execute_result",
          "data": {
            "text/plain": [
              "1"
            ]
          },
          "metadata": {},
          "execution_count": 190
        }
      ]
    },
    {
      "cell_type": "code",
      "source": [
        "len(lst_dados_predicao)"
      ],
      "metadata": {
        "colab": {
          "base_uri": "https://localhost:8080/"
        },
        "outputId": "834524dc-f7aa-4814-9e91-fdc0e8040644",
        "id": "n03AlixbVjK0"
      },
      "execution_count": null,
      "outputs": [
        {
          "output_type": "execute_result",
          "data": {
            "text/plain": [
              "1"
            ]
          },
          "metadata": {},
          "execution_count": 191
        }
      ]
    },
    {
      "cell_type": "code",
      "source": [
        "n=len(x_teste)\n",
        "x_teste[n-1] #lembrar que no Python a indexação começa na posição 0"
      ],
      "metadata": {
        "colab": {
          "base_uri": "https://localhost:8080/"
        },
        "outputId": "b5673c65-2bac-4d8c-9959-a52813be7ae6",
        "id": "0VcevRmnVjK0"
      },
      "execution_count": null,
      "outputs": [
        {
          "output_type": "execute_result",
          "data": {
            "text/plain": [
              "array([[0.84375224],\n",
              "       [0.89843955]])"
            ]
          },
          "metadata": {},
          "execution_count": 192
        }
      ]
    },
    {
      "cell_type": "code",
      "source": [
        "minha_predicao = modelo.predict([x_teste[n-1]])"
      ],
      "metadata": {
        "colab": {
          "base_uri": "https://localhost:8080/"
        },
        "outputId": "ca224f4a-d187-44fd-bd31-403c97c2fffb",
        "id": "v2GdULo-VjK0"
      },
      "execution_count": null,
      "outputs": [
        {
          "output_type": "stream",
          "name": "stderr",
          "text": [
            "WARNING:tensorflow:Model was constructed with shape (None, 2, 1) for input KerasTensor(type_spec=TensorSpec(shape=(None, 2, 1), dtype=tf.float32, name='lstm_10_input'), name='lstm_10_input', description=\"created by layer 'lstm_10_input'\"), but it was called on an input with incompatible shape (None, 1, 1).\n",
            "WARNING:tensorflow:6 out of the last 6 calls to <function Model.make_predict_function.<locals>.predict_function at 0x7fdf14ee5280> triggered tf.function retracing. Tracing is expensive and the excessive number of tracings could be due to (1) creating @tf.function repeatedly in a loop, (2) passing tensors with different shapes, (3) passing Python objects instead of tensors. For (1), please define your @tf.function outside of the loop. For (2), @tf.function has reduce_retracing=True option that can avoid unnecessary retracing. For (3), please refer to https://www.tensorflow.org/guide/function#controlling_retracing and https://www.tensorflow.org/api_docs/python/tf/function for  more details.\n"
          ]
        },
        {
          "output_type": "stream",
          "name": "stdout",
          "text": [
            "1/1 [==============================] - 2s 2s/step\n"
          ]
        }
      ]
    },
    {
      "cell_type": "code",
      "source": [
        "print(f'minha predição é: {minha_predicao}')"
      ],
      "metadata": {
        "colab": {
          "base_uri": "https://localhost:8080/"
        },
        "outputId": "e8d341e4-a991-4621-d5ab-80f086ab4fbc",
        "id": "na19GPGGVjK0"
      },
      "execution_count": null,
      "outputs": [
        {
          "output_type": "stream",
          "name": "stdout",
          "text": [
            "minha predição é: [[0.13340005]\n",
            " [0.13553233]]\n"
          ]
        }
      ]
    },
    {
      "cell_type": "code",
      "source": [],
      "metadata": {
        "id": "68K9kUWPVjK0"
      },
      "execution_count": null,
      "outputs": []
    },
    {
      "cell_type": "markdown",
      "source": [
        "#MMMC34"
      ],
      "metadata": {
        "id": "IskYSY0_Wf7q"
      }
    },
    {
      "cell_type": "code",
      "source": [
        "y=[]\n",
        "for a in df['MMMC34.SA', 'Close']:\n",
        "  y.append(a)"
      ],
      "metadata": {
        "id": "lxY2eULTWf7u"
      },
      "execution_count": null,
      "outputs": []
    },
    {
      "cell_type": "code",
      "source": [
        "x = np.arange (1,len(y)+1,1)\n"
      ],
      "metadata": {
        "id": "NljtcK9VWf7v"
      },
      "execution_count": null,
      "outputs": []
    },
    {
      "cell_type": "markdown",
      "source": [
        "**padronização dos dados**"
      ],
      "metadata": {
        "id": "uOixyi_mWf7v"
      }
    },
    {
      "cell_type": "code",
      "source": [
        "minimo = np.min(y)\n",
        "maximo = np.max(y)\n",
        "y = (y - minimo)/(maximo - minimo)"
      ],
      "metadata": {
        "id": "-v6GJR4BWf7v"
      },
      "execution_count": null,
      "outputs": []
    },
    {
      "cell_type": "markdown",
      "source": [
        "**Preparação dos conjuntos de dados de treinamento e de teste**"
      ],
      "metadata": {
        "id": "x2_8AR-oWf7v"
      }
    },
    {
      "cell_type": "code",
      "source": [
        "percentual_treinamento = 0.7\n",
        "qtd_treinamento = int(percentual_treinamento*(len(x)));\n",
        "\n",
        "x_treino = x[0:qtd_treinamento] \n",
        "x_teste = x[qtd_treinamento:]\n",
        "\n",
        "y_treino = y[0:qtd_treinamento]\n",
        "y_teste = y[qtd_treinamento:]\n",
        "\n",
        "treino = np.array(list(zip(x_treino, y_treino)))\n",
        "teste = np.array(list(zip(x_teste, y_teste)))\n",
        "\n",
        "for i in range(5):\n",
        "  print('treino[{}]: {}'.format(i+1, treino[i]))\n"
      ],
      "metadata": {
        "colab": {
          "base_uri": "https://localhost:8080/"
        },
        "outputId": "87af54bf-f267-4a4e-e0e6-4bc83177f9ee",
        "id": "H0A4oHZ0Wf7v"
      },
      "execution_count": null,
      "outputs": [
        {
          "output_type": "stream",
          "name": "stdout",
          "text": [
            "treino[1]: [1.        0.8067147]\n",
            "treino[2]: [2.         0.81488271]\n",
            "treino[3]: [3.         0.83756873]\n",
            "treino[4]: [4.         0.73230528]\n",
            "treino[5]: [5.         0.81125218]\n"
          ]
        }
      ]
    },
    {
      "cell_type": "markdown",
      "source": [
        "**Organização do modelo de dados**"
      ],
      "metadata": {
        "id": "mlEB5hjtWf7v"
      }
    },
    {
      "cell_type": "code",
      "source": [
        "def create_dataset(n_X, look_back):\n",
        "  dataX = []\n",
        "  dataY = []\n",
        "  for i in range(len(n_X)-look_back):\n",
        "    a = n_X[i:(i+look_back), ]\n",
        "    print('a: {}'.format(a))\n",
        "    dataX.append(a)\n",
        "    dataY.append(n_X[i + look_back, ])\n",
        "  print('dataX: {}'.format(dataX))\n",
        "  return np.array(dataX), np.array(dataY)"
      ],
      "metadata": {
        "id": "zOUg1pFkWf7v"
      },
      "execution_count": null,
      "outputs": []
    },
    {
      "cell_type": "code",
      "source": [
        "def preparar_dados(dados_serie, look_back):\n",
        "  X, y =[],[]\n",
        "  n = len(dados_serie)\n",
        "  for i in range(n - look_back):\n",
        "    posicao_fim = i + look_back\n",
        "    if posicao_fim <= n:\n",
        "      seq_x = dados_serie[i:posicao_fim,1]\n",
        "      seq_y = dados_serie[posicao_fim,1]\n",
        "      X.append(seq_x)\n",
        "      y.append(seq_y)\n",
        "  return np.array(X), np.array(y)"
      ],
      "metadata": {
        "id": "gp63fekjWf7v"
      },
      "execution_count": null,
      "outputs": []
    },
    {
      "cell_type": "markdown",
      "source": [
        "**Visualização da estruturação dos dados**"
      ],
      "metadata": {
        "id": "3EAYyp4xWf7v"
      }
    },
    {
      "cell_type": "code",
      "source": [
        "  look_back = 2\n",
        "\n",
        "  x_treino, y_treino = preparar_dados(treino, look_back)\n",
        "  x_teste, y_teste = preparar_dados(teste, look_back)\n",
        "  n_caracteristicas = 1 #série monovariada\n",
        "  x_treino = x_treino.reshape((x_treino.shape[0], \n",
        "                               x_treino.shape[1], \n",
        "                               n_caracteristicas))\n",
        "  x_teste = x_teste.reshape((x_teste.shape[0], \n",
        "                         x_teste.shape[1], \n",
        "                         n_caracteristicas))\n",
        "\n",
        "#print('ax: {}'.format(trainx))\n",
        "#print('y: {}'.format(y))\n",
        "  for i in range(5):\n",
        "    print('treino[{}]: {} -> {}'.format(i+1, x_treino[i], y_treino[i]))\n",
        "\n",
        "\n",
        "\n"
      ],
      "metadata": {
        "colab": {
          "base_uri": "https://localhost:8080/"
        },
        "outputId": "d8dd6d42-586f-43ee-c919-f57a1e84efba",
        "id": "l68SN-8wWf7v"
      },
      "execution_count": null,
      "outputs": [
        {
          "output_type": "stream",
          "name": "stdout",
          "text": [
            "treino[1]: [[0.8067147 ]\n",
            " [0.81488271]] -> 0.837568730294777\n",
            "treino[2]: [[0.81488271]\n",
            " [0.83756873]] -> 0.7323052808959204\n",
            "treino[3]: [[0.83756873]\n",
            " [0.73230528]] -> 0.8112521756227785\n",
            "treino[4]: [[0.73230528]\n",
            " [0.81125218]] -> 0.6243196202750735\n",
            "treino[5]: [[0.81125218]\n",
            " [0.62431962]] -> 1.0\n"
          ]
        }
      ]
    },
    {
      "cell_type": "markdown",
      "source": [
        "**Criação do Modelo de Redes Neurais**"
      ],
      "metadata": {
        "id": "Zato_0KmWf7v"
      }
    },
    {
      "cell_type": "code",
      "source": [
        "import tensorflow as tf\n",
        "from keras.models import Sequential\n",
        "from keras.layers import LSTM, Dense, Dropout\n",
        "n_etapas = x_treino.shape[1]\n",
        "n_caracteristicas = x_treino.shape[2]\n",
        "epocas = 20\n",
        "n_unidades = 100\n",
        "tf.random.set_seed(8888) # Setting seed to ensure reproducibility.\n",
        "modelo = Sequential()\n",
        "camada_de_entrada=(n_etapas, n_caracteristicas)\n",
        "modelo.add(LSTM(n_unidades, \n",
        "               return_sequences = True, \n",
        "               input_shape = camada_de_entrada))\n",
        "modelo.add(Dropout(0.2))\n",
        "modelo.add(LSTM(128,\n",
        "               input_shape = camada_de_entrada))\n",
        "modelo.add(Dense(1))\n"
      ],
      "metadata": {
        "id": "Hnr78kRfWf7v"
      },
      "execution_count": null,
      "outputs": []
    },
    {
      "cell_type": "markdown",
      "source": [
        "**Visualização do modelo**"
      ],
      "metadata": {
        "id": "UaJeooSPWf7v"
      }
    },
    {
      "cell_type": "code",
      "source": [
        "modelo.summary()"
      ],
      "metadata": {
        "colab": {
          "base_uri": "https://localhost:8080/"
        },
        "outputId": "63394f54-dca3-4280-9c79-8e5128289544",
        "id": "0Vm_v0u4Wf7v"
      },
      "execution_count": null,
      "outputs": [
        {
          "output_type": "stream",
          "name": "stdout",
          "text": [
            "Model: \"sequential_6\"\n",
            "_________________________________________________________________\n",
            " Layer (type)                Output Shape              Param #   \n",
            "=================================================================\n",
            " lstm_12 (LSTM)              (None, 2, 100)            40800     \n",
            "                                                                 \n",
            " dropout_6 (Dropout)         (None, 2, 100)            0         \n",
            "                                                                 \n",
            " lstm_13 (LSTM)              (None, 128)               117248    \n",
            "                                                                 \n",
            " dense_6 (Dense)             (None, 1)                 129       \n",
            "                                                                 \n",
            "=================================================================\n",
            "Total params: 158,177\n",
            "Trainable params: 158,177\n",
            "Non-trainable params: 0\n",
            "_________________________________________________________________\n"
          ]
        }
      ]
    },
    {
      "cell_type": "markdown",
      "source": [
        "**Escolha de Hiperparâmetros**"
      ],
      "metadata": {
        "id": "nIzbyt-nWf7v"
      }
    },
    {
      "cell_type": "code",
      "source": [
        "modelo.compile(loss = 'mean_squared_error', \n",
        "              optimizer = 'adam')"
      ],
      "metadata": {
        "id": "KQw4GE1tWf7v"
      },
      "execution_count": null,
      "outputs": []
    },
    {
      "cell_type": "markdown",
      "source": [
        "**Treinamento do Modelo**"
      ],
      "metadata": {
        "id": "oXrikBgxWf7v"
      }
    },
    {
      "cell_type": "code",
      "source": [
        "\n",
        "\n",
        "historico = modelo.fit(x_treino, y_treino,\n",
        "                       epochs = epocas,\n",
        "                       batch_size = 70,\n",
        "                       verbose = False,\n",
        "                       shuffle = False,\n",
        "                       validation_split = 0.3)"
      ],
      "metadata": {
        "id": "_BUiD8MRWf7v"
      },
      "execution_count": null,
      "outputs": []
    },
    {
      "cell_type": "markdown",
      "source": [
        "**Visualização do \"aprendizado\"**"
      ],
      "metadata": {
        "id": "sjrC2s-vWf7w"
      }
    },
    {
      "cell_type": "code",
      "source": [
        "import pandas as pd\n",
        "hist = pd.DataFrame(historico.history)\n",
        "hist.head()"
      ],
      "metadata": {
        "colab": {
          "base_uri": "https://localhost:8080/",
          "height": 206
        },
        "outputId": "1a124339-8c90-4690-b041-afbe87d58f61",
        "id": "UpEo124NWf7w"
      },
      "execution_count": null,
      "outputs": [
        {
          "output_type": "execute_result",
          "data": {
            "text/plain": [
              "       loss  val_loss\n",
              "0  0.626317  0.657188\n",
              "1  0.593252  0.625314\n",
              "2  0.560808  0.593503\n",
              "3  0.527644  0.561322\n",
              "4  0.494656  0.528495"
            ],
            "text/html": [
              "\n",
              "  <div id=\"df-7b3907d6-233c-4815-8b2e-6ae10d21b0bd\">\n",
              "    <div class=\"colab-df-container\">\n",
              "      <div>\n",
              "<style scoped>\n",
              "    .dataframe tbody tr th:only-of-type {\n",
              "        vertical-align: middle;\n",
              "    }\n",
              "\n",
              "    .dataframe tbody tr th {\n",
              "        vertical-align: top;\n",
              "    }\n",
              "\n",
              "    .dataframe thead th {\n",
              "        text-align: right;\n",
              "    }\n",
              "</style>\n",
              "<table border=\"1\" class=\"dataframe\">\n",
              "  <thead>\n",
              "    <tr style=\"text-align: right;\">\n",
              "      <th></th>\n",
              "      <th>loss</th>\n",
              "      <th>val_loss</th>\n",
              "    </tr>\n",
              "  </thead>\n",
              "  <tbody>\n",
              "    <tr>\n",
              "      <th>0</th>\n",
              "      <td>0.626317</td>\n",
              "      <td>0.657188</td>\n",
              "    </tr>\n",
              "    <tr>\n",
              "      <th>1</th>\n",
              "      <td>0.593252</td>\n",
              "      <td>0.625314</td>\n",
              "    </tr>\n",
              "    <tr>\n",
              "      <th>2</th>\n",
              "      <td>0.560808</td>\n",
              "      <td>0.593503</td>\n",
              "    </tr>\n",
              "    <tr>\n",
              "      <th>3</th>\n",
              "      <td>0.527644</td>\n",
              "      <td>0.561322</td>\n",
              "    </tr>\n",
              "    <tr>\n",
              "      <th>4</th>\n",
              "      <td>0.494656</td>\n",
              "      <td>0.528495</td>\n",
              "    </tr>\n",
              "  </tbody>\n",
              "</table>\n",
              "</div>\n",
              "      <button class=\"colab-df-convert\" onclick=\"convertToInteractive('df-7b3907d6-233c-4815-8b2e-6ae10d21b0bd')\"\n",
              "              title=\"Convert this dataframe to an interactive table.\"\n",
              "              style=\"display:none;\">\n",
              "        \n",
              "  <svg xmlns=\"http://www.w3.org/2000/svg\" height=\"24px\"viewBox=\"0 0 24 24\"\n",
              "       width=\"24px\">\n",
              "    <path d=\"M0 0h24v24H0V0z\" fill=\"none\"/>\n",
              "    <path d=\"M18.56 5.44l.94 2.06.94-2.06 2.06-.94-2.06-.94-.94-2.06-.94 2.06-2.06.94zm-11 1L8.5 8.5l.94-2.06 2.06-.94-2.06-.94L8.5 2.5l-.94 2.06-2.06.94zm10 10l.94 2.06.94-2.06 2.06-.94-2.06-.94-.94-2.06-.94 2.06-2.06.94z\"/><path d=\"M17.41 7.96l-1.37-1.37c-.4-.4-.92-.59-1.43-.59-.52 0-1.04.2-1.43.59L10.3 9.45l-7.72 7.72c-.78.78-.78 2.05 0 2.83L4 21.41c.39.39.9.59 1.41.59.51 0 1.02-.2 1.41-.59l7.78-7.78 2.81-2.81c.8-.78.8-2.07 0-2.86zM5.41 20L4 18.59l7.72-7.72 1.47 1.35L5.41 20z\"/>\n",
              "  </svg>\n",
              "      </button>\n",
              "      \n",
              "  <style>\n",
              "    .colab-df-container {\n",
              "      display:flex;\n",
              "      flex-wrap:wrap;\n",
              "      gap: 12px;\n",
              "    }\n",
              "\n",
              "    .colab-df-convert {\n",
              "      background-color: #E8F0FE;\n",
              "      border: none;\n",
              "      border-radius: 50%;\n",
              "      cursor: pointer;\n",
              "      display: none;\n",
              "      fill: #1967D2;\n",
              "      height: 32px;\n",
              "      padding: 0 0 0 0;\n",
              "      width: 32px;\n",
              "    }\n",
              "\n",
              "    .colab-df-convert:hover {\n",
              "      background-color: #E2EBFA;\n",
              "      box-shadow: 0px 1px 2px rgba(60, 64, 67, 0.3), 0px 1px 3px 1px rgba(60, 64, 67, 0.15);\n",
              "      fill: #174EA6;\n",
              "    }\n",
              "\n",
              "    [theme=dark] .colab-df-convert {\n",
              "      background-color: #3B4455;\n",
              "      fill: #D2E3FC;\n",
              "    }\n",
              "\n",
              "    [theme=dark] .colab-df-convert:hover {\n",
              "      background-color: #434B5C;\n",
              "      box-shadow: 0px 1px 3px 1px rgba(0, 0, 0, 0.15);\n",
              "      filter: drop-shadow(0px 1px 2px rgba(0, 0, 0, 0.3));\n",
              "      fill: #FFFFFF;\n",
              "    }\n",
              "  </style>\n",
              "\n",
              "      <script>\n",
              "        const buttonEl =\n",
              "          document.querySelector('#df-7b3907d6-233c-4815-8b2e-6ae10d21b0bd button.colab-df-convert');\n",
              "        buttonEl.style.display =\n",
              "          google.colab.kernel.accessAllowed ? 'block' : 'none';\n",
              "\n",
              "        async function convertToInteractive(key) {\n",
              "          const element = document.querySelector('#df-7b3907d6-233c-4815-8b2e-6ae10d21b0bd');\n",
              "          const dataTable =\n",
              "            await google.colab.kernel.invokeFunction('convertToInteractive',\n",
              "                                                     [key], {});\n",
              "          if (!dataTable) return;\n",
              "\n",
              "          const docLinkHtml = 'Like what you see? Visit the ' +\n",
              "            '<a target=\"_blank\" href=https://colab.research.google.com/notebooks/data_table.ipynb>data table notebook</a>'\n",
              "            + ' to learn more about interactive tables.';\n",
              "          element.innerHTML = '';\n",
              "          dataTable['output_type'] = 'display_data';\n",
              "          await google.colab.output.renderOutput(dataTable, element);\n",
              "          const docLink = document.createElement('div');\n",
              "          docLink.innerHTML = docLinkHtml;\n",
              "          element.appendChild(docLink);\n",
              "        }\n",
              "      </script>\n",
              "    </div>\n",
              "  </div>\n",
              "  "
            ]
          },
          "metadata": {},
          "execution_count": 206
        }
      ]
    },
    {
      "cell_type": "markdown",
      "source": [
        "**Precisão do Modelo**"
      ],
      "metadata": {
        "id": "MQg8050MWf7w"
      }
    },
    {
      "cell_type": "code",
      "source": [
        "loss = modelo.evaluate(x_teste, y_teste, batch_size=64)\n",
        "print(\"loss: {}\".format(loss))"
      ],
      "metadata": {
        "colab": {
          "base_uri": "https://localhost:8080/"
        },
        "outputId": "bc55cb47-fdb0-4e18-96c8-71a13909fe6c",
        "id": "k13vgdwTWf7w"
      },
      "execution_count": null,
      "outputs": [
        {
          "output_type": "stream",
          "name": "stdout",
          "text": [
            "1/1 [==============================] - 0s 23ms/step - loss: 0.0884\n",
            "loss: 0.08844611793756485\n"
          ]
        }
      ]
    },
    {
      "cell_type": "markdown",
      "source": [
        "**Visualização do Processo de Aprendizado**"
      ],
      "metadata": {
        "id": "G07exSzOWf7w"
      }
    },
    {
      "cell_type": "code",
      "source": [
        "plt.title('Cálculo do Erro ao longo do treinamento')\n",
        "plt.ylabel('Erro')\n",
        "plt.xlabel('Época')\n",
        "plt.plot(historico.history['loss'])\n",
        "plt.plot(historico.history['val_loss'])\n",
        "plt.legend(['loss (treinamento)', 'val_loss (validação)'], loc='upper right')\n",
        "plt.show()"
      ],
      "metadata": {
        "colab": {
          "base_uri": "https://localhost:8080/",
          "height": 297
        },
        "outputId": "62464b1a-90b5-41c1-9cd7-2d8ba8b508ab",
        "id": "00HNgvMYWf7w"
      },
      "execution_count": null,
      "outputs": [
        {
          "output_type": "display_data",
          "data": {
            "text/plain": [
              "<Figure size 432x288 with 1 Axes>"
            ],
            "image/png": "[encoded data removed]"
          },
          "metadata": {
            "needs_background": "light"
          }
        }
      ]
    },
    {
      "cell_type": "markdown",
      "source": [
        "**Realização da Predição**"
      ],
      "metadata": {
        "id": "pI4bn7oKWf7w"
      }
    },
    {
      "cell_type": "code",
      "source": [
        "predicao = modelo.predict(x_teste)"
      ],
      "metadata": {
        "colab": {
          "base_uri": "https://localhost:8080/"
        },
        "outputId": "2eded19e-803b-45b4-d4de-1ab3a35a1f86",
        "id": "t63fRwMFWf7w"
      },
      "execution_count": null,
      "outputs": [
        {
          "output_type": "stream",
          "name": "stdout",
          "text": [
            "1/1 [==============================] - 1s 595ms/step\n"
          ]
        }
      ]
    },
    {
      "cell_type": "code",
      "source": [
        "look_back = 1\n",
        "valores_reais_y = y_teste\n",
        "plt.figure(figsize=(50,10))\n",
        "plt.plot(list(range(len(valores_reais_y))), \n",
        "         valores_reais_y, \n",
        "         marker='.', \n",
        "         label=\"Real\")\n",
        "lst_dados_predicao=[w[0] for w in predicao]\n",
        "plt.plot(list(np.arange(len(predicao))-look_back), \n",
        "         lst_dados_predicao, \n",
        "         'r',label=\"Estimação do Modelo\")\n",
        "plt.ylabel('valores', size=15)\n",
        "plt.xlabel('período', size=15)\n",
        "plt.legend(fontsize=15)\n",
        "plt.show()"
      ],
      "metadata": {
        "colab": {
          "base_uri": "https://localhost:8080/",
          "height": 312
        },
        "outputId": "d75b140a-6248-42d3-f3e7-fbea922e0fdd",
        "id": "XX2g_B7tWf7w"
      },
      "execution_count": null,
      "outputs": [
        {
          "output_type": "display_data",
          "data": {
            "text/plain": [
              "<Figure size 3600x720 with 1 Axes>"
            ],
            "image/png": "[encoded data removed]"
          },
          "metadata": {
            "needs_background": "light"
          }
        }
      ]
    },
    {
      "cell_type": "markdown",
      "source": [
        "# **Fazendo Predições**"
      ],
      "metadata": {
        "id": "b1qeZaOGWf7w"
      }
    },
    {
      "cell_type": "code",
      "source": [
        "len(valores_reais_y)"
      ],
      "metadata": {
        "colab": {
          "base_uri": "https://localhost:8080/"
        },
        "outputId": "ee15d956-2ca3-4b4d-bd66-19258ce01cf4",
        "id": "WzvoubWbWf7w"
      },
      "execution_count": null,
      "outputs": [
        {
          "output_type": "execute_result",
          "data": {
            "text/plain": [
              "1"
            ]
          },
          "metadata": {},
          "execution_count": 211
        }
      ]
    },
    {
      "cell_type": "code",
      "source": [
        "len(lst_dados_predicao)"
      ],
      "metadata": {
        "colab": {
          "base_uri": "https://localhost:8080/"
        },
        "outputId": "bb419b5c-5d26-4436-fda0-1e77f3029c2e",
        "id": "_jdILy4yWf7w"
      },
      "execution_count": null,
      "outputs": [
        {
          "output_type": "execute_result",
          "data": {
            "text/plain": [
              "1"
            ]
          },
          "metadata": {},
          "execution_count": 212
        }
      ]
    },
    {
      "cell_type": "code",
      "source": [
        "n=len(x_teste)\n",
        "x_teste[n-1] #lembrar que no Python a indexação começa na posição 0"
      ],
      "metadata": {
        "colab": {
          "base_uri": "https://localhost:8080/"
        },
        "outputId": "72ab4d6f-35ab-4abd-a0bb-61c98f6684b9",
        "id": "O0q3C2rEWf7w"
      },
      "execution_count": null,
      "outputs": [
        {
          "output_type": "execute_result",
          "data": {
            "text/plain": [
              "array([[0.        ],\n",
              "       [0.02087213]])"
            ]
          },
          "metadata": {},
          "execution_count": 213
        }
      ]
    },
    {
      "cell_type": "code",
      "source": [
        "minha_predicao = modelo.predict([x_teste[n-1]])"
      ],
      "metadata": {
        "colab": {
          "base_uri": "https://localhost:8080/"
        },
        "outputId": "e2cf90b7-f89e-4065-8213-654195b7d869",
        "id": "kteL2eyMWf7w"
      },
      "execution_count": null,
      "outputs": [
        {
          "output_type": "stream",
          "name": "stderr",
          "text": [
            "WARNING:tensorflow:Model was constructed with shape (None, 2, 1) for input KerasTensor(type_spec=TensorSpec(shape=(None, 2, 1), dtype=tf.float32, name='lstm_12_input'), name='lstm_12_input', description=\"created by layer 'lstm_12_input'\"), but it was called on an input with incompatible shape (None, 1, 1).\n"
          ]
        },
        {
          "output_type": "stream",
          "name": "stdout",
          "text": [
            "1/1 [==============================] - 1s 598ms/step\n"
          ]
        }
      ]
    },
    {
      "cell_type": "code",
      "source": [
        "print(f'minha predição é: {minha_predicao}')"
      ],
      "metadata": {
        "colab": {
          "base_uri": "https://localhost:8080/"
        },
        "outputId": "8ff1cef7-df5e-4a0f-b078-a3ce49c143e0",
        "id": "Ell3tHckWf7w"
      },
      "execution_count": null,
      "outputs": [
        {
          "output_type": "stream",
          "name": "stdout",
          "text": [
            "minha predição é: [[0.12759925]\n",
            " [0.13084821]]\n"
          ]
        }
      ]
    },
    {
      "cell_type": "code",
      "source": [],
      "metadata": {
        "id": "swWVCOnbWf7w"
      },
      "execution_count": null,
      "outputs": []
    },
    {
      "cell_type": "markdown",
      "source": [
        "#A1BB34"
      ],
      "metadata": {
        "id": "DEmbvJEvWhLw"
      }
    },
    {
      "cell_type": "code",
      "source": [
        "y=[]\n",
        "for a in df['A1BB34.SA', 'Close']:\n",
        "  y.append(a)"
      ],
      "metadata": {
        "id": "hWds1IYHWhLx"
      },
      "execution_count": null,
      "outputs": []
    },
    {
      "cell_type": "code",
      "source": [
        "x = np.arange (1,len(y)+1,1)\n"
      ],
      "metadata": {
        "id": "FpetLBKpWhLx"
      },
      "execution_count": null,
      "outputs": []
    },
    {
      "cell_type": "markdown",
      "source": [
        "**padronização dos dados**"
      ],
      "metadata": {
        "id": "qujjpTw-WhLx"
      }
    },
    {
      "cell_type": "code",
      "source": [
        "minimo = np.min(y)\n",
        "maximo = np.max(y)\n",
        "y = (y - minimo)/(maximo - minimo)"
      ],
      "metadata": {
        "id": "yz3CtOWzWhLx"
      },
      "execution_count": null,
      "outputs": []
    },
    {
      "cell_type": "markdown",
      "source": [
        "**Preparação dos conjuntos de dados de treinamento e de teste**"
      ],
      "metadata": {
        "id": "Z692mljBWhLx"
      }
    },
    {
      "cell_type": "code",
      "source": [
        "percentual_treinamento = 0.7\n",
        "qtd_treinamento = int(percentual_treinamento*(len(x)));\n",
        "\n",
        "x_treino = x[0:qtd_treinamento] \n",
        "x_teste = x[qtd_treinamento:]\n",
        "\n",
        "y_treino = y[0:qtd_treinamento]\n",
        "y_teste = y[qtd_treinamento:]\n",
        "\n",
        "treino = np.array(list(zip(x_treino, y_treino)))\n",
        "teste = np.array(list(zip(x_teste, y_teste)))\n",
        "\n",
        "for i in range(5):\n",
        "  print('treino[{}]: {}'.format(i+1, treino[i]))\n"
      ],
      "metadata": {
        "colab": {
          "base_uri": "https://localhost:8080/"
        },
        "outputId": "75245410-58a7-4104-bdf2-c53bf7ab0cec",
        "id": "z7RHHFoOWhLx"
      },
      "execution_count": null,
      "outputs": [
        {
          "output_type": "stream",
          "name": "stdout",
          "text": [
            "treino[1]: [1.         0.70212852]\n",
            "treino[2]: [2.         0.44680924]\n",
            "treino[3]: [3.        0.3882982]\n",
            "treino[4]: [4.        0.6170221]\n",
            "treino[5]: [5. 1.]\n"
          ]
        }
      ]
    },
    {
      "cell_type": "markdown",
      "source": [
        "**Organização do modelo de dados**"
      ],
      "metadata": {
        "id": "RFNjTmedWhLx"
      }
    },
    {
      "cell_type": "code",
      "source": [
        "def create_dataset(n_X, look_back):\n",
        "  dataX = []\n",
        "  dataY = []\n",
        "  for i in range(len(n_X)-look_back):\n",
        "    a = n_X[i:(i+look_back), ]\n",
        "    print('a: {}'.format(a))\n",
        "    dataX.append(a)\n",
        "    dataY.append(n_X[i + look_back, ])\n",
        "  print('dataX: {}'.format(dataX))\n",
        "  return np.array(dataX), np.array(dataY)"
      ],
      "metadata": {
        "id": "bdzx6v-xWhLx"
      },
      "execution_count": null,
      "outputs": []
    },
    {
      "cell_type": "code",
      "source": [
        "def preparar_dados(dados_serie, look_back):\n",
        "  X, y =[],[]\n",
        "  n = len(dados_serie)\n",
        "  for i in range(n - look_back):\n",
        "    posicao_fim = i + look_back\n",
        "    if posicao_fim <= n:\n",
        "      seq_x = dados_serie[i:posicao_fim,1]\n",
        "      seq_y = dados_serie[posicao_fim,1]\n",
        "      X.append(seq_x)\n",
        "      y.append(seq_y)\n",
        "  return np.array(X), np.array(y)"
      ],
      "metadata": {
        "id": "wAfwimpSWhLx"
      },
      "execution_count": null,
      "outputs": []
    },
    {
      "cell_type": "markdown",
      "source": [
        "**Visualização da estruturação dos dados**"
      ],
      "metadata": {
        "id": "aoSySfuBWhLx"
      }
    },
    {
      "cell_type": "code",
      "source": [
        "  look_back = 2\n",
        "\n",
        "  x_treino, y_treino = preparar_dados(treino, look_back)\n",
        "  x_teste, y_teste = preparar_dados(teste, look_back)\n",
        "  n_caracteristicas = 1 #série monovariada\n",
        "  x_treino = x_treino.reshape((x_treino.shape[0], \n",
        "                               x_treino.shape[1], \n",
        "                               n_caracteristicas))\n",
        "  x_teste = x_teste.reshape((x_teste.shape[0], \n",
        "                         x_teste.shape[1], \n",
        "                         n_caracteristicas))\n",
        "\n",
        "#print('ax: {}'.format(trainx))\n",
        "#print('y: {}'.format(y))\n",
        "  for i in range(5):\n",
        "    print('treino[{}]: {} -> {}'.format(i+1, x_treino[i], y_treino[i]))\n",
        "\n",
        "\n",
        "\n"
      ],
      "metadata": {
        "colab": {
          "base_uri": "https://localhost:8080/"
        },
        "outputId": "77cd46a1-b780-4df2-fb65-adf9930a9d9f",
        "id": "i9gXg_mWWhLy"
      },
      "execution_count": null,
      "outputs": [
        {
          "output_type": "stream",
          "name": "stdout",
          "text": [
            "treino[1]: [[0.70212852]\n",
            " [0.44680924]] -> 0.38829819613254063\n",
            "treino[2]: [[0.44680924]\n",
            " [0.3882982 ]] -> 0.6170220968691029\n",
            "treino[3]: [[0.3882982]\n",
            " [0.6170221]] -> 1.0\n",
            "treino[4]: [[0.6170221]\n",
            " [1.       ]] -> 0.9414909806627032\n",
            "treino[5]: [[1.        ]\n",
            " [0.94149098]] -> 0.5319156707180975\n"
          ]
        }
      ]
    },
    {
      "cell_type": "markdown",
      "source": [
        "**Criação do Modelo de Redes Neurais**"
      ],
      "metadata": {
        "id": "Mt0LG2drWhLy"
      }
    },
    {
      "cell_type": "code",
      "source": [
        "import tensorflow as tf\n",
        "from keras.models import Sequential\n",
        "from keras.layers import LSTM, Dense, Dropout\n",
        "n_etapas = x_treino.shape[1]\n",
        "n_caracteristicas = x_treino.shape[2]\n",
        "epocas = 20\n",
        "n_unidades = 100\n",
        "tf.random.set_seed(8888) # Setting seed to ensure reproducibility.\n",
        "modelo = Sequential()\n",
        "camada_de_entrada=(n_etapas, n_caracteristicas)\n",
        "modelo.add(LSTM(n_unidades, \n",
        "               return_sequences = True, \n",
        "               input_shape = camada_de_entrada))\n",
        "modelo.add(Dropout(0.2))\n",
        "modelo.add(LSTM(128,\n",
        "               input_shape = camada_de_entrada))\n",
        "modelo.add(Dense(1))\n"
      ],
      "metadata": {
        "id": "ydeXraCNWhLy"
      },
      "execution_count": null,
      "outputs": []
    },
    {
      "cell_type": "markdown",
      "source": [
        "**Visualização do modelo**"
      ],
      "metadata": {
        "id": "mIqL1wZEWhLy"
      }
    },
    {
      "cell_type": "code",
      "source": [
        "modelo.summary()"
      ],
      "metadata": {
        "colab": {
          "base_uri": "https://localhost:8080/"
        },
        "outputId": "bd1612ac-95e8-49a7-f017-a9a958176760",
        "id": "jCB-GSBSWhLy"
      },
      "execution_count": null,
      "outputs": [
        {
          "output_type": "stream",
          "name": "stdout",
          "text": [
            "Model: \"sequential_7\"\n",
            "_________________________________________________________________\n",
            " Layer (type)                Output Shape              Param #   \n",
            "=================================================================\n",
            " lstm_14 (LSTM)              (None, 2, 100)            40800     \n",
            "                                                                 \n",
            " dropout_7 (Dropout)         (None, 2, 100)            0         \n",
            "                                                                 \n",
            " lstm_15 (LSTM)              (None, 128)               117248    \n",
            "                                                                 \n",
            " dense_7 (Dense)             (None, 1)                 129       \n",
            "                                                                 \n",
            "=================================================================\n",
            "Total params: 158,177\n",
            "Trainable params: 158,177\n",
            "Non-trainable params: 0\n",
            "_________________________________________________________________\n"
          ]
        }
      ]
    },
    {
      "cell_type": "markdown",
      "source": [
        "**Escolha de Hiperparâmetros**"
      ],
      "metadata": {
        "id": "_brSXGc2WhLy"
      }
    },
    {
      "cell_type": "code",
      "source": [
        "modelo.compile(loss = 'mean_squared_error', \n",
        "              optimizer = 'adam')"
      ],
      "metadata": {
        "id": "2Pv8Mr7tWhLy"
      },
      "execution_count": null,
      "outputs": []
    },
    {
      "cell_type": "markdown",
      "source": [
        "**Treinamento do Modelo**"
      ],
      "metadata": {
        "id": "GLie-P1SWhLy"
      }
    },
    {
      "cell_type": "code",
      "source": [
        "\n",
        "\n",
        "historico = modelo.fit(x_treino, y_treino,\n",
        "                       epochs = epocas,\n",
        "                       batch_size = 70,\n",
        "                       verbose = False,\n",
        "                       shuffle = False,\n",
        "                       validation_split = 0.3)"
      ],
      "metadata": {
        "id": "Ldoe63qtWhLy"
      },
      "execution_count": null,
      "outputs": []
    },
    {
      "cell_type": "markdown",
      "source": [
        "**Visualização do \"aprendizado\"**"
      ],
      "metadata": {
        "id": "upA1ryUEWhLy"
      }
    },
    {
      "cell_type": "code",
      "source": [
        "import pandas as pd\n",
        "hist = pd.DataFrame(historico.history)\n",
        "hist.head()"
      ],
      "metadata": {
        "colab": {
          "base_uri": "https://localhost:8080/",
          "height": 206
        },
        "outputId": "7500a18f-834f-4b50-a494-c10cae09ae2c",
        "id": "RGrt3RABWhLy"
      },
      "execution_count": null,
      "outputs": [
        {
          "output_type": "execute_result",
          "data": {
            "text/plain": [
              "       loss  val_loss\n",
              "0  0.507442  0.541356\n",
              "1  0.481250  0.510550\n",
              "2  0.462100  0.480015\n",
              "3  0.437972  0.449488\n",
              "4  0.418250  0.418741"
            ],
            "text/html": [
              "\n",
              "  <div id=\"df-9b9f09cc-e6b7-4c29-bd52-c94ea410ad1b\">\n",
              "    <div class=\"colab-df-container\">\n",
              "      <div>\n",
              "<style scoped>\n",
              "    .dataframe tbody tr th:only-of-type {\n",
              "        vertical-align: middle;\n",
              "    }\n",
              "\n",
              "    .dataframe tbody tr th {\n",
              "        vertical-align: top;\n",
              "    }\n",
              "\n",
              "    .dataframe thead th {\n",
              "        text-align: right;\n",
              "    }\n",
              "</style>\n",
              "<table border=\"1\" class=\"dataframe\">\n",
              "  <thead>\n",
              "    <tr style=\"text-align: right;\">\n",
              "      <th></th>\n",
              "      <th>loss</th>\n",
              "      <th>val_loss</th>\n",
              "    </tr>\n",
              "  </thead>\n",
              "  <tbody>\n",
              "    <tr>\n",
              "      <th>0</th>\n",
              "      <td>0.507442</td>\n",
              "      <td>0.541356</td>\n",
              "    </tr>\n",
              "    <tr>\n",
              "      <th>1</th>\n",
              "      <td>0.481250</td>\n",
              "      <td>0.510550</td>\n",
              "    </tr>\n",
              "    <tr>\n",
              "      <th>2</th>\n",
              "      <td>0.462100</td>\n",
              "      <td>0.480015</td>\n",
              "    </tr>\n",
              "    <tr>\n",
              "      <th>3</th>\n",
              "      <td>0.437972</td>\n",
              "      <td>0.449488</td>\n",
              "    </tr>\n",
              "    <tr>\n",
              "      <th>4</th>\n",
              "      <td>0.418250</td>\n",
              "      <td>0.418741</td>\n",
              "    </tr>\n",
              "  </tbody>\n",
              "</table>\n",
              "</div>\n",
              "      <button class=\"colab-df-convert\" onclick=\"convertToInteractive('df-9b9f09cc-e6b7-4c29-bd52-c94ea410ad1b')\"\n",
              "              title=\"Convert this dataframe to an interactive table.\"\n",
              "              style=\"display:none;\">\n",
              "        \n",
              "  <svg xmlns=\"http://www.w3.org/2000/svg\" height=\"24px\"viewBox=\"0 0 24 24\"\n",
              "       width=\"24px\">\n",
              "    <path d=\"M0 0h24v24H0V0z\" fill=\"none\"/>\n",
              "    <path d=\"M18.56 5.44l.94 2.06.94-2.06 2.06-.94-2.06-.94-.94-2.06-.94 2.06-2.06.94zm-11 1L8.5 8.5l.94-2.06 2.06-.94-2.06-.94L8.5 2.5l-.94 2.06-2.06.94zm10 10l.94 2.06.94-2.06 2.06-.94-2.06-.94-.94-2.06-.94 2.06-2.06.94z\"/><path d=\"M17.41 7.96l-1.37-1.37c-.4-.4-.92-.59-1.43-.59-.52 0-1.04.2-1.43.59L10.3 9.45l-7.72 7.72c-.78.78-.78 2.05 0 2.83L4 21.41c.39.39.9.59 1.41.59.51 0 1.02-.2 1.41-.59l7.78-7.78 2.81-2.81c.8-.78.8-2.07 0-2.86zM5.41 20L4 18.59l7.72-7.72 1.47 1.35L5.41 20z\"/>\n",
              "  </svg>\n",
              "      </button>\n",
              "      \n",
              "  <style>\n",
              "    .colab-df-container {\n",
              "      display:flex;\n",
              "      flex-wrap:wrap;\n",
              "      gap: 12px;\n",
              "    }\n",
              "\n",
              "    .colab-df-convert {\n",
              "      background-color: #E8F0FE;\n",
              "      border: none;\n",
              "      border-radius: 50%;\n",
              "      cursor: pointer;\n",
              "      display: none;\n",
              "      fill: #1967D2;\n",
              "      height: 32px;\n",
              "      padding: 0 0 0 0;\n",
              "      width: 32px;\n",
              "    }\n",
              "\n",
              "    .colab-df-convert:hover {\n",
              "      background-color: #E2EBFA;\n",
              "      box-shadow: 0px 1px 2px rgba(60, 64, 67, 0.3), 0px 1px 3px 1px rgba(60, 64, 67, 0.15);\n",
              "      fill: #174EA6;\n",
              "    }\n",
              "\n",
              "    [theme=dark] .colab-df-convert {\n",
              "      background-color: #3B4455;\n",
              "      fill: #D2E3FC;\n",
              "    }\n",
              "\n",
              "    [theme=dark] .colab-df-convert:hover {\n",
              "      background-color: #434B5C;\n",
              "      box-shadow: 0px 1px 3px 1px rgba(0, 0, 0, 0.15);\n",
              "      filter: drop-shadow(0px 1px 2px rgba(0, 0, 0, 0.3));\n",
              "      fill: #FFFFFF;\n",
              "    }\n",
              "  </style>\n",
              "\n",
              "      <script>\n",
              "        const buttonEl =\n",
              "          document.querySelector('#df-9b9f09cc-e6b7-4c29-bd52-c94ea410ad1b button.colab-df-convert');\n",
              "        buttonEl.style.display =\n",
              "          google.colab.kernel.accessAllowed ? 'block' : 'none';\n",
              "\n",
              "        async function convertToInteractive(key) {\n",
              "          const element = document.querySelector('#df-9b9f09cc-e6b7-4c29-bd52-c94ea410ad1b');\n",
              "          const dataTable =\n",
              "            await google.colab.kernel.invokeFunction('convertToInteractive',\n",
              "                                                     [key], {});\n",
              "          if (!dataTable) return;\n",
              "\n",
              "          const docLinkHtml = 'Like what you see? Visit the ' +\n",
              "            '<a target=\"_blank\" href=https://colab.research.google.com/notebooks/data_table.ipynb>data table notebook</a>'\n",
              "            + ' to learn more about interactive tables.';\n",
              "          element.innerHTML = '';\n",
              "          dataTable['output_type'] = 'display_data';\n",
              "          await google.colab.output.renderOutput(dataTable, element);\n",
              "          const docLink = document.createElement('div');\n",
              "          docLink.innerHTML = docLinkHtml;\n",
              "          element.appendChild(docLink);\n",
              "        }\n",
              "      </script>\n",
              "    </div>\n",
              "  </div>\n",
              "  "
            ]
          },
          "metadata": {},
          "execution_count": 227
        }
      ]
    },
    {
      "cell_type": "markdown",
      "source": [
        "**Precisão do Modelo**"
      ],
      "metadata": {
        "id": "cvgkDOzRWhLy"
      }
    },
    {
      "cell_type": "code",
      "source": [
        "loss = modelo.evaluate(x_teste, y_teste, batch_size=64)\n",
        "print(\"loss: {}\".format(loss))"
      ],
      "metadata": {
        "colab": {
          "base_uri": "https://localhost:8080/"
        },
        "outputId": "e737b93c-0bfc-41d3-a9d7-cfc611ea29a2",
        "id": "duPJJunPWhLy"
      },
      "execution_count": null,
      "outputs": [
        {
          "output_type": "stream",
          "name": "stdout",
          "text": [
            "1/1 [==============================] - 0s 23ms/step - loss: 0.1563\n",
            "loss: 0.1562889814376831\n"
          ]
        }
      ]
    },
    {
      "cell_type": "markdown",
      "source": [
        "**Visualização do Processo de Aprendizado**"
      ],
      "metadata": {
        "id": "FCTRvEzAWhLy"
      }
    },
    {
      "cell_type": "code",
      "source": [
        "plt.title('Cálculo do Erro ao longo do treinamento')\n",
        "plt.ylabel('Erro')\n",
        "plt.xlabel('Época')\n",
        "plt.plot(historico.history['loss'])\n",
        "plt.plot(historico.history['val_loss'])\n",
        "plt.legend(['loss (treinamento)', 'val_loss (validação)'], loc='upper right')\n",
        "plt.show()"
      ],
      "metadata": {
        "colab": {
          "base_uri": "https://localhost:8080/",
          "height": 297
        },
        "outputId": "5f07abd8-ea48-4048-a63d-31fe7946b99d",
        "id": "aW8dClJzWhLy"
      },
      "execution_count": null,
      "outputs": [
        {
          "output_type": "display_data",
          "data": {
            "text/plain": [
              "<Figure size 432x288 with 1 Axes>"
            ],
            "image/png": "[encoded data removed]"
          },
          "metadata": {
            "needs_background": "light"
          }
        }
      ]
    },
    {
      "cell_type": "markdown",
      "source": [
        "**Realização da Predição**"
      ],
      "metadata": {
        "id": "QeTMbiirWhLy"
      }
    },
    {
      "cell_type": "code",
      "source": [
        "predicao = modelo.predict(x_teste)"
      ],
      "metadata": {
        "colab": {
          "base_uri": "https://localhost:8080/"
        },
        "outputId": "3bd5defa-e161-4306-a6fa-de5c3c365c26",
        "id": "bJ585LhKWhLy"
      },
      "execution_count": null,
      "outputs": [
        {
          "output_type": "stream",
          "name": "stdout",
          "text": [
            "1/1 [==============================] - 1s 596ms/step\n"
          ]
        }
      ]
    },
    {
      "cell_type": "code",
      "source": [
        "look_back = 1\n",
        "valores_reais_y = y_teste\n",
        "plt.figure(figsize=(50,10))\n",
        "plt.plot(list(range(len(valores_reais_y))), \n",
        "         valores_reais_y, \n",
        "         marker='.', \n",
        "         label=\"Real\")\n",
        "lst_dados_predicao=[w[0] for w in predicao]\n",
        "plt.plot(list(np.arange(len(predicao))-look_back), \n",
        "         lst_dados_predicao, \n",
        "         'r',label=\"Estimação do Modelo\")\n",
        "plt.ylabel('valores', size=15)\n",
        "plt.xlabel('período', size=15)\n",
        "plt.legend(fontsize=15)\n",
        "plt.show()"
      ],
      "metadata": {
        "colab": {
          "base_uri": "https://localhost:8080/",
          "height": 312
        },
        "outputId": "cbe1eeca-2a2d-4546-82db-cfe0507b9be8",
        "id": "cbEhmsnXWhLz"
      },
      "execution_count": null,
      "outputs": [
        {
          "output_type": "display_data",
          "data": {
            "text/plain": [
              "<Figure size 3600x720 with 1 Axes>"
            ],
            "image/png": "[encoded data removed]"
          },
          "metadata": {
            "needs_background": "light"
          }
        }
      ]
    },
    {
      "cell_type": "markdown",
      "source": [
        "# **Fazendo Predições**"
      ],
      "metadata": {
        "id": "LVeIadZpWhLz"
      }
    },
    {
      "cell_type": "code",
      "source": [
        "len(valores_reais_y)"
      ],
      "metadata": {
        "colab": {
          "base_uri": "https://localhost:8080/"
        },
        "outputId": "52fd4006-1533-4e67-ac7e-5bdc9981d5ec",
        "id": "OvIe_IDVWhLz"
      },
      "execution_count": null,
      "outputs": [
        {
          "output_type": "execute_result",
          "data": {
            "text/plain": [
              "1"
            ]
          },
          "metadata": {},
          "execution_count": 232
        }
      ]
    },
    {
      "cell_type": "code",
      "source": [
        "len(lst_dados_predicao)"
      ],
      "metadata": {
        "colab": {
          "base_uri": "https://localhost:8080/"
        },
        "outputId": "67140f84-cd52-4b4b-dbe6-b4a26960d18d",
        "id": "m5whnbV0WhLz"
      },
      "execution_count": null,
      "outputs": [
        {
          "output_type": "execute_result",
          "data": {
            "text/plain": [
              "1"
            ]
          },
          "metadata": {},
          "execution_count": 233
        }
      ]
    },
    {
      "cell_type": "code",
      "source": [
        "n=len(x_teste)\n",
        "x_teste[n-1] #lembrar que no Python a indexação começa na posição 0"
      ],
      "metadata": {
        "colab": {
          "base_uri": "https://localhost:8080/"
        },
        "outputId": "b816b6fe-7a59-4a12-b791-4649aaf80b8d",
        "id": "d5fOYbV_WhLz"
      },
      "execution_count": null,
      "outputs": [
        {
          "output_type": "execute_result",
          "data": {
            "text/plain": [
              "array([[0.1595743 ],\n",
              "       [0.12765862]])"
            ]
          },
          "metadata": {},
          "execution_count": 234
        }
      ]
    },
    {
      "cell_type": "code",
      "source": [
        "minha_predicao = modelo.predict([x_teste[n-1]])"
      ],
      "metadata": {
        "colab": {
          "base_uri": "https://localhost:8080/"
        },
        "outputId": "7c0081be-af63-4eb1-a72c-c4ca34c49e9a",
        "id": "-5O8I2cpWhLz"
      },
      "execution_count": null,
      "outputs": [
        {
          "output_type": "stream",
          "name": "stderr",
          "text": [
            "WARNING:tensorflow:Model was constructed with shape (None, 2, 1) for input KerasTensor(type_spec=TensorSpec(shape=(None, 2, 1), dtype=tf.float32, name='lstm_14_input'), name='lstm_14_input', description=\"created by layer 'lstm_14_input'\"), but it was called on an input with incompatible shape (None, 1, 1).\n"
          ]
        },
        {
          "output_type": "stream",
          "name": "stdout",
          "text": [
            "1/1 [==============================] - 1s 645ms/step\n"
          ]
        }
      ]
    },
    {
      "cell_type": "code",
      "source": [
        "print(f'minha predição é: {minha_predicao}')"
      ],
      "metadata": {
        "colab": {
          "base_uri": "https://localhost:8080/"
        },
        "outputId": "de1c4a27-1a76-4300-c55b-4686a499008b",
        "id": "rnBWrSN5WhLz"
      },
      "execution_count": null,
      "outputs": [
        {
          "output_type": "stream",
          "name": "stdout",
          "text": [
            "minha predição é: [[0.15644327]\n",
            " [0.15132621]]\n"
          ]
        }
      ]
    },
    {
      "cell_type": "code",
      "source": [],
      "metadata": {
        "id": "qDWt3Z0wWhLz"
      },
      "execution_count": null,
      "outputs": []
    },
    {
      "cell_type": "markdown",
      "source": [
        "#ABTT34"
      ],
      "metadata": {
        "id": "A2mZklWBWhug"
      }
    },
    {
      "cell_type": "code",
      "source": [
        "y=[]\n",
        "for a in df['ABTT34.SA', 'Close']:\n",
        "  y.append(a)"
      ],
      "metadata": {
        "id": "KaNWdpI-Whug"
      },
      "execution_count": null,
      "outputs": []
    },
    {
      "cell_type": "code",
      "source": [
        "x = np.arange (1,len(y)+1,1)\n"
      ],
      "metadata": {
        "id": "8hCRSl2XWhug"
      },
      "execution_count": null,
      "outputs": []
    },
    {
      "cell_type": "markdown",
      "source": [
        "**padronização dos dados**"
      ],
      "metadata": {
        "id": "SRoXfdZYWhug"
      }
    },
    {
      "cell_type": "code",
      "source": [
        "minimo = np.min(y)\n",
        "maximo = np.max(y)\n",
        "y = (y - minimo)/(maximo - minimo)"
      ],
      "metadata": {
        "id": "B6HxhWV5Whug"
      },
      "execution_count": null,
      "outputs": []
    },
    {
      "cell_type": "markdown",
      "source": [
        "**Preparação dos conjuntos de dados de treinamento e de teste**"
      ],
      "metadata": {
        "id": "ZYNk1hkKWhuh"
      }
    },
    {
      "cell_type": "code",
      "source": [
        "percentual_treinamento = 0.7\n",
        "qtd_treinamento = int(percentual_treinamento*(len(x)));\n",
        "\n",
        "x_treino = x[0:qtd_treinamento] \n",
        "x_teste = x[qtd_treinamento:]\n",
        "\n",
        "y_treino = y[0:qtd_treinamento]\n",
        "y_teste = y[qtd_treinamento:]\n",
        "\n",
        "treino = np.array(list(zip(x_treino, y_treino)))\n",
        "teste = np.array(list(zip(x_teste, y_teste)))\n",
        "\n",
        "for i in range(5):\n",
        "  print('treino[{}]: {}'.format(i+1, treino[i]))\n"
      ],
      "metadata": {
        "colab": {
          "base_uri": "https://localhost:8080/"
        },
        "outputId": "414121fd-6818-44c4-ee0d-9e71106bb1c6",
        "id": "YvB_lIMvWhuh"
      },
      "execution_count": null,
      "outputs": [
        {
          "output_type": "stream",
          "name": "stdout",
          "text": [
            "treino[1]: [1. 1.]\n",
            "treino[2]: [2.         0.92894723]\n",
            "treino[3]: [3.         0.98157902]\n",
            "treino[4]: [4.         0.98157902]\n",
            "treino[5]: [5.         0.75789417]\n"
          ]
        }
      ]
    },
    {
      "cell_type": "markdown",
      "source": [
        "**Organização do modelo de dados**"
      ],
      "metadata": {
        "id": "r46hTOC9Whuh"
      }
    },
    {
      "cell_type": "code",
      "source": [
        "def create_dataset(n_X, look_back):\n",
        "  dataX = []\n",
        "  dataY = []\n",
        "  for i in range(len(n_X)-look_back):\n",
        "    a = n_X[i:(i+look_back), ]\n",
        "    print('a: {}'.format(a))\n",
        "    dataX.append(a)\n",
        "    dataY.append(n_X[i + look_back, ])\n",
        "  print('dataX: {}'.format(dataX))\n",
        "  return np.array(dataX), np.array(dataY)"
      ],
      "metadata": {
        "id": "jnVegWNtWhuh"
      },
      "execution_count": null,
      "outputs": []
    },
    {
      "cell_type": "code",
      "source": [
        "def preparar_dados(dados_serie, look_back):\n",
        "  X, y =[],[]\n",
        "  n = len(dados_serie)\n",
        "  for i in range(n - look_back):\n",
        "    posicao_fim = i + look_back\n",
        "    if posicao_fim <= n:\n",
        "      seq_x = dados_serie[i:posicao_fim,1]\n",
        "      seq_y = dados_serie[posicao_fim,1]\n",
        "      X.append(seq_x)\n",
        "      y.append(seq_y)\n",
        "  return np.array(X), np.array(y)"
      ],
      "metadata": {
        "id": "Dkd59UkwWhuh"
      },
      "execution_count": null,
      "outputs": []
    },
    {
      "cell_type": "markdown",
      "source": [
        "**Visualização da estruturação dos dados**"
      ],
      "metadata": {
        "id": "t1GBzPyHWhuh"
      }
    },
    {
      "cell_type": "code",
      "source": [
        "  look_back = 2\n",
        "\n",
        "  x_treino, y_treino = preparar_dados(treino, look_back)\n",
        "  x_teste, y_teste = preparar_dados(teste, look_back)\n",
        "  n_caracteristicas = 1 #série monovariada\n",
        "  x_treino = x_treino.reshape((x_treino.shape[0], \n",
        "                               x_treino.shape[1], \n",
        "                               n_caracteristicas))\n",
        "  x_teste = x_teste.reshape((x_teste.shape[0], \n",
        "                         x_teste.shape[1], \n",
        "                         n_caracteristicas))\n",
        "\n",
        "#print('ax: {}'.format(trainx))\n",
        "#print('y: {}'.format(y))\n",
        "  for i in range(5):\n",
        "    print('treino[{}]: {} -> {}'.format(i+1, x_treino[i], y_treino[i]))\n",
        "\n",
        "\n",
        "\n"
      ],
      "metadata": {
        "colab": {
          "base_uri": "https://localhost:8080/"
        },
        "outputId": "b660f613-e2f2-42d7-d98e-2e030ac78e3f",
        "id": "LxnLFBZWWhuh"
      },
      "execution_count": null,
      "outputs": [
        {
          "output_type": "stream",
          "name": "stdout",
          "text": [
            "treino[1]: [[1.        ]\n",
            " [0.92894723]] -> 0.9815790239793926\n",
            "treino[2]: [[0.92894723]\n",
            " [0.98157902]] -> 0.9815790239793926\n",
            "treino[3]: [[0.98157902]\n",
            " [0.98157902]] -> 0.7578941662224551\n",
            "treino[4]: [[0.98157902]\n",
            " [0.75789417]] -> 0.7578941662224551\n",
            "treino[5]: [[0.75789417]\n",
            " [0.75789417]] -> 0.6105263580575959\n"
          ]
        }
      ]
    },
    {
      "cell_type": "markdown",
      "source": [
        "**Criação do Modelo de Redes Neurais**"
      ],
      "metadata": {
        "id": "z8kizDWlWhui"
      }
    },
    {
      "cell_type": "code",
      "source": [
        "import tensorflow as tf\n",
        "from keras.models import Sequential\n",
        "from keras.layers import LSTM, Dense, Dropout\n",
        "n_etapas = x_treino.shape[1]\n",
        "n_caracteristicas = x_treino.shape[2]\n",
        "epocas = 20\n",
        "n_unidades = 100\n",
        "tf.random.set_seed(8888) # Setting seed to ensure reproducibility.\n",
        "modelo = Sequential()\n",
        "camada_de_entrada=(n_etapas, n_caracteristicas)\n",
        "modelo.add(LSTM(n_unidades, \n",
        "               return_sequences = True, \n",
        "               input_shape = camada_de_entrada))\n",
        "modelo.add(Dropout(0.2))\n",
        "modelo.add(LSTM(128,\n",
        "               input_shape = camada_de_entrada))\n",
        "modelo.add(Dense(1))\n"
      ],
      "metadata": {
        "id": "BGmjOoDzWhui"
      },
      "execution_count": null,
      "outputs": []
    },
    {
      "cell_type": "markdown",
      "source": [
        "**Visualização do modelo**"
      ],
      "metadata": {
        "id": "MJnHZ4e0Whui"
      }
    },
    {
      "cell_type": "code",
      "source": [
        "modelo.summary()"
      ],
      "metadata": {
        "colab": {
          "base_uri": "https://localhost:8080/"
        },
        "outputId": "1010fd61-8aa5-41a5-bc18-8139dc02a169",
        "id": "8ID8jhKiWhui"
      },
      "execution_count": null,
      "outputs": [
        {
          "output_type": "stream",
          "name": "stdout",
          "text": [
            "Model: \"sequential_8\"\n",
            "_________________________________________________________________\n",
            " Layer (type)                Output Shape              Param #   \n",
            "=================================================================\n",
            " lstm_16 (LSTM)              (None, 2, 100)            40800     \n",
            "                                                                 \n",
            " dropout_8 (Dropout)         (None, 2, 100)            0         \n",
            "                                                                 \n",
            " lstm_17 (LSTM)              (None, 128)               117248    \n",
            "                                                                 \n",
            " dense_8 (Dense)             (None, 1)                 129       \n",
            "                                                                 \n",
            "=================================================================\n",
            "Total params: 158,177\n",
            "Trainable params: 158,177\n",
            "Non-trainable params: 0\n",
            "_________________________________________________________________\n"
          ]
        }
      ]
    },
    {
      "cell_type": "markdown",
      "source": [
        "**Escolha de Hiperparâmetros**"
      ],
      "metadata": {
        "id": "z1j7qbq1Whui"
      }
    },
    {
      "cell_type": "code",
      "source": [
        "modelo.compile(loss = 'mean_squared_error', \n",
        "              optimizer = 'adam')"
      ],
      "metadata": {
        "id": "revr-IXIWhui"
      },
      "execution_count": null,
      "outputs": []
    },
    {
      "cell_type": "markdown",
      "source": [
        "**Treinamento do Modelo**"
      ],
      "metadata": {
        "id": "HdA6O2XuWhui"
      }
    },
    {
      "cell_type": "code",
      "source": [
        "\n",
        "\n",
        "historico = modelo.fit(x_treino, y_treino,\n",
        "                       epochs = epocas,\n",
        "                       batch_size = 70,\n",
        "                       verbose = False,\n",
        "                       shuffle = False,\n",
        "                       validation_split = 0.3)"
      ],
      "metadata": {
        "id": "RQyXLCB9Whui"
      },
      "execution_count": null,
      "outputs": []
    },
    {
      "cell_type": "markdown",
      "source": [
        "**Visualização do \"aprendizado\"**"
      ],
      "metadata": {
        "id": "pLbbwb1qWhui"
      }
    },
    {
      "cell_type": "code",
      "source": [
        "import pandas as pd\n",
        "hist = pd.DataFrame(historico.history)\n",
        "hist.head()"
      ],
      "metadata": {
        "colab": {
          "base_uri": "https://localhost:8080/",
          "height": 206
        },
        "outputId": "dee28f4c-8147-4464-e0f9-720316b65075",
        "id": "4rn6HjGFWhui"
      },
      "execution_count": null,
      "outputs": [
        {
          "output_type": "execute_result",
          "data": {
            "text/plain": [
              "       loss  val_loss\n",
              "0  0.840439  0.449190\n",
              "1  0.796335  0.422823\n",
              "2  0.764323  0.396812\n",
              "3  0.720730  0.370834\n",
              "4  0.676030  0.344666"
            ],
            "text/html": [
              "\n",
              "  <div id=\"df-13325f3d-8ad7-416a-9881-bbc5af8a10b7\">\n",
              "    <div class=\"colab-df-container\">\n",
              "      <div>\n",
              "<style scoped>\n",
              "    .dataframe tbody tr th:only-of-type {\n",
              "        vertical-align: middle;\n",
              "    }\n",
              "\n",
              "    .dataframe tbody tr th {\n",
              "        vertical-align: top;\n",
              "    }\n",
              "\n",
              "    .dataframe thead th {\n",
              "        text-align: right;\n",
              "    }\n",
              "</style>\n",
              "<table border=\"1\" class=\"dataframe\">\n",
              "  <thead>\n",
              "    <tr style=\"text-align: right;\">\n",
              "      <th></th>\n",
              "      <th>loss</th>\n",
              "      <th>val_loss</th>\n",
              "    </tr>\n",
              "  </thead>\n",
              "  <tbody>\n",
              "    <tr>\n",
              "      <th>0</th>\n",
              "      <td>0.840439</td>\n",
              "      <td>0.449190</td>\n",
              "    </tr>\n",
              "    <tr>\n",
              "      <th>1</th>\n",
              "      <td>0.796335</td>\n",
              "      <td>0.422823</td>\n",
              "    </tr>\n",
              "    <tr>\n",
              "      <th>2</th>\n",
              "      <td>0.764323</td>\n",
              "      <td>0.396812</td>\n",
              "    </tr>\n",
              "    <tr>\n",
              "      <th>3</th>\n",
              "      <td>0.720730</td>\n",
              "      <td>0.370834</td>\n",
              "    </tr>\n",
              "    <tr>\n",
              "      <th>4</th>\n",
              "      <td>0.676030</td>\n",
              "      <td>0.344666</td>\n",
              "    </tr>\n",
              "  </tbody>\n",
              "</table>\n",
              "</div>\n",
              "      <button class=\"colab-df-convert\" onclick=\"convertToInteractive('df-13325f3d-8ad7-416a-9881-bbc5af8a10b7')\"\n",
              "              title=\"Convert this dataframe to an interactive table.\"\n",
              "              style=\"display:none;\">\n",
              "        \n",
              "  <svg xmlns=\"http://www.w3.org/2000/svg\" height=\"24px\"viewBox=\"0 0 24 24\"\n",
              "       width=\"24px\">\n",
              "    <path d=\"M0 0h24v24H0V0z\" fill=\"none\"/>\n",
              "    <path d=\"M18.56 5.44l.94 2.06.94-2.06 2.06-.94-2.06-.94-.94-2.06-.94 2.06-2.06.94zm-11 1L8.5 8.5l.94-2.06 2.06-.94-2.06-.94L8.5 2.5l-.94 2.06-2.06.94zm10 10l.94 2.06.94-2.06 2.06-.94-2.06-.94-.94-2.06-.94 2.06-2.06.94z\"/><path d=\"M17.41 7.96l-1.37-1.37c-.4-.4-.92-.59-1.43-.59-.52 0-1.04.2-1.43.59L10.3 9.45l-7.72 7.72c-.78.78-.78 2.05 0 2.83L4 21.41c.39.39.9.59 1.41.59.51 0 1.02-.2 1.41-.59l7.78-7.78 2.81-2.81c.8-.78.8-2.07 0-2.86zM5.41 20L4 18.59l7.72-7.72 1.47 1.35L5.41 20z\"/>\n",
              "  </svg>\n",
              "      </button>\n",
              "      \n",
              "  <style>\n",
              "    .colab-df-container {\n",
              "      display:flex;\n",
              "      flex-wrap:wrap;\n",
              "      gap: 12px;\n",
              "    }\n",
              "\n",
              "    .colab-df-convert {\n",
              "      background-color: #E8F0FE;\n",
              "      border: none;\n",
              "      border-radius: 50%;\n",
              "      cursor: pointer;\n",
              "      display: none;\n",
              "      fill: #1967D2;\n",
              "      height: 32px;\n",
              "      padding: 0 0 0 0;\n",
              "      width: 32px;\n",
              "    }\n",
              "\n",
              "    .colab-df-convert:hover {\n",
              "      background-color: #E2EBFA;\n",
              "      box-shadow: 0px 1px 2px rgba(60, 64, 67, 0.3), 0px 1px 3px 1px rgba(60, 64, 67, 0.15);\n",
              "      fill: #174EA6;\n",
              "    }\n",
              "\n",
              "    [theme=dark] .colab-df-convert {\n",
              "      background-color: #3B4455;\n",
              "      fill: #D2E3FC;\n",
              "    }\n",
              "\n",
              "    [theme=dark] .colab-df-convert:hover {\n",
              "      background-color: #434B5C;\n",
              "      box-shadow: 0px 1px 3px 1px rgba(0, 0, 0, 0.15);\n",
              "      filter: drop-shadow(0px 1px 2px rgba(0, 0, 0, 0.3));\n",
              "      fill: #FFFFFF;\n",
              "    }\n",
              "  </style>\n",
              "\n",
              "      <script>\n",
              "        const buttonEl =\n",
              "          document.querySelector('#df-13325f3d-8ad7-416a-9881-bbc5af8a10b7 button.colab-df-convert');\n",
              "        buttonEl.style.display =\n",
              "          google.colab.kernel.accessAllowed ? 'block' : 'none';\n",
              "\n",
              "        async function convertToInteractive(key) {\n",
              "          const element = document.querySelector('#df-13325f3d-8ad7-416a-9881-bbc5af8a10b7');\n",
              "          const dataTable =\n",
              "            await google.colab.kernel.invokeFunction('convertToInteractive',\n",
              "                                                     [key], {});\n",
              "          if (!dataTable) return;\n",
              "\n",
              "          const docLinkHtml = 'Like what you see? Visit the ' +\n",
              "            '<a target=\"_blank\" href=https://colab.research.google.com/notebooks/data_table.ipynb>data table notebook</a>'\n",
              "            + ' to learn more about interactive tables.';\n",
              "          element.innerHTML = '';\n",
              "          dataTable['output_type'] = 'display_data';\n",
              "          await google.colab.output.renderOutput(dataTable, element);\n",
              "          const docLink = document.createElement('div');\n",
              "          docLink.innerHTML = docLinkHtml;\n",
              "          element.appendChild(docLink);\n",
              "        }\n",
              "      </script>\n",
              "    </div>\n",
              "  </div>\n",
              "  "
            ]
          },
          "metadata": {},
          "execution_count": 248
        }
      ]
    },
    {
      "cell_type": "markdown",
      "source": [
        "**Precisão do Modelo**"
      ],
      "metadata": {
        "id": "HH3T53yBWhui"
      }
    },
    {
      "cell_type": "code",
      "source": [
        "loss = modelo.evaluate(x_teste, y_teste, batch_size=64)\n",
        "print(\"loss: {}\".format(loss))"
      ],
      "metadata": {
        "colab": {
          "base_uri": "https://localhost:8080/"
        },
        "outputId": "cf24fde0-126e-4cf5-a82d-bc13f05fd827",
        "id": "1b9GUYdAWhui"
      },
      "execution_count": null,
      "outputs": [
        {
          "output_type": "stream",
          "name": "stdout",
          "text": [
            "1/1 [==============================] - 0s 37ms/step - loss: 0.1389\n",
            "loss: 0.13890577852725983\n"
          ]
        }
      ]
    },
    {
      "cell_type": "markdown",
      "source": [
        "**Visualização do Processo de Aprendizado**"
      ],
      "metadata": {
        "id": "JT2zP9vjWhui"
      }
    },
    {
      "cell_type": "code",
      "source": [
        "plt.title('Cálculo do Erro ao longo do treinamento')\n",
        "plt.ylabel('Erro')\n",
        "plt.xlabel('Época')\n",
        "plt.plot(historico.history['loss'])\n",
        "plt.plot(historico.history['val_loss'])\n",
        "plt.legend(['loss (treinamento)', 'val_loss (validação)'], loc='upper right')\n",
        "plt.show()"
      ],
      "metadata": {
        "colab": {
          "base_uri": "https://localhost:8080/",
          "height": 297
        },
        "outputId": "8f71497d-5637-4c97-9ca4-f7227c7f4bb6",
        "id": "moi1a9eEWhui"
      },
      "execution_count": null,
      "outputs": [
        {
          "output_type": "display_data",
          "data": {
            "text/plain": [
              "<Figure size 432x288 with 1 Axes>"
            ],
            "image/png": "[encoded data removed]"
          },
          "metadata": {
            "needs_background": "light"
          }
        }
      ]
    },
    {
      "cell_type": "markdown",
      "source": [
        "**Realização da Predição**"
      ],
      "metadata": {
        "id": "R8olA1PeWhui"
      }
    },
    {
      "cell_type": "code",
      "source": [
        "predicao = modelo.predict(x_teste)"
      ],
      "metadata": {
        "colab": {
          "base_uri": "https://localhost:8080/"
        },
        "outputId": "0661ec86-0fe3-4632-c7ce-4c81a1cdf7e2",
        "id": "JP4hXdQYWhuj"
      },
      "execution_count": null,
      "outputs": [
        {
          "output_type": "stream",
          "name": "stdout",
          "text": [
            "1/1 [==============================] - 1s 857ms/step\n"
          ]
        }
      ]
    },
    {
      "cell_type": "code",
      "source": [
        "look_back = 1\n",
        "valores_reais_y = y_teste\n",
        "plt.figure(figsize=(50,10))\n",
        "plt.plot(list(range(len(valores_reais_y))), \n",
        "         valores_reais_y, \n",
        "         marker='.', \n",
        "         label=\"Real\")\n",
        "lst_dados_predicao=[w[0] for w in predicao]\n",
        "plt.plot(list(np.arange(len(predicao))-look_back), \n",
        "         lst_dados_predicao, \n",
        "         'r',label=\"Estimação do Modelo\")\n",
        "plt.ylabel('valores', size=15)\n",
        "plt.xlabel('período', size=15)\n",
        "plt.legend(fontsize=15)\n",
        "plt.show()"
      ],
      "metadata": {
        "colab": {
          "base_uri": "https://localhost:8080/",
          "height": 312
        },
        "outputId": "9b1fc91b-a051-4646-844c-d4f94ce2433c",
        "id": "uaEEqpXJWhuj"
      },
      "execution_count": null,
      "outputs": [
        {
          "output_type": "display_data",
          "data": {
            "text/plain": [
              "<Figure size 3600x720 with 1 Axes>"
            ],
            "image/png": "[encoded data removed]"
          },
          "metadata": {
            "needs_background": "light"
          }
        }
      ]
    },
    {
      "cell_type": "markdown",
      "source": [
        "# **Fazendo Predições**"
      ],
      "metadata": {
        "id": "oSuASI9AWhuj"
      }
    },
    {
      "cell_type": "code",
      "source": [
        "len(valores_reais_y)"
      ],
      "metadata": {
        "colab": {
          "base_uri": "https://localhost:8080/"
        },
        "outputId": "2a3ce687-a8b6-4e02-f9ef-a9079e5cfecf",
        "id": "n6CbzGBbWhuj"
      },
      "execution_count": null,
      "outputs": [
        {
          "output_type": "execute_result",
          "data": {
            "text/plain": [
              "1"
            ]
          },
          "metadata": {},
          "execution_count": 253
        }
      ]
    },
    {
      "cell_type": "code",
      "source": [
        "len(lst_dados_predicao)"
      ],
      "metadata": {
        "colab": {
          "base_uri": "https://localhost:8080/"
        },
        "outputId": "f07a3182-c90d-4000-f21f-727556b02c75",
        "id": "2jy8-9CdWhuj"
      },
      "execution_count": null,
      "outputs": [
        {
          "output_type": "execute_result",
          "data": {
            "text/plain": [
              "1"
            ]
          },
          "metadata": {},
          "execution_count": 254
        }
      ]
    },
    {
      "cell_type": "code",
      "source": [
        "n=len(x_teste)\n",
        "x_teste[n-1] #lembrar que no Python a indexação começa na posição 0"
      ],
      "metadata": {
        "colab": {
          "base_uri": "https://localhost:8080/"
        },
        "outputId": "1387b3a5-dbed-4e6b-a3b1-79fc95a235eb",
        "id": "uSclTIl8Whuj"
      },
      "execution_count": null,
      "outputs": [
        {
          "output_type": "execute_result",
          "data": {
            "text/plain": [
              "array([[0.27631564],\n",
              "       [0.04999965]])"
            ]
          },
          "metadata": {},
          "execution_count": 255
        }
      ]
    },
    {
      "cell_type": "code",
      "source": [
        "minha_predicao = modelo.predict([x_teste[n-1]])"
      ],
      "metadata": {
        "colab": {
          "base_uri": "https://localhost:8080/"
        },
        "outputId": "d5887703-5bbc-48b2-d8c6-4f8099d1c991",
        "id": "ivdVsxkeWhuj"
      },
      "execution_count": null,
      "outputs": [
        {
          "output_type": "stream",
          "name": "stderr",
          "text": [
            "WARNING:tensorflow:Model was constructed with shape (None, 2, 1) for input KerasTensor(type_spec=TensorSpec(shape=(None, 2, 1), dtype=tf.float32, name='lstm_16_input'), name='lstm_16_input', description=\"created by layer 'lstm_16_input'\"), but it was called on an input with incompatible shape (None, 1, 1).\n"
          ]
        },
        {
          "output_type": "stream",
          "name": "stdout",
          "text": [
            "1/1 [==============================] - 1s 598ms/step\n"
          ]
        }
      ]
    },
    {
      "cell_type": "code",
      "source": [
        "print(f'minha predição é: {minha_predicao}')"
      ],
      "metadata": {
        "colab": {
          "base_uri": "https://localhost:8080/"
        },
        "outputId": "912364bf-f4b5-49f0-b78a-7a68ac598323",
        "id": "T7drqWWcWhuj"
      },
      "execution_count": null,
      "outputs": [
        {
          "output_type": "stream",
          "name": "stdout",
          "text": [
            "minha predição é: [[0.15581788]\n",
            " [0.12307985]]\n"
          ]
        }
      ]
    },
    {
      "cell_type": "code",
      "source": [],
      "metadata": {
        "id": "zoce1Mg-Whuj"
      },
      "execution_count": null,
      "outputs": []
    },
    {
      "cell_type": "markdown",
      "source": [
        "#ABBV34"
      ],
      "metadata": {
        "id": "TTX1SagAWiDJ"
      }
    },
    {
      "cell_type": "code",
      "source": [
        "y=[]\n",
        "for a in df['ABBV34.SA', 'Close']:\n",
        "  y.append(a)"
      ],
      "metadata": {
        "id": "yQUGeOutWiDJ"
      },
      "execution_count": null,
      "outputs": []
    },
    {
      "cell_type": "code",
      "source": [
        "x = np.arange (1,len(y)+1,1)\n"
      ],
      "metadata": {
        "id": "XEKp1dDrWiDJ"
      },
      "execution_count": null,
      "outputs": []
    },
    {
      "cell_type": "markdown",
      "source": [
        "**padronização dos dados**"
      ],
      "metadata": {
        "id": "fesXJqARWiDJ"
      }
    },
    {
      "cell_type": "code",
      "source": [
        "minimo = np.min(y)\n",
        "maximo = np.max(y)\n",
        "y = (y - minimo)/(maximo - minimo)"
      ],
      "metadata": {
        "id": "sdS2IlxiWiDJ"
      },
      "execution_count": null,
      "outputs": []
    },
    {
      "cell_type": "markdown",
      "source": [
        "**Preparação dos conjuntos de dados de treinamento e de teste**"
      ],
      "metadata": {
        "id": "sI53-7GSWiDJ"
      }
    },
    {
      "cell_type": "code",
      "source": [
        "percentual_treinamento = 0.7\n",
        "qtd_treinamento = int(percentual_treinamento*(len(x)));\n",
        "\n",
        "x_treino = x[0:qtd_treinamento] \n",
        "x_teste = x[qtd_treinamento:]\n",
        "\n",
        "y_treino = y[0:qtd_treinamento]\n",
        "y_teste = y[qtd_treinamento:]\n",
        "\n",
        "treino = np.array(list(zip(x_treino, y_treino)))\n",
        "teste = np.array(list(zip(x_teste, y_teste)))\n",
        "\n",
        "for i in range(5):\n",
        "  print('treino[{}]: {}'.format(i+1, treino[i]))\n"
      ],
      "metadata": {
        "colab": {
          "base_uri": "https://localhost:8080/"
        },
        "outputId": "cd39aa33-b349-4f62-dc30-aaff8c58b7c0",
        "id": "RMHKrxt_WiDJ"
      },
      "execution_count": null,
      "outputs": [
        {
          "output_type": "stream",
          "name": "stdout",
          "text": [
            "treino[1]: [1.         0.55284598]\n",
            "treino[2]: [2.        0.9187004]\n",
            "treino[3]: [3.         0.87804749]\n",
            "treino[4]: [4.         0.65040613]\n",
            "treino[5]: [5.         0.60975632]\n"
          ]
        }
      ]
    },
    {
      "cell_type": "markdown",
      "source": [
        "**Organização do modelo de dados**"
      ],
      "metadata": {
        "id": "2-1_9EtrWiDK"
      }
    },
    {
      "cell_type": "code",
      "source": [
        "def create_dataset(n_X, look_back):\n",
        "  dataX = []\n",
        "  dataY = []\n",
        "  for i in range(len(n_X)-look_back):\n",
        "    a = n_X[i:(i+look_back), ]\n",
        "    print('a: {}'.format(a))\n",
        "    dataX.append(a)\n",
        "    dataY.append(n_X[i + look_back, ])\n",
        "  print('dataX: {}'.format(dataX))\n",
        "  return np.array(dataX), np.array(dataY)"
      ],
      "metadata": {
        "id": "dDbiApd-WiDK"
      },
      "execution_count": null,
      "outputs": []
    },
    {
      "cell_type": "code",
      "source": [
        "def preparar_dados(dados_serie, look_back):\n",
        "  X, y =[],[]\n",
        "  n = len(dados_serie)\n",
        "  for i in range(n - look_back):\n",
        "    posicao_fim = i + look_back\n",
        "    if posicao_fim <= n:\n",
        "      seq_x = dados_serie[i:posicao_fim,1]\n",
        "      seq_y = dados_serie[posicao_fim,1]\n",
        "      X.append(seq_x)\n",
        "      y.append(seq_y)\n",
        "  return np.array(X), np.array(y)"
      ],
      "metadata": {
        "id": "y2NSkf0BWiDK"
      },
      "execution_count": null,
      "outputs": []
    },
    {
      "cell_type": "markdown",
      "source": [
        "**Visualização da estruturação dos dados**"
      ],
      "metadata": {
        "id": "YczAVZSEWiDK"
      }
    },
    {
      "cell_type": "code",
      "source": [
        "  look_back = 2\n",
        "\n",
        "  x_treino, y_treino = preparar_dados(treino, look_back)\n",
        "  x_teste, y_teste = preparar_dados(teste, look_back)\n",
        "  n_caracteristicas = 1 #série monovariada\n",
        "  x_treino = x_treino.reshape((x_treino.shape[0], \n",
        "                               x_treino.shape[1], \n",
        "                               n_caracteristicas))\n",
        "  x_teste = x_teste.reshape((x_teste.shape[0], \n",
        "                         x_teste.shape[1], \n",
        "                         n_caracteristicas))\n",
        "\n",
        "#print('ax: {}'.format(trainx))\n",
        "#print('y: {}'.format(y))\n",
        "  for i in range(5):\n",
        "    print('treino[{}]: {} -> {}'.format(i+1, x_treino[i], y_treino[i]))\n",
        "\n",
        "\n",
        "\n"
      ],
      "metadata": {
        "colab": {
          "base_uri": "https://localhost:8080/"
        },
        "outputId": "f99364df-4e86-426e-d775-9b309e059fa1",
        "id": "zVcdXn8QWiDK"
      },
      "execution_count": null,
      "outputs": [
        {
          "output_type": "stream",
          "name": "stdout",
          "text": [
            "treino[1]: [[0.55284598]\n",
            " [0.9187004 ]] -> 0.8780474945493228\n",
            "treino[2]: [[0.9187004 ]\n",
            " [0.87804749]] -> 0.6504061258478401\n",
            "treino[3]: [[0.87804749]\n",
            " [0.65040613]] -> 0.609756324491296\n",
            "treino[4]: [[0.65040613]\n",
            " [0.60975632]] -> 0.20325210816376532\n",
            "treino[5]: [[0.60975632]\n",
            " [0.20325211]] -> 0.19512028706382953\n"
          ]
        }
      ]
    },
    {
      "cell_type": "markdown",
      "source": [
        "**Criação do Modelo de Redes Neurais**"
      ],
      "metadata": {
        "id": "rxrtbnIBWiDK"
      }
    },
    {
      "cell_type": "code",
      "source": [
        "import tensorflow as tf\n",
        "from keras.models import Sequential\n",
        "from keras.layers import LSTM, Dense, Dropout\n",
        "n_etapas = x_treino.shape[1]\n",
        "n_caracteristicas = x_treino.shape[2]\n",
        "epocas = 20\n",
        "n_unidades = 100\n",
        "tf.random.set_seed(8888) # Setting seed to ensure reproducibility.\n",
        "modelo = Sequential()\n",
        "camada_de_entrada=(n_etapas, n_caracteristicas)\n",
        "modelo.add(LSTM(n_unidades, \n",
        "               return_sequences = True, \n",
        "               input_shape = camada_de_entrada))\n",
        "modelo.add(Dropout(0.2))\n",
        "modelo.add(LSTM(128,\n",
        "               input_shape = camada_de_entrada))\n",
        "modelo.add(Dense(1))\n"
      ],
      "metadata": {
        "id": "WSm2lm9jWiDK"
      },
      "execution_count": null,
      "outputs": []
    },
    {
      "cell_type": "markdown",
      "source": [
        "**Visualização do modelo**"
      ],
      "metadata": {
        "id": "MEQTgfiSWiDK"
      }
    },
    {
      "cell_type": "code",
      "source": [
        "modelo.summary()"
      ],
      "metadata": {
        "colab": {
          "base_uri": "https://localhost:8080/"
        },
        "outputId": "62905862-5595-45f7-b30f-787afb7b8485",
        "id": "itHVwb5XWiDK"
      },
      "execution_count": null,
      "outputs": [
        {
          "output_type": "stream",
          "name": "stdout",
          "text": [
            "Model: \"sequential_9\"\n",
            "_________________________________________________________________\n",
            " Layer (type)                Output Shape              Param #   \n",
            "=================================================================\n",
            " lstm_18 (LSTM)              (None, 2, 100)            40800     \n",
            "                                                                 \n",
            " dropout_9 (Dropout)         (None, 2, 100)            0         \n",
            "                                                                 \n",
            " lstm_19 (LSTM)              (None, 128)               117248    \n",
            "                                                                 \n",
            " dense_9 (Dense)             (None, 1)                 129       \n",
            "                                                                 \n",
            "=================================================================\n",
            "Total params: 158,177\n",
            "Trainable params: 158,177\n",
            "Non-trainable params: 0\n",
            "_________________________________________________________________\n"
          ]
        }
      ]
    },
    {
      "cell_type": "markdown",
      "source": [
        "**Escolha de Hiperparâmetros**"
      ],
      "metadata": {
        "id": "BAFtKkDvWiDK"
      }
    },
    {
      "cell_type": "code",
      "source": [
        "modelo.compile(loss = 'mean_squared_error', \n",
        "              optimizer = 'adam')"
      ],
      "metadata": {
        "id": "9sptvgzcWiDK"
      },
      "execution_count": null,
      "outputs": []
    },
    {
      "cell_type": "markdown",
      "source": [
        "**Treinamento do Modelo**"
      ],
      "metadata": {
        "id": "UE4AsbPUWiDK"
      }
    },
    {
      "cell_type": "code",
      "source": [
        "\n",
        "\n",
        "historico = modelo.fit(x_treino, y_treino,\n",
        "                       epochs = epocas,\n",
        "                       batch_size = 70,\n",
        "                       verbose = False,\n",
        "                       shuffle = False,\n",
        "                       validation_split = 0.3)"
      ],
      "metadata": {
        "id": "dn_VV23cWiDK"
      },
      "execution_count": null,
      "outputs": []
    },
    {
      "cell_type": "markdown",
      "source": [
        "**Visualização do \"aprendizado\"**"
      ],
      "metadata": {
        "id": "vuQutf4IWiDK"
      }
    },
    {
      "cell_type": "code",
      "source": [
        "import pandas as pd\n",
        "hist = pd.DataFrame(historico.history)\n",
        "hist.head()"
      ],
      "metadata": {
        "colab": {
          "base_uri": "https://localhost:8080/",
          "height": 206
        },
        "outputId": "e3eee71a-9777-46f7-aec1-80273f48556f",
        "id": "0CM5Cha_WiDK"
      },
      "execution_count": null,
      "outputs": [
        {
          "output_type": "execute_result",
          "data": {
            "text/plain": [
              "       loss  val_loss\n",
              "0  0.514007  0.031541\n",
              "1  0.480975  0.025750\n",
              "2  0.454859  0.020439\n",
              "3  0.425211  0.015569\n",
              "4  0.396487  0.011155"
            ],
            "text/html": [
              "\n",
              "  <div id=\"df-eca56e49-d839-4d2f-92b0-c6161962b611\">\n",
              "    <div class=\"colab-df-container\">\n",
              "      <div>\n",
              "<style scoped>\n",
              "    .dataframe tbody tr th:only-of-type {\n",
              "        vertical-align: middle;\n",
              "    }\n",
              "\n",
              "    .dataframe tbody tr th {\n",
              "        vertical-align: top;\n",
              "    }\n",
              "\n",
              "    .dataframe thead th {\n",
              "        text-align: right;\n",
              "    }\n",
              "</style>\n",
              "<table border=\"1\" class=\"dataframe\">\n",
              "  <thead>\n",
              "    <tr style=\"text-align: right;\">\n",
              "      <th></th>\n",
              "      <th>loss</th>\n",
              "      <th>val_loss</th>\n",
              "    </tr>\n",
              "  </thead>\n",
              "  <tbody>\n",
              "    <tr>\n",
              "      <th>0</th>\n",
              "      <td>0.514007</td>\n",
              "      <td>0.031541</td>\n",
              "    </tr>\n",
              "    <tr>\n",
              "      <th>1</th>\n",
              "      <td>0.480975</td>\n",
              "      <td>0.025750</td>\n",
              "    </tr>\n",
              "    <tr>\n",
              "      <th>2</th>\n",
              "      <td>0.454859</td>\n",
              "      <td>0.020439</td>\n",
              "    </tr>\n",
              "    <tr>\n",
              "      <th>3</th>\n",
              "      <td>0.425211</td>\n",
              "      <td>0.015569</td>\n",
              "    </tr>\n",
              "    <tr>\n",
              "      <th>4</th>\n",
              "      <td>0.396487</td>\n",
              "      <td>0.011155</td>\n",
              "    </tr>\n",
              "  </tbody>\n",
              "</table>\n",
              "</div>\n",
              "      <button class=\"colab-df-convert\" onclick=\"convertToInteractive('df-eca56e49-d839-4d2f-92b0-c6161962b611')\"\n",
              "              title=\"Convert this dataframe to an interactive table.\"\n",
              "              style=\"display:none;\">\n",
              "        \n",
              "  <svg xmlns=\"http://www.w3.org/2000/svg\" height=\"24px\"viewBox=\"0 0 24 24\"\n",
              "       width=\"24px\">\n",
              "    <path d=\"M0 0h24v24H0V0z\" fill=\"none\"/>\n",
              "    <path d=\"M18.56 5.44l.94 2.06.94-2.06 2.06-.94-2.06-.94-.94-2.06-.94 2.06-2.06.94zm-11 1L8.5 8.5l.94-2.06 2.06-.94-2.06-.94L8.5 2.5l-.94 2.06-2.06.94zm10 10l.94 2.06.94-2.06 2.06-.94-2.06-.94-.94-2.06-.94 2.06-2.06.94z\"/><path d=\"M17.41 7.96l-1.37-1.37c-.4-.4-.92-.59-1.43-.59-.52 0-1.04.2-1.43.59L10.3 9.45l-7.72 7.72c-.78.78-.78 2.05 0 2.83L4 21.41c.39.39.9.59 1.41.59.51 0 1.02-.2 1.41-.59l7.78-7.78 2.81-2.81c.8-.78.8-2.07 0-2.86zM5.41 20L4 18.59l7.72-7.72 1.47 1.35L5.41 20z\"/>\n",
              "  </svg>\n",
              "      </button>\n",
              "      \n",
              "  <style>\n",
              "    .colab-df-container {\n",
              "      display:flex;\n",
              "      flex-wrap:wrap;\n",
              "      gap: 12px;\n",
              "    }\n",
              "\n",
              "    .colab-df-convert {\n",
              "      background-color: #E8F0FE;\n",
              "      border: none;\n",
              "      border-radius: 50%;\n",
              "      cursor: pointer;\n",
              "      display: none;\n",
              "      fill: #1967D2;\n",
              "      height: 32px;\n",
              "      padding: 0 0 0 0;\n",
              "      width: 32px;\n",
              "    }\n",
              "\n",
              "    .colab-df-convert:hover {\n",
              "      background-color: #E2EBFA;\n",
              "      box-shadow: 0px 1px 2px rgba(60, 64, 67, 0.3), 0px 1px 3px 1px rgba(60, 64, 67, 0.15);\n",
              "      fill: #174EA6;\n",
              "    }\n",
              "\n",
              "    [theme=dark] .colab-df-convert {\n",
              "      background-color: #3B4455;\n",
              "      fill: #D2E3FC;\n",
              "    }\n",
              "\n",
              "    [theme=dark] .colab-df-convert:hover {\n",
              "      background-color: #434B5C;\n",
              "      box-shadow: 0px 1px 3px 1px rgba(0, 0, 0, 0.15);\n",
              "      filter: drop-shadow(0px 1px 2px rgba(0, 0, 0, 0.3));\n",
              "      fill: #FFFFFF;\n",
              "    }\n",
              "  </style>\n",
              "\n",
              "      <script>\n",
              "        const buttonEl =\n",
              "          document.querySelector('#df-eca56e49-d839-4d2f-92b0-c6161962b611 button.colab-df-convert');\n",
              "        buttonEl.style.display =\n",
              "          google.colab.kernel.accessAllowed ? 'block' : 'none';\n",
              "\n",
              "        async function convertToInteractive(key) {\n",
              "          const element = document.querySelector('#df-eca56e49-d839-4d2f-92b0-c6161962b611');\n",
              "          const dataTable =\n",
              "            await google.colab.kernel.invokeFunction('convertToInteractive',\n",
              "                                                     [key], {});\n",
              "          if (!dataTable) return;\n",
              "\n",
              "          const docLinkHtml = 'Like what you see? Visit the ' +\n",
              "            '<a target=\"_blank\" href=https://colab.research.google.com/notebooks/data_table.ipynb>data table notebook</a>'\n",
              "            + ' to learn more about interactive tables.';\n",
              "          element.innerHTML = '';\n",
              "          dataTable['output_type'] = 'display_data';\n",
              "          await google.colab.output.renderOutput(dataTable, element);\n",
              "          const docLink = document.createElement('div');\n",
              "          docLink.innerHTML = docLinkHtml;\n",
              "          element.appendChild(docLink);\n",
              "        }\n",
              "      </script>\n",
              "    </div>\n",
              "  </div>\n",
              "  "
            ]
          },
          "metadata": {},
          "execution_count": 269
        }
      ]
    },
    {
      "cell_type": "markdown",
      "source": [
        "**Precisão do Modelo**"
      ],
      "metadata": {
        "id": "peLXMKOTWiDK"
      }
    },
    {
      "cell_type": "code",
      "source": [
        "loss = modelo.evaluate(x_teste, y_teste, batch_size=64)\n",
        "print(\"loss: {}\".format(loss))"
      ],
      "metadata": {
        "colab": {
          "base_uri": "https://localhost:8080/"
        },
        "outputId": "0ac119a3-0bdf-487c-cfbf-67fc90be8ce2",
        "id": "4DgpgYehWiDK"
      },
      "execution_count": null,
      "outputs": [
        {
          "output_type": "stream",
          "name": "stdout",
          "text": [
            "1/1 [==============================] - 0s 24ms/step - loss: 0.4373\n",
            "loss: 0.4373302161693573\n"
          ]
        }
      ]
    },
    {
      "cell_type": "markdown",
      "source": [
        "**Visualização do Processo de Aprendizado**"
      ],
      "metadata": {
        "id": "gA2wM7dOWiDK"
      }
    },
    {
      "cell_type": "code",
      "source": [
        "plt.title('Cálculo do Erro ao longo do treinamento')\n",
        "plt.ylabel('Erro')\n",
        "plt.xlabel('Época')\n",
        "plt.plot(historico.history['loss'])\n",
        "plt.plot(historico.history['val_loss'])\n",
        "plt.legend(['loss (treinamento)', 'val_loss (validação)'], loc='upper right')\n",
        "plt.show()"
      ],
      "metadata": {
        "colab": {
          "base_uri": "https://localhost:8080/",
          "height": 297
        },
        "outputId": "9e1ee254-ceaa-44e7-e1c6-ef3cb66cb73e",
        "id": "jkwndsuIWiDK"
      },
      "execution_count": null,
      "outputs": [
        {
          "output_type": "display_data",
          "data": {
            "text/plain": [
              "<Figure size 432x288 with 1 Axes>"
            ],
            "image/png": "[encoded data removed]"
          },
          "metadata": {
            "needs_background": "light"
          }
        }
      ]
    },
    {
      "cell_type": "markdown",
      "source": [
        "**Realização da Predição**"
      ],
      "metadata": {
        "id": "_nMsvOEaWiDL"
      }
    },
    {
      "cell_type": "code",
      "source": [
        "predicao = modelo.predict(x_teste)"
      ],
      "metadata": {
        "colab": {
          "base_uri": "https://localhost:8080/"
        },
        "outputId": "3fec2330-5cb6-4bb7-adc1-403f95cd9679",
        "id": "LNxGmJn0WiDL"
      },
      "execution_count": null,
      "outputs": [
        {
          "output_type": "stream",
          "name": "stdout",
          "text": [
            "1/1 [==============================] - 1s 641ms/step\n"
          ]
        }
      ]
    },
    {
      "cell_type": "code",
      "source": [
        "look_back = 1\n",
        "valores_reais_y = y_teste\n",
        "plt.figure(figsize=(50,10))\n",
        "plt.plot(list(range(len(valores_reais_y))), \n",
        "         valores_reais_y, \n",
        "         marker='.', \n",
        "         label=\"Real\")\n",
        "lst_dados_predicao=[w[0] for w in predicao]\n",
        "plt.plot(list(np.arange(len(predicao))-look_back), \n",
        "         lst_dados_predicao, \n",
        "         'r',label=\"Estimação do Modelo\")\n",
        "plt.ylabel('valores', size=15)\n",
        "plt.xlabel('período', size=15)\n",
        "plt.legend(fontsize=15)\n",
        "plt.show()"
      ],
      "metadata": {
        "colab": {
          "base_uri": "https://localhost:8080/",
          "height": 313
        },
        "outputId": "b5c9ab67-0c54-471d-9b6c-3a33ab5e834c",
        "id": "fP82yg7pWiDL"
      },
      "execution_count": null,
      "outputs": [
        {
          "output_type": "display_data",
          "data": {
            "text/plain": [
              "<Figure size 3600x720 with 1 Axes>"
            ],
            "image/png": "[encoded data removed]"
          },
          "metadata": {
            "needs_background": "light"
          }
        }
      ]
    },
    {
      "cell_type": "markdown",
      "source": [
        "# **Fazendo Predições**"
      ],
      "metadata": {
        "id": "sedPZzg8WiDL"
      }
    },
    {
      "cell_type": "code",
      "source": [
        "len(valores_reais_y)"
      ],
      "metadata": {
        "colab": {
          "base_uri": "https://localhost:8080/"
        },
        "outputId": "7bd453c7-8ba1-45fb-93d5-b48901f9f476",
        "id": "AEx5AqucWiDL"
      },
      "execution_count": null,
      "outputs": [
        {
          "output_type": "execute_result",
          "data": {
            "text/plain": [
              "1"
            ]
          },
          "metadata": {},
          "execution_count": 274
        }
      ]
    },
    {
      "cell_type": "code",
      "source": [
        "len(lst_dados_predicao)"
      ],
      "metadata": {
        "colab": {
          "base_uri": "https://localhost:8080/"
        },
        "outputId": "01a9d00f-f0ad-4be0-c3f6-4c21c6a41aa4",
        "id": "OAvvc5xnWiDL"
      },
      "execution_count": null,
      "outputs": [
        {
          "output_type": "execute_result",
          "data": {
            "text/plain": [
              "1"
            ]
          },
          "metadata": {},
          "execution_count": 275
        }
      ]
    },
    {
      "cell_type": "code",
      "source": [
        "n=len(x_teste)\n",
        "x_teste[n-1] #lembrar que no Python a indexação começa na posição 0"
      ],
      "metadata": {
        "colab": {
          "base_uri": "https://localhost:8080/"
        },
        "outputId": "abec8e15-b058-4679-ae63-ce4e66227ef8",
        "id": "IYTgTA9SWiDL"
      },
      "execution_count": null,
      "outputs": [
        {
          "output_type": "execute_result",
          "data": {
            "text/plain": [
              "array([[0.        ],\n",
              "       [0.29268353]])"
            ]
          },
          "metadata": {},
          "execution_count": 276
        }
      ]
    },
    {
      "cell_type": "code",
      "source": [
        "minha_predicao = modelo.predict([x_teste[n-1]])"
      ],
      "metadata": {
        "colab": {
          "base_uri": "https://localhost:8080/"
        },
        "outputId": "824094a8-a832-47a4-9130-cf65e809a631",
        "id": "MUON1PV1WiDL"
      },
      "execution_count": null,
      "outputs": [
        {
          "output_type": "stream",
          "name": "stderr",
          "text": [
            "WARNING:tensorflow:Model was constructed with shape (None, 2, 1) for input KerasTensor(type_spec=TensorSpec(shape=(None, 2, 1), dtype=tf.float32, name='lstm_18_input'), name='lstm_18_input', description=\"created by layer 'lstm_18_input'\"), but it was called on an input with incompatible shape (None, 1, 1).\n"
          ]
        },
        {
          "output_type": "stream",
          "name": "stdout",
          "text": [
            "1/1 [==============================] - 1s 591ms/step\n"
          ]
        }
      ]
    },
    {
      "cell_type": "code",
      "source": [
        "print(f'minha predição é: {minha_predicao}')"
      ],
      "metadata": {
        "colab": {
          "base_uri": "https://localhost:8080/"
        },
        "outputId": "5f13b4ad-fa7c-4a47-cde4-b141a121532a",
        "id": "jrDBbnjUWiDL"
      },
      "execution_count": null,
      "outputs": [
        {
          "output_type": "stream",
          "name": "stdout",
          "text": [
            "minha predição é: [[0.1243235 ]\n",
            " [0.17135252]]\n"
          ]
        }
      ]
    },
    {
      "cell_type": "code",
      "source": [],
      "metadata": {
        "id": "Z5rgVpMeWiDL"
      },
      "execution_count": null,
      "outputs": []
    },
    {
      "cell_type": "markdown",
      "source": [
        "#RYTT34"
      ],
      "metadata": {
        "id": "TkYO1hYwWiYl"
      }
    },
    {
      "cell_type": "code",
      "source": [
        "y=[]\n",
        "for a in df['RYTT34.SA', 'Close']:\n",
        "  y.append(a)"
      ],
      "metadata": {
        "id": "fpLgigSnWiYl"
      },
      "execution_count": null,
      "outputs": []
    },
    {
      "cell_type": "code",
      "source": [
        "x = np.arange (1,len(y)+1,1)\n"
      ],
      "metadata": {
        "id": "ONV6moXsWiYl"
      },
      "execution_count": null,
      "outputs": []
    },
    {
      "cell_type": "markdown",
      "source": [
        "**padronização dos dados**"
      ],
      "metadata": {
        "id": "cJSMMqMkWiYm"
      }
    },
    {
      "cell_type": "code",
      "source": [
        "minimo = np.min(y)\n",
        "maximo = np.max(y)\n",
        "y = (y - minimo)/(maximo - minimo)"
      ],
      "metadata": {
        "id": "Vur8j4lYWiYm"
      },
      "execution_count": null,
      "outputs": []
    },
    {
      "cell_type": "markdown",
      "source": [
        "**Preparação dos conjuntos de dados de treinamento e de teste**"
      ],
      "metadata": {
        "id": "g70orU9ZWiYm"
      }
    },
    {
      "cell_type": "code",
      "source": [
        "percentual_treinamento = 0.7\n",
        "qtd_treinamento = int(percentual_treinamento*(len(x)));\n",
        "\n",
        "x_treino = x[0:qtd_treinamento] \n",
        "x_teste = x[qtd_treinamento:]\n",
        "\n",
        "y_treino = y[0:qtd_treinamento]\n",
        "y_teste = y[qtd_treinamento:]\n",
        "\n",
        "treino = np.array(list(zip(x_treino, y_treino)))\n",
        "teste = np.array(list(zip(x_teste, y_teste)))\n",
        "\n",
        "for i in range(5):\n",
        "  print('treino[{}]: {}'.format(i+1, treino[i]))\n"
      ],
      "metadata": {
        "colab": {
          "base_uri": "https://localhost:8080/"
        },
        "outputId": "803a34ae-1c59-4865-9d7f-b06a1fdc45cd",
        "id": "uQ0Z_SFhWiYm"
      },
      "execution_count": null,
      "outputs": [
        {
          "output_type": "stream",
          "name": "stdout",
          "text": [
            "treino[1]: [1. 0.]\n",
            "treino[2]: [2.         0.70539502]\n",
            "treino[3]: [3.         0.37759431]\n",
            "treino[4]: [4. 1.]\n",
            "treino[5]: [5.        0.8091293]\n"
          ]
        }
      ]
    },
    {
      "cell_type": "markdown",
      "source": [
        "**Organização do modelo de dados**"
      ],
      "metadata": {
        "id": "iOgzueF_WiYm"
      }
    },
    {
      "cell_type": "code",
      "source": [
        "def create_dataset(n_X, look_back):\n",
        "  dataX = []\n",
        "  dataY = []\n",
        "  for i in range(len(n_X)-look_back):\n",
        "    a = n_X[i:(i+look_back), ]\n",
        "    print('a: {}'.format(a))\n",
        "    dataX.append(a)\n",
        "    dataY.append(n_X[i + look_back, ])\n",
        "  print('dataX: {}'.format(dataX))\n",
        "  return np.array(dataX), np.array(dataY)"
      ],
      "metadata": {
        "id": "3rAAiLIqWiYm"
      },
      "execution_count": null,
      "outputs": []
    },
    {
      "cell_type": "code",
      "source": [
        "def preparar_dados(dados_serie, look_back):\n",
        "  X, y =[],[]\n",
        "  n = len(dados_serie)\n",
        "  for i in range(n - look_back):\n",
        "    posicao_fim = i + look_back\n",
        "    if posicao_fim <= n:\n",
        "      seq_x = dados_serie[i:posicao_fim,1]\n",
        "      seq_y = dados_serie[posicao_fim,1]\n",
        "      X.append(seq_x)\n",
        "      y.append(seq_y)\n",
        "  return np.array(X), np.array(y)"
      ],
      "metadata": {
        "id": "U8D3aoLOWiYm"
      },
      "execution_count": null,
      "outputs": []
    },
    {
      "cell_type": "markdown",
      "source": [
        "**Visualização da estruturação dos dados**"
      ],
      "metadata": {
        "id": "PQMj_euhWiYm"
      }
    },
    {
      "cell_type": "code",
      "source": [
        "  look_back = 2\n",
        "\n",
        "  x_treino, y_treino = preparar_dados(treino, look_back)\n",
        "  x_teste, y_teste = preparar_dados(teste, look_back)\n",
        "  n_caracteristicas = 1 #série monovariada\n",
        "  x_treino = x_treino.reshape((x_treino.shape[0], \n",
        "                               x_treino.shape[1], \n",
        "                               n_caracteristicas))\n",
        "  x_teste = x_teste.reshape((x_teste.shape[0], \n",
        "                         x_teste.shape[1], \n",
        "                         n_caracteristicas))\n",
        "\n",
        "#print('ax: {}'.format(trainx))\n",
        "#print('y: {}'.format(y))\n",
        "  for i in range(5):\n",
        "    print('treino[{}]: {} -> {}'.format(i+1, x_treino[i], y_treino[i]))\n",
        "\n",
        "\n",
        "\n"
      ],
      "metadata": {
        "colab": {
          "base_uri": "https://localhost:8080/"
        },
        "outputId": "c0da8e14-9fab-49cb-fa3a-f86201321513",
        "id": "bOqQFjyiWiYm"
      },
      "execution_count": null,
      "outputs": [
        {
          "output_type": "stream",
          "name": "stdout",
          "text": [
            "treino[1]: [[0.        ]\n",
            " [0.70539502]] -> 0.37759430677083994\n",
            "treino[2]: [[0.70539502]\n",
            " [0.37759431]] -> 1.0\n",
            "treino[3]: [[0.37759431]\n",
            " [1.        ]] -> 0.809129300629345\n",
            "treino[4]: [[1.       ]\n",
            " [0.8091293]] -> 0.8589197300274785\n",
            "treino[5]: [[0.8091293 ]\n",
            " [0.85891973]] -> 0.6265559509186917\n"
          ]
        }
      ]
    },
    {
      "cell_type": "markdown",
      "source": [
        "**Criação do Modelo de Redes Neurais**"
      ],
      "metadata": {
        "id": "EGLPU_OiWiYm"
      }
    },
    {
      "cell_type": "code",
      "source": [
        "import tensorflow as tf\n",
        "from keras.models import Sequential\n",
        "from keras.layers import LSTM, Dense, Dropout\n",
        "n_etapas = x_treino.shape[1]\n",
        "n_caracteristicas = x_treino.shape[2]\n",
        "epocas = 20\n",
        "n_unidades = 100\n",
        "tf.random.set_seed(8888) # Setting seed to ensure reproducibility.\n",
        "modelo = Sequential()\n",
        "camada_de_entrada=(n_etapas, n_caracteristicas)\n",
        "modelo.add(LSTM(n_unidades, \n",
        "               return_sequences = True, \n",
        "               input_shape = camada_de_entrada))\n",
        "modelo.add(Dropout(0.2))\n",
        "modelo.add(LSTM(128,\n",
        "               input_shape = camada_de_entrada))\n",
        "modelo.add(Dense(1))\n"
      ],
      "metadata": {
        "id": "djaE-eEpWiYm"
      },
      "execution_count": null,
      "outputs": []
    },
    {
      "cell_type": "markdown",
      "source": [
        "**Visualização do modelo**"
      ],
      "metadata": {
        "id": "zAZlhi4FWiYm"
      }
    },
    {
      "cell_type": "code",
      "source": [
        "modelo.summary()"
      ],
      "metadata": {
        "colab": {
          "base_uri": "https://localhost:8080/"
        },
        "outputId": "1e506ae1-793d-4356-b84c-c6535a8c6c61",
        "id": "HwHkb8bzWiYm"
      },
      "execution_count": null,
      "outputs": [
        {
          "output_type": "stream",
          "name": "stdout",
          "text": [
            "Model: \"sequential_10\"\n",
            "_________________________________________________________________\n",
            " Layer (type)                Output Shape              Param #   \n",
            "=================================================================\n",
            " lstm_20 (LSTM)              (None, 2, 100)            40800     \n",
            "                                                                 \n",
            " dropout_10 (Dropout)        (None, 2, 100)            0         \n",
            "                                                                 \n",
            " lstm_21 (LSTM)              (None, 128)               117248    \n",
            "                                                                 \n",
            " dense_10 (Dense)            (None, 1)                 129       \n",
            "                                                                 \n",
            "=================================================================\n",
            "Total params: 158,177\n",
            "Trainable params: 158,177\n",
            "Non-trainable params: 0\n",
            "_________________________________________________________________\n"
          ]
        }
      ]
    },
    {
      "cell_type": "markdown",
      "source": [
        "**Escolha de Hiperparâmetros**"
      ],
      "metadata": {
        "id": "lYAyN18eWiYm"
      }
    },
    {
      "cell_type": "code",
      "source": [
        "modelo.compile(loss = 'mean_squared_error', \n",
        "              optimizer = 'adam')"
      ],
      "metadata": {
        "id": "GSH2YygRWiYm"
      },
      "execution_count": null,
      "outputs": []
    },
    {
      "cell_type": "markdown",
      "source": [
        "**Treinamento do Modelo**"
      ],
      "metadata": {
        "id": "UIOisGc9WiYm"
      }
    },
    {
      "cell_type": "code",
      "source": [
        "\n",
        "\n",
        "historico = modelo.fit(x_treino, y_treino,\n",
        "                       epochs = epocas,\n",
        "                       batch_size = 70,\n",
        "                       verbose = False,\n",
        "                       shuffle = False,\n",
        "                       validation_split = 0.3)"
      ],
      "metadata": {
        "id": "amM89KGWWiYm"
      },
      "execution_count": null,
      "outputs": []
    },
    {
      "cell_type": "markdown",
      "source": [
        "**Visualização do \"aprendizado\"**"
      ],
      "metadata": {
        "id": "RfPuCPPJWiYn"
      }
    },
    {
      "cell_type": "code",
      "source": [
        "import pandas as pd\n",
        "hist = pd.DataFrame(historico.history)\n",
        "hist.head()"
      ],
      "metadata": {
        "colab": {
          "base_uri": "https://localhost:8080/",
          "height": 206
        },
        "outputId": "828f4605-1607-4a18-ae08-70dafd8bb239",
        "id": "-1pMZ5YoWiYn"
      },
      "execution_count": null,
      "outputs": [
        {
          "output_type": "execute_result",
          "data": {
            "text/plain": [
              "       loss  val_loss\n",
              "0  0.607412  0.542810\n",
              "1  0.582000  0.512633\n",
              "2  0.559276  0.482857\n",
              "3  0.536568  0.453036\n",
              "4  0.511432  0.422870"
            ],
            "text/html": [
              "\n",
              "  <div id=\"df-5f5c91f5-2338-4429-a0d2-7e4329bad063\">\n",
              "    <div class=\"colab-df-container\">\n",
              "      <div>\n",
              "<style scoped>\n",
              "    .dataframe tbody tr th:only-of-type {\n",
              "        vertical-align: middle;\n",
              "    }\n",
              "\n",
              "    .dataframe tbody tr th {\n",
              "        vertical-align: top;\n",
              "    }\n",
              "\n",
              "    .dataframe thead th {\n",
              "        text-align: right;\n",
              "    }\n",
              "</style>\n",
              "<table border=\"1\" class=\"dataframe\">\n",
              "  <thead>\n",
              "    <tr style=\"text-align: right;\">\n",
              "      <th></th>\n",
              "      <th>loss</th>\n",
              "      <th>val_loss</th>\n",
              "    </tr>\n",
              "  </thead>\n",
              "  <tbody>\n",
              "    <tr>\n",
              "      <th>0</th>\n",
              "      <td>0.607412</td>\n",
              "      <td>0.542810</td>\n",
              "    </tr>\n",
              "    <tr>\n",
              "      <th>1</th>\n",
              "      <td>0.582000</td>\n",
              "      <td>0.512633</td>\n",
              "    </tr>\n",
              "    <tr>\n",
              "      <th>2</th>\n",
              "      <td>0.559276</td>\n",
              "      <td>0.482857</td>\n",
              "    </tr>\n",
              "    <tr>\n",
              "      <th>3</th>\n",
              "      <td>0.536568</td>\n",
              "      <td>0.453036</td>\n",
              "    </tr>\n",
              "    <tr>\n",
              "      <th>4</th>\n",
              "      <td>0.511432</td>\n",
              "      <td>0.422870</td>\n",
              "    </tr>\n",
              "  </tbody>\n",
              "</table>\n",
              "</div>\n",
              "      <button class=\"colab-df-convert\" onclick=\"convertToInteractive('df-5f5c91f5-2338-4429-a0d2-7e4329bad063')\"\n",
              "              title=\"Convert this dataframe to an interactive table.\"\n",
              "              style=\"display:none;\">\n",
              "        \n",
              "  <svg xmlns=\"http://www.w3.org/2000/svg\" height=\"24px\"viewBox=\"0 0 24 24\"\n",
              "       width=\"24px\">\n",
              "    <path d=\"M0 0h24v24H0V0z\" fill=\"none\"/>\n",
              "    <path d=\"M18.56 5.44l.94 2.06.94-2.06 2.06-.94-2.06-.94-.94-2.06-.94 2.06-2.06.94zm-11 1L8.5 8.5l.94-2.06 2.06-.94-2.06-.94L8.5 2.5l-.94 2.06-2.06.94zm10 10l.94 2.06.94-2.06 2.06-.94-2.06-.94-.94-2.06-.94 2.06-2.06.94z\"/><path d=\"M17.41 7.96l-1.37-1.37c-.4-.4-.92-.59-1.43-.59-.52 0-1.04.2-1.43.59L10.3 9.45l-7.72 7.72c-.78.78-.78 2.05 0 2.83L4 21.41c.39.39.9.59 1.41.59.51 0 1.02-.2 1.41-.59l7.78-7.78 2.81-2.81c.8-.78.8-2.07 0-2.86zM5.41 20L4 18.59l7.72-7.72 1.47 1.35L5.41 20z\"/>\n",
              "  </svg>\n",
              "      </button>\n",
              "      \n",
              "  <style>\n",
              "    .colab-df-container {\n",
              "      display:flex;\n",
              "      flex-wrap:wrap;\n",
              "      gap: 12px;\n",
              "    }\n",
              "\n",
              "    .colab-df-convert {\n",
              "      background-color: #E8F0FE;\n",
              "      border: none;\n",
              "      border-radius: 50%;\n",
              "      cursor: pointer;\n",
              "      display: none;\n",
              "      fill: #1967D2;\n",
              "      height: 32px;\n",
              "      padding: 0 0 0 0;\n",
              "      width: 32px;\n",
              "    }\n",
              "\n",
              "    .colab-df-convert:hover {\n",
              "      background-color: #E2EBFA;\n",
              "      box-shadow: 0px 1px 2px rgba(60, 64, 67, 0.3), 0px 1px 3px 1px rgba(60, 64, 67, 0.15);\n",
              "      fill: #174EA6;\n",
              "    }\n",
              "\n",
              "    [theme=dark] .colab-df-convert {\n",
              "      background-color: #3B4455;\n",
              "      fill: #D2E3FC;\n",
              "    }\n",
              "\n",
              "    [theme=dark] .colab-df-convert:hover {\n",
              "      background-color: #434B5C;\n",
              "      box-shadow: 0px 1px 3px 1px rgba(0, 0, 0, 0.15);\n",
              "      filter: drop-shadow(0px 1px 2px rgba(0, 0, 0, 0.3));\n",
              "      fill: #FFFFFF;\n",
              "    }\n",
              "  </style>\n",
              "\n",
              "      <script>\n",
              "        const buttonEl =\n",
              "          document.querySelector('#df-5f5c91f5-2338-4429-a0d2-7e4329bad063 button.colab-df-convert');\n",
              "        buttonEl.style.display =\n",
              "          google.colab.kernel.accessAllowed ? 'block' : 'none';\n",
              "\n",
              "        async function convertToInteractive(key) {\n",
              "          const element = document.querySelector('#df-5f5c91f5-2338-4429-a0d2-7e4329bad063');\n",
              "          const dataTable =\n",
              "            await google.colab.kernel.invokeFunction('convertToInteractive',\n",
              "                                                     [key], {});\n",
              "          if (!dataTable) return;\n",
              "\n",
              "          const docLinkHtml = 'Like what you see? Visit the ' +\n",
              "            '<a target=\"_blank\" href=https://colab.research.google.com/notebooks/data_table.ipynb>data table notebook</a>'\n",
              "            + ' to learn more about interactive tables.';\n",
              "          element.innerHTML = '';\n",
              "          dataTable['output_type'] = 'display_data';\n",
              "          await google.colab.output.renderOutput(dataTable, element);\n",
              "          const docLink = document.createElement('div');\n",
              "          docLink.innerHTML = docLinkHtml;\n",
              "          element.appendChild(docLink);\n",
              "        }\n",
              "      </script>\n",
              "    </div>\n",
              "  </div>\n",
              "  "
            ]
          },
          "metadata": {},
          "execution_count": 290
        }
      ]
    },
    {
      "cell_type": "markdown",
      "source": [
        "**Precisão do Modelo**"
      ],
      "metadata": {
        "id": "l_FVrcR6WiYn"
      }
    },
    {
      "cell_type": "code",
      "source": [
        "loss = modelo.evaluate(x_teste, y_teste, batch_size=64)\n",
        "print(\"loss: {}\".format(loss))"
      ],
      "metadata": {
        "colab": {
          "base_uri": "https://localhost:8080/"
        },
        "outputId": "f444af81-cc69-420d-9e9b-7b65e49eba3e",
        "id": "253U6gffWiYn"
      },
      "execution_count": null,
      "outputs": [
        {
          "output_type": "stream",
          "name": "stdout",
          "text": [
            "1/1 [==============================] - 0s 22ms/step - loss: 0.0949\n",
            "loss: 0.09491804987192154\n"
          ]
        }
      ]
    },
    {
      "cell_type": "markdown",
      "source": [
        "**Visualização do Processo de Aprendizado**"
      ],
      "metadata": {
        "id": "zR-xi8tDWiYn"
      }
    },
    {
      "cell_type": "code",
      "source": [
        "plt.title('Cálculo do Erro ao longo do treinamento')\n",
        "plt.ylabel('Erro')\n",
        "plt.xlabel('Época')\n",
        "plt.plot(historico.history['loss'])\n",
        "plt.plot(historico.history['val_loss'])\n",
        "plt.legend(['loss (treinamento)', 'val_loss (validação)'], loc='upper right')\n",
        "plt.show()"
      ],
      "metadata": {
        "colab": {
          "base_uri": "https://localhost:8080/",
          "height": 297
        },
        "outputId": "8e76fd3a-20c3-4246-b011-fde3c9eab326",
        "id": "9G7OV844WiYn"
      },
      "execution_count": null,
      "outputs": [
        {
          "output_type": "display_data",
          "data": {
            "text/plain": [
              "<Figure size 432x288 with 1 Axes>"
            ],
            "image/png": "[encoded data removed]"
          },
          "metadata": {
            "needs_background": "light"
          }
        }
      ]
    },
    {
      "cell_type": "markdown",
      "source": [
        "**Realização da Predição**"
      ],
      "metadata": {
        "id": "ptpns6iOWiYn"
      }
    },
    {
      "cell_type": "code",
      "source": [
        "predicao = modelo.predict(x_teste)"
      ],
      "metadata": {
        "colab": {
          "base_uri": "https://localhost:8080/"
        },
        "outputId": "c3f77a6c-4131-4df0-89e4-83719d72256e",
        "id": "ciNzqRupWiYn"
      },
      "execution_count": null,
      "outputs": [
        {
          "output_type": "stream",
          "name": "stdout",
          "text": [
            "1/1 [==============================] - 1s 572ms/step\n"
          ]
        }
      ]
    },
    {
      "cell_type": "code",
      "source": [
        "look_back = 1\n",
        "valores_reais_y = y_teste\n",
        "plt.figure(figsize=(50,10))\n",
        "plt.plot(list(range(len(valores_reais_y))), \n",
        "         valores_reais_y, \n",
        "         marker='.', \n",
        "         label=\"Real\")\n",
        "lst_dados_predicao=[w[0] for w in predicao]\n",
        "plt.plot(list(np.arange(len(predicao))-look_back), \n",
        "         lst_dados_predicao, \n",
        "         'r',label=\"Estimação do Modelo\")\n",
        "plt.ylabel('valores', size=15)\n",
        "plt.xlabel('período', size=15)\n",
        "plt.legend(fontsize=15)\n",
        "plt.show()"
      ],
      "metadata": {
        "colab": {
          "base_uri": "https://localhost:8080/",
          "height": 312
        },
        "outputId": "06d38f86-6c2e-4660-f1fe-c7894048b577",
        "id": "yUyaGaDvWiYn"
      },
      "execution_count": null,
      "outputs": [
        {
          "output_type": "display_data",
          "data": {
            "text/plain": [
              "<Figure size 3600x720 with 1 Axes>"
            ],
            "image/png": "[encoded data removed]"
          },
          "metadata": {
            "needs_background": "light"
          }
        }
      ]
    },
    {
      "cell_type": "markdown",
      "source": [
        "# **Fazendo Predições**"
      ],
      "metadata": {
        "id": "Uuq45CcDWiYn"
      }
    },
    {
      "cell_type": "code",
      "source": [
        "len(valores_reais_y)"
      ],
      "metadata": {
        "colab": {
          "base_uri": "https://localhost:8080/"
        },
        "outputId": "b459e1e1-9047-44aa-bd86-090001746317",
        "id": "7yRCm2vbWiYo"
      },
      "execution_count": null,
      "outputs": [
        {
          "output_type": "execute_result",
          "data": {
            "text/plain": [
              "1"
            ]
          },
          "metadata": {},
          "execution_count": 295
        }
      ]
    },
    {
      "cell_type": "code",
      "source": [
        "len(lst_dados_predicao)"
      ],
      "metadata": {
        "colab": {
          "base_uri": "https://localhost:8080/"
        },
        "outputId": "ad187bdb-10ae-406a-cb90-0b13be14045b",
        "id": "K0GfSiJeWiYo"
      },
      "execution_count": null,
      "outputs": [
        {
          "output_type": "execute_result",
          "data": {
            "text/plain": [
              "1"
            ]
          },
          "metadata": {},
          "execution_count": 296
        }
      ]
    },
    {
      "cell_type": "code",
      "source": [
        "n=len(x_teste)\n",
        "x_teste[n-1] #lembrar que no Python a indexação começa na posição 0"
      ],
      "metadata": {
        "colab": {
          "base_uri": "https://localhost:8080/"
        },
        "outputId": "afda9c74-d158-4f18-9991-5f61a94905a2",
        "id": "N79D6aU8WiYo"
      },
      "execution_count": null,
      "outputs": [
        {
          "output_type": "execute_result",
          "data": {
            "text/plain": [
              "array([[0.41908739],\n",
              "       [0.41908739]])"
            ]
          },
          "metadata": {},
          "execution_count": 297
        }
      ]
    },
    {
      "cell_type": "code",
      "source": [
        "minha_predicao = modelo.predict([x_teste[n-1]])"
      ],
      "metadata": {
        "colab": {
          "base_uri": "https://localhost:8080/"
        },
        "outputId": "a3cd56de-139f-4936-b819-abdaab70852d",
        "id": "1KjrJ1ciWiYo"
      },
      "execution_count": null,
      "outputs": [
        {
          "output_type": "stream",
          "name": "stderr",
          "text": [
            "WARNING:tensorflow:Model was constructed with shape (None, 2, 1) for input KerasTensor(type_spec=TensorSpec(shape=(None, 2, 1), dtype=tf.float32, name='lstm_20_input'), name='lstm_20_input', description=\"created by layer 'lstm_20_input'\"), but it was called on an input with incompatible shape (None, 1, 1).\n"
          ]
        },
        {
          "output_type": "stream",
          "name": "stdout",
          "text": [
            "1/1 [==============================] - 1s 621ms/step\n"
          ]
        }
      ]
    },
    {
      "cell_type": "code",
      "source": [
        "print(f'minha predição é: {minha_predicao}')"
      ],
      "metadata": {
        "colab": {
          "base_uri": "https://localhost:8080/"
        },
        "outputId": "6a56f148-1cb0-41ea-bf23-e4195cda6109",
        "id": "F_fyExXjWiYo"
      },
      "execution_count": null,
      "outputs": [
        {
          "output_type": "stream",
          "name": "stdout",
          "text": [
            "minha predição é: [[0.1869132]\n",
            " [0.1869132]]\n"
          ]
        }
      ]
    },
    {
      "cell_type": "code",
      "source": [],
      "metadata": {
        "id": "ahfliH3HWiYo"
      },
      "execution_count": null,
      "outputs": []
    },
    {
      "cell_type": "markdown",
      "source": [
        "#USBC34"
      ],
      "metadata": {
        "id": "gKkr_BUyWiqF"
      }
    },
    {
      "cell_type": "code",
      "source": [
        "y=[]\n",
        "for a in df['USBC34.SA', 'Close']:\n",
        "  y.append(a)"
      ],
      "metadata": {
        "id": "2HrDZ2jZWiqF"
      },
      "execution_count": null,
      "outputs": []
    },
    {
      "cell_type": "code",
      "source": [
        "x = np.arange (1,len(y)+1,1)\n"
      ],
      "metadata": {
        "id": "e44KWYFYWiqF"
      },
      "execution_count": null,
      "outputs": []
    },
    {
      "cell_type": "markdown",
      "source": [
        "**padronização dos dados**"
      ],
      "metadata": {
        "id": "D-Tm8poiWiqG"
      }
    },
    {
      "cell_type": "code",
      "source": [
        "minimo = np.min(y)\n",
        "maximo = np.max(y)\n",
        "y = (y - minimo)/(maximo - minimo)"
      ],
      "metadata": {
        "id": "QCkqnDDeWiqG"
      },
      "execution_count": null,
      "outputs": []
    },
    {
      "cell_type": "markdown",
      "source": [
        "**Preparação dos conjuntos de dados de treinamento e de teste**"
      ],
      "metadata": {
        "id": "8HuGsRCEWiqG"
      }
    },
    {
      "cell_type": "code",
      "source": [
        "percentual_treinamento = 0.7\n",
        "qtd_treinamento = int(percentual_treinamento*(len(x)));\n",
        "\n",
        "x_treino = x[0:qtd_treinamento] \n",
        "x_teste = x[qtd_treinamento:]\n",
        "\n",
        "y_treino = y[0:qtd_treinamento]\n",
        "y_teste = y[qtd_treinamento:]\n",
        "\n",
        "treino = np.array(list(zip(x_treino, y_treino)))\n",
        "teste = np.array(list(zip(x_teste, y_teste)))\n",
        "\n",
        "for i in range(5):\n",
        "  print('treino[{}]: {}'.format(i+1, treino[i]))\n"
      ],
      "metadata": {
        "colab": {
          "base_uri": "https://localhost:8080/"
        },
        "outputId": "4f621e2d-a13e-451c-bd9b-29ea30841ca1",
        "id": "J-GEgwV9WiqG"
      },
      "execution_count": null,
      "outputs": [
        {
          "output_type": "stream",
          "name": "stdout",
          "text": [
            "treino[1]: [1. 1.]\n",
            "treino[2]: [2.         0.61538499]\n",
            "treino[3]: [3. 0.]\n",
            "treino[4]: [4. 0.]\n",
            "treino[5]: [5. 0.]\n"
          ]
        }
      ]
    },
    {
      "cell_type": "markdown",
      "source": [
        "**Organização do modelo de dados**"
      ],
      "metadata": {
        "id": "cE0cNugRWiqG"
      }
    },
    {
      "cell_type": "code",
      "source": [
        "def create_dataset(n_X, look_back):\n",
        "  dataX = []\n",
        "  dataY = []\n",
        "  for i in range(len(n_X)-look_back):\n",
        "    a = n_X[i:(i+look_back), ]\n",
        "    print('a: {}'.format(a))\n",
        "    dataX.append(a)\n",
        "    dataY.append(n_X[i + look_back, ])\n",
        "  print('dataX: {}'.format(dataX))\n",
        "  return np.array(dataX), np.array(dataY)"
      ],
      "metadata": {
        "id": "9kiuVFoVWiqG"
      },
      "execution_count": null,
      "outputs": []
    },
    {
      "cell_type": "code",
      "source": [
        "def preparar_dados(dados_serie, look_back):\n",
        "  X, y =[],[]\n",
        "  n = len(dados_serie)\n",
        "  for i in range(n - look_back):\n",
        "    posicao_fim = i + look_back\n",
        "    if posicao_fim <= n:\n",
        "      seq_x = dados_serie[i:posicao_fim,1]\n",
        "      seq_y = dados_serie[posicao_fim,1]\n",
        "      X.append(seq_x)\n",
        "      y.append(seq_y)\n",
        "  return np.array(X), np.array(y)"
      ],
      "metadata": {
        "id": "1svoq6eAWiqG"
      },
      "execution_count": null,
      "outputs": []
    },
    {
      "cell_type": "markdown",
      "source": [
        "**Visualização da estruturação dos dados**"
      ],
      "metadata": {
        "id": "xDC9UBHRWiqG"
      }
    },
    {
      "cell_type": "code",
      "source": [
        "  look_back = 2\n",
        "\n",
        "  x_treino, y_treino = preparar_dados(treino, look_back)\n",
        "  x_teste, y_teste = preparar_dados(teste, look_back)\n",
        "  n_caracteristicas = 1 #série monovariada\n",
        "  x_treino = x_treino.reshape((x_treino.shape[0], \n",
        "                               x_treino.shape[1], \n",
        "                               n_caracteristicas))\n",
        "  x_teste = x_teste.reshape((x_teste.shape[0], \n",
        "                         x_teste.shape[1], \n",
        "                         n_caracteristicas))\n",
        "\n",
        "#print('ax: {}'.format(trainx))\n",
        "#print('y: {}'.format(y))\n",
        "  for i in range(5):\n",
        "    print('treino[{}]: {} -> {}'.format(i+1, x_treino[i], y_treino[i]))\n",
        "\n",
        "\n",
        "\n"
      ],
      "metadata": {
        "colab": {
          "base_uri": "https://localhost:8080/"
        },
        "outputId": "5c1ac10b-e551-45e6-f24b-297a2b7a1e2d",
        "id": "YT30Y6snWiqG"
      },
      "execution_count": null,
      "outputs": [
        {
          "output_type": "stream",
          "name": "stdout",
          "text": [
            "treino[1]: [[1.        ]\n",
            " [0.61538499]] -> 0.0\n",
            "treino[2]: [[0.61538499]\n",
            " [0.        ]] -> 0.0\n",
            "treino[3]: [[0.]\n",
            " [0.]] -> 0.0\n",
            "treino[4]: [[0.]\n",
            " [0.]] -> 0.0\n",
            "treino[5]: [[0.]\n",
            " [0.]] -> 0.0\n"
          ]
        }
      ]
    },
    {
      "cell_type": "markdown",
      "source": [
        "**Criação do Modelo de Redes Neurais**"
      ],
      "metadata": {
        "id": "XPVp3wVkWiqG"
      }
    },
    {
      "cell_type": "code",
      "source": [
        "import tensorflow as tf\n",
        "from keras.models import Sequential\n",
        "from keras.layers import LSTM, Dense, Dropout\n",
        "n_etapas = x_treino.shape[1]\n",
        "n_caracteristicas = x_treino.shape[2]\n",
        "epocas = 20\n",
        "n_unidades = 100\n",
        "tf.random.set_seed(8888) # Setting seed to ensure reproducibility.\n",
        "modelo = Sequential()\n",
        "camada_de_entrada=(n_etapas, n_caracteristicas)\n",
        "modelo.add(LSTM(n_unidades, \n",
        "               return_sequences = True, \n",
        "               input_shape = camada_de_entrada))\n",
        "modelo.add(Dropout(0.2))\n",
        "modelo.add(LSTM(128,\n",
        "               input_shape = camada_de_entrada))\n",
        "modelo.add(Dense(1))\n"
      ],
      "metadata": {
        "id": "qz69KD_3WiqG"
      },
      "execution_count": null,
      "outputs": []
    },
    {
      "cell_type": "markdown",
      "source": [
        "**Visualização do modelo**"
      ],
      "metadata": {
        "id": "m8UwQwvpWiqH"
      }
    },
    {
      "cell_type": "code",
      "source": [
        "modelo.summary()"
      ],
      "metadata": {
        "colab": {
          "base_uri": "https://localhost:8080/"
        },
        "outputId": "263caef1-19c0-48c3-97cb-ea46398aa1cf",
        "id": "SXuTVrzkWiqH"
      },
      "execution_count": null,
      "outputs": [
        {
          "output_type": "stream",
          "name": "stdout",
          "text": [
            "Model: \"sequential_11\"\n",
            "_________________________________________________________________\n",
            " Layer (type)                Output Shape              Param #   \n",
            "=================================================================\n",
            " lstm_22 (LSTM)              (None, 2, 100)            40800     \n",
            "                                                                 \n",
            " dropout_11 (Dropout)        (None, 2, 100)            0         \n",
            "                                                                 \n",
            " lstm_23 (LSTM)              (None, 128)               117248    \n",
            "                                                                 \n",
            " dense_11 (Dense)            (None, 1)                 129       \n",
            "                                                                 \n",
            "=================================================================\n",
            "Total params: 158,177\n",
            "Trainable params: 158,177\n",
            "Non-trainable params: 0\n",
            "_________________________________________________________________\n"
          ]
        }
      ]
    },
    {
      "cell_type": "markdown",
      "source": [
        "**Escolha de Hiperparâmetros**"
      ],
      "metadata": {
        "id": "69u8qQ9BWiqH"
      }
    },
    {
      "cell_type": "code",
      "source": [
        "modelo.compile(loss = 'mean_squared_error', \n",
        "              optimizer = 'adam')"
      ],
      "metadata": {
        "id": "gXw6S3_uWiqH"
      },
      "execution_count": null,
      "outputs": []
    },
    {
      "cell_type": "markdown",
      "source": [
        "**Treinamento do Modelo**"
      ],
      "metadata": {
        "id": "Xt6CAMPWWiqH"
      }
    },
    {
      "cell_type": "code",
      "source": [
        "\n",
        "\n",
        "historico = modelo.fit(x_treino, y_treino,\n",
        "                       epochs = epocas,\n",
        "                       batch_size = 70,\n",
        "                       verbose = False,\n",
        "                       shuffle = False,\n",
        "                       validation_split = 0.3)"
      ],
      "metadata": {
        "id": "JYmlEsxDWiqH"
      },
      "execution_count": null,
      "outputs": []
    },
    {
      "cell_type": "markdown",
      "source": [
        "**Visualização do \"aprendizado\"**"
      ],
      "metadata": {
        "id": "GEn-piRnWiqH"
      }
    },
    {
      "cell_type": "code",
      "source": [
        "import pandas as pd\n",
        "hist = pd.DataFrame(historico.history)\n",
        "hist.head()"
      ],
      "metadata": {
        "colab": {
          "base_uri": "https://localhost:8080/",
          "height": 206
        },
        "outputId": "15b45072-ca1b-4b09-b130-d025113f481a",
        "id": "uNFD2EIEWiqH"
      },
      "execution_count": null,
      "outputs": [
        {
          "output_type": "execute_result",
          "data": {
            "text/plain": [
              "       loss      val_loss\n",
              "0  0.000041  5.434067e-05\n",
              "1  0.000036  4.130909e-05\n",
              "2  0.000030  9.730917e-06\n",
              "3  0.000005  1.288016e-07\n",
              "4  0.000002  1.010317e-05"
            ],
            "text/html": [
              "\n",
              "  <div id=\"df-c8e30206-405f-40a7-8edb-74f5f121ddad\">\n",
              "    <div class=\"colab-df-container\">\n",
              "      <div>\n",
              "<style scoped>\n",
              "    .dataframe tbody tr th:only-of-type {\n",
              "        vertical-align: middle;\n",
              "    }\n",
              "\n",
              "    .dataframe tbody tr th {\n",
              "        vertical-align: top;\n",
              "    }\n",
              "\n",
              "    .dataframe thead th {\n",
              "        text-align: right;\n",
              "    }\n",
              "</style>\n",
              "<table border=\"1\" class=\"dataframe\">\n",
              "  <thead>\n",
              "    <tr style=\"text-align: right;\">\n",
              "      <th></th>\n",
              "      <th>loss</th>\n",
              "      <th>val_loss</th>\n",
              "    </tr>\n",
              "  </thead>\n",
              "  <tbody>\n",
              "    <tr>\n",
              "      <th>0</th>\n",
              "      <td>0.000041</td>\n",
              "      <td>5.434067e-05</td>\n",
              "    </tr>\n",
              "    <tr>\n",
              "      <th>1</th>\n",
              "      <td>0.000036</td>\n",
              "      <td>4.130909e-05</td>\n",
              "    </tr>\n",
              "    <tr>\n",
              "      <th>2</th>\n",
              "      <td>0.000030</td>\n",
              "      <td>9.730917e-06</td>\n",
              "    </tr>\n",
              "    <tr>\n",
              "      <th>3</th>\n",
              "      <td>0.000005</td>\n",
              "      <td>1.288016e-07</td>\n",
              "    </tr>\n",
              "    <tr>\n",
              "      <th>4</th>\n",
              "      <td>0.000002</td>\n",
              "      <td>1.010317e-05</td>\n",
              "    </tr>\n",
              "  </tbody>\n",
              "</table>\n",
              "</div>\n",
              "      <button class=\"colab-df-convert\" onclick=\"convertToInteractive('df-c8e30206-405f-40a7-8edb-74f5f121ddad')\"\n",
              "              title=\"Convert this dataframe to an interactive table.\"\n",
              "              style=\"display:none;\">\n",
              "        \n",
              "  <svg xmlns=\"http://www.w3.org/2000/svg\" height=\"24px\"viewBox=\"0 0 24 24\"\n",
              "       width=\"24px\">\n",
              "    <path d=\"M0 0h24v24H0V0z\" fill=\"none\"/>\n",
              "    <path d=\"M18.56 5.44l.94 2.06.94-2.06 2.06-.94-2.06-.94-.94-2.06-.94 2.06-2.06.94zm-11 1L8.5 8.5l.94-2.06 2.06-.94-2.06-.94L8.5 2.5l-.94 2.06-2.06.94zm10 10l.94 2.06.94-2.06 2.06-.94-2.06-.94-.94-2.06-.94 2.06-2.06.94z\"/><path d=\"M17.41 7.96l-1.37-1.37c-.4-.4-.92-.59-1.43-.59-.52 0-1.04.2-1.43.59L10.3 9.45l-7.72 7.72c-.78.78-.78 2.05 0 2.83L4 21.41c.39.39.9.59 1.41.59.51 0 1.02-.2 1.41-.59l7.78-7.78 2.81-2.81c.8-.78.8-2.07 0-2.86zM5.41 20L4 18.59l7.72-7.72 1.47 1.35L5.41 20z\"/>\n",
              "  </svg>\n",
              "      </button>\n",
              "      \n",
              "  <style>\n",
              "    .colab-df-container {\n",
              "      display:flex;\n",
              "      flex-wrap:wrap;\n",
              "      gap: 12px;\n",
              "    }\n",
              "\n",
              "    .colab-df-convert {\n",
              "      background-color: #E8F0FE;\n",
              "      border: none;\n",
              "      border-radius: 50%;\n",
              "      cursor: pointer;\n",
              "      display: none;\n",
              "      fill: #1967D2;\n",
              "      height: 32px;\n",
              "      padding: 0 0 0 0;\n",
              "      width: 32px;\n",
              "    }\n",
              "\n",
              "    .colab-df-convert:hover {\n",
              "      background-color: #E2EBFA;\n",
              "      box-shadow: 0px 1px 2px rgba(60, 64, 67, 0.3), 0px 1px 3px 1px rgba(60, 64, 67, 0.15);\n",
              "      fill: #174EA6;\n",
              "    }\n",
              "\n",
              "    [theme=dark] .colab-df-convert {\n",
              "      background-color: #3B4455;\n",
              "      fill: #D2E3FC;\n",
              "    }\n",
              "\n",
              "    [theme=dark] .colab-df-convert:hover {\n",
              "      background-color: #434B5C;\n",
              "      box-shadow: 0px 1px 3px 1px rgba(0, 0, 0, 0.15);\n",
              "      filter: drop-shadow(0px 1px 2px rgba(0, 0, 0, 0.3));\n",
              "      fill: #FFFFFF;\n",
              "    }\n",
              "  </style>\n",
              "\n",
              "      <script>\n",
              "        const buttonEl =\n",
              "          document.querySelector('#df-c8e30206-405f-40a7-8edb-74f5f121ddad button.colab-df-convert');\n",
              "        buttonEl.style.display =\n",
              "          google.colab.kernel.accessAllowed ? 'block' : 'none';\n",
              "\n",
              "        async function convertToInteractive(key) {\n",
              "          const element = document.querySelector('#df-c8e30206-405f-40a7-8edb-74f5f121ddad');\n",
              "          const dataTable =\n",
              "            await google.colab.kernel.invokeFunction('convertToInteractive',\n",
              "                                                     [key], {});\n",
              "          if (!dataTable) return;\n",
              "\n",
              "          const docLinkHtml = 'Like what you see? Visit the ' +\n",
              "            '<a target=\"_blank\" href=https://colab.research.google.com/notebooks/data_table.ipynb>data table notebook</a>'\n",
              "            + ' to learn more about interactive tables.';\n",
              "          element.innerHTML = '';\n",
              "          dataTable['output_type'] = 'display_data';\n",
              "          await google.colab.output.renderOutput(dataTable, element);\n",
              "          const docLink = document.createElement('div');\n",
              "          docLink.innerHTML = docLinkHtml;\n",
              "          element.appendChild(docLink);\n",
              "        }\n",
              "      </script>\n",
              "    </div>\n",
              "  </div>\n",
              "  "
            ]
          },
          "metadata": {},
          "execution_count": 311
        }
      ]
    },
    {
      "cell_type": "markdown",
      "source": [
        "**Precisão do Modelo**"
      ],
      "metadata": {
        "id": "dWnymq-RWiqH"
      }
    },
    {
      "cell_type": "code",
      "source": [
        "loss = modelo.evaluate(x_teste, y_teste, batch_size=64)\n",
        "print(\"loss: {}\".format(loss))"
      ],
      "metadata": {
        "colab": {
          "base_uri": "https://localhost:8080/"
        },
        "outputId": "de4f23ed-a39b-4c09-f764-a78fced1314f",
        "id": "Aj88ScbsWiqH"
      },
      "execution_count": null,
      "outputs": [
        {
          "output_type": "stream",
          "name": "stdout",
          "text": [
            "1/1 [==============================] - 0s 25ms/step - loss: 9.7955e-07\n",
            "loss: 9.795537607715232e-07\n"
          ]
        }
      ]
    },
    {
      "cell_type": "markdown",
      "source": [
        "**Visualização do Processo de Aprendizado**"
      ],
      "metadata": {
        "id": "o9jNWI-HWiqH"
      }
    },
    {
      "cell_type": "code",
      "source": [
        "plt.title('Cálculo do Erro ao longo do treinamento')\n",
        "plt.ylabel('Erro')\n",
        "plt.xlabel('Época')\n",
        "plt.plot(historico.history['loss'])\n",
        "plt.plot(historico.history['val_loss'])\n",
        "plt.legend(['loss (treinamento)', 'val_loss (validação)'], loc='upper right')\n",
        "plt.show()"
      ],
      "metadata": {
        "colab": {
          "base_uri": "https://localhost:8080/",
          "height": 297
        },
        "outputId": "ccdef9fc-6cdc-4976-9680-8a7a57285cf7",
        "id": "FD-vzU1OWiqI"
      },
      "execution_count": null,
      "outputs": [
        {
          "output_type": "display_data",
          "data": {
            "text/plain": [
              "<Figure size 432x288 with 1 Axes>"
            ],
            "image/png": "[encoded data removed]"
          },
          "metadata": {
            "needs_background": "light"
          }
        }
      ]
    },
    {
      "cell_type": "markdown",
      "source": [
        "**Realização da Predição**"
      ],
      "metadata": {
        "id": "nzeJQbXdWiqI"
      }
    },
    {
      "cell_type": "code",
      "source": [
        "predicao = modelo.predict(x_teste)"
      ],
      "metadata": {
        "colab": {
          "base_uri": "https://localhost:8080/"
        },
        "outputId": "c3da1a8e-0a15-45cf-dce2-5b8b874d27c3",
        "id": "R_4jxPFKWiqI"
      },
      "execution_count": null,
      "outputs": [
        {
          "output_type": "stream",
          "name": "stdout",
          "text": [
            "1/1 [==============================] - 1s 823ms/step\n"
          ]
        }
      ]
    },
    {
      "cell_type": "code",
      "source": [
        "look_back = 1\n",
        "valores_reais_y = y_teste\n",
        "plt.figure(figsize=(50,10))\n",
        "plt.plot(list(range(len(valores_reais_y))), \n",
        "         valores_reais_y, \n",
        "         marker='.', \n",
        "         label=\"Real\")\n",
        "lst_dados_predicao=[w[0] for w in predicao]\n",
        "plt.plot(list(np.arange(len(predicao))-look_back), \n",
        "         lst_dados_predicao, \n",
        "         'r',label=\"Estimação do Modelo\")\n",
        "plt.ylabel('valores', size=15)\n",
        "plt.xlabel('período', size=15)\n",
        "plt.legend(fontsize=15)\n",
        "plt.show()"
      ],
      "metadata": {
        "colab": {
          "base_uri": "https://localhost:8080/",
          "height": 310
        },
        "outputId": "db4ae5d6-0f92-4489-cdc4-1c53f7a0f623",
        "id": "RRCl-KyYWiqI"
      },
      "execution_count": null,
      "outputs": [
        {
          "output_type": "display_data",
          "data": {
            "text/plain": [
              "<Figure size 3600x720 with 1 Axes>"
            ],
            "image/png": "[encoded data removed]"
          },
          "metadata": {
            "needs_background": "light"
          }
        }
      ]
    },
    {
      "cell_type": "markdown",
      "source": [
        "# **Fazendo Predições**"
      ],
      "metadata": {
        "id": "174t-IRiWiqI"
      }
    },
    {
      "cell_type": "code",
      "source": [
        "len(valores_reais_y)"
      ],
      "metadata": {
        "colab": {
          "base_uri": "https://localhost:8080/"
        },
        "outputId": "b8550697-1dce-43ed-ce34-82a91a9a95e5",
        "id": "MUBEApcBWiqI"
      },
      "execution_count": null,
      "outputs": [
        {
          "output_type": "execute_result",
          "data": {
            "text/plain": [
              "1"
            ]
          },
          "metadata": {},
          "execution_count": 316
        }
      ]
    },
    {
      "cell_type": "code",
      "source": [
        "len(lst_dados_predicao)"
      ],
      "metadata": {
        "colab": {
          "base_uri": "https://localhost:8080/"
        },
        "outputId": "c5ed57b9-a11e-49c2-cca4-8c890ffa6523",
        "id": "qnuqfGfdWiqI"
      },
      "execution_count": null,
      "outputs": [
        {
          "output_type": "execute_result",
          "data": {
            "text/plain": [
              "1"
            ]
          },
          "metadata": {},
          "execution_count": 317
        }
      ]
    },
    {
      "cell_type": "code",
      "source": [
        "n=len(x_teste)\n",
        "x_teste[n-1] #lembrar que no Python a indexação começa na posição 0"
      ],
      "metadata": {
        "colab": {
          "base_uri": "https://localhost:8080/"
        },
        "outputId": "7217d95d-a29d-42da-ae2a-0ec0a2126959",
        "id": "fO8vwzw9WiqI"
      },
      "execution_count": null,
      "outputs": [
        {
          "output_type": "execute_result",
          "data": {
            "text/plain": [
              "array([[0.],\n",
              "       [0.]])"
            ]
          },
          "metadata": {},
          "execution_count": 318
        }
      ]
    },
    {
      "cell_type": "code",
      "source": [
        "minha_predicao = modelo.predict([x_teste[n-1]])"
      ],
      "metadata": {
        "colab": {
          "base_uri": "https://localhost:8080/"
        },
        "outputId": "54a6d46f-fef1-44cd-eebb-2b804c5fb27c",
        "id": "Sq7ETxvYWiqI"
      },
      "execution_count": null,
      "outputs": [
        {
          "output_type": "stream",
          "name": "stderr",
          "text": [
            "WARNING:tensorflow:Model was constructed with shape (None, 2, 1) for input KerasTensor(type_spec=TensorSpec(shape=(None, 2, 1), dtype=tf.float32, name='lstm_22_input'), name='lstm_22_input', description=\"created by layer 'lstm_22_input'\"), but it was called on an input with incompatible shape (None, 1, 1).\n"
          ]
        },
        {
          "output_type": "stream",
          "name": "stdout",
          "text": [
            "1/1 [==============================] - 1s 888ms/step\n"
          ]
        }
      ]
    },
    {
      "cell_type": "code",
      "source": [
        "print(f'minha predição é: {minha_predicao}')"
      ],
      "metadata": {
        "colab": {
          "base_uri": "https://localhost:8080/"
        },
        "outputId": "13925263-380c-4e44-8d08-98c891f1aed2",
        "id": "vIzKfFvbWiqI"
      },
      "execution_count": null,
      "outputs": [
        {
          "output_type": "stream",
          "name": "stdout",
          "text": [
            "minha predição é: [[-0.00068114]\n",
            " [-0.00068114]]\n"
          ]
        }
      ]
    },
    {
      "cell_type": "code",
      "source": [],
      "metadata": {
        "id": "1I20ZHk0WiqI"
      },
      "execution_count": null,
      "outputs": []
    },
    {
      "cell_type": "markdown",
      "source": [
        "#ADBE34"
      ],
      "metadata": {
        "id": "Q3QFqnRLWjHA"
      }
    },
    {
      "cell_type": "code",
      "source": [
        "y=[]\n",
        "for a in df['ADBE34.SA', 'Close']:\n",
        "  y.append(a)"
      ],
      "metadata": {
        "id": "jEFfPCh4WjHA"
      },
      "execution_count": null,
      "outputs": []
    },
    {
      "cell_type": "code",
      "source": [
        "x = np.arange (1,len(y)+1,1)\n"
      ],
      "metadata": {
        "id": "sWxcK9s-WjHB"
      },
      "execution_count": null,
      "outputs": []
    },
    {
      "cell_type": "markdown",
      "source": [
        "**padronização dos dados**"
      ],
      "metadata": {
        "id": "9R3jtk20WjHB"
      }
    },
    {
      "cell_type": "code",
      "source": [
        "minimo = np.min(y)\n",
        "maximo = np.max(y)\n",
        "y = (y - minimo)/(maximo - minimo)"
      ],
      "metadata": {
        "id": "wuXJTdIWWjHB"
      },
      "execution_count": null,
      "outputs": []
    },
    {
      "cell_type": "markdown",
      "source": [
        "**Preparação dos conjuntos de dados de treinamento e de teste**"
      ],
      "metadata": {
        "id": "PVP-wI-bWjHB"
      }
    },
    {
      "cell_type": "code",
      "source": [
        "percentual_treinamento = 0.7\n",
        "qtd_treinamento = int(percentual_treinamento*(len(x)));\n",
        "\n",
        "x_treino = x[0:qtd_treinamento] \n",
        "x_teste = x[qtd_treinamento:]\n",
        "\n",
        "y_treino = y[0:qtd_treinamento]\n",
        "y_teste = y[qtd_treinamento:]\n",
        "\n",
        "treino = np.array(list(zip(x_treino, y_treino)))\n",
        "teste = np.array(list(zip(x_teste, y_teste)))\n",
        "\n",
        "for i in range(5):\n",
        "  print('treino[{}]: {}'.format(i+1, treino[i]))\n"
      ],
      "metadata": {
        "colab": {
          "base_uri": "https://localhost:8080/"
        },
        "outputId": "94c19af7-e8e2-4e40-e746-ee5649de36e6",
        "id": "Zb0BGx72WjHB"
      },
      "execution_count": null,
      "outputs": [
        {
          "output_type": "stream",
          "name": "stdout",
          "text": [
            "treino[1]: [1. 1.]\n",
            "treino[2]: [2.         0.84640015]\n",
            "treino[3]: [3.         0.85440002]\n",
            "treino[4]: [4.         0.96960022]\n",
            "treino[5]: [5.         0.92160034]\n"
          ]
        }
      ]
    },
    {
      "cell_type": "markdown",
      "source": [
        "**Organização do modelo de dados**"
      ],
      "metadata": {
        "id": "-vcnCTjyWjHB"
      }
    },
    {
      "cell_type": "code",
      "source": [
        "def create_dataset(n_X, look_back):\n",
        "  dataX = []\n",
        "  dataY = []\n",
        "  for i in range(len(n_X)-look_back):\n",
        "    a = n_X[i:(i+look_back), ]\n",
        "    print('a: {}'.format(a))\n",
        "    dataX.append(a)\n",
        "    dataY.append(n_X[i + look_back, ])\n",
        "  print('dataX: {}'.format(dataX))\n",
        "  return np.array(dataX), np.array(dataY)"
      ],
      "metadata": {
        "id": "9V9ufRiUWjHB"
      },
      "execution_count": null,
      "outputs": []
    },
    {
      "cell_type": "code",
      "source": [
        "def preparar_dados(dados_serie, look_back):\n",
        "  X, y =[],[]\n",
        "  n = len(dados_serie)\n",
        "  for i in range(n - look_back):\n",
        "    posicao_fim = i + look_back\n",
        "    if posicao_fim <= n:\n",
        "      seq_x = dados_serie[i:posicao_fim,1]\n",
        "      seq_y = dados_serie[posicao_fim,1]\n",
        "      X.append(seq_x)\n",
        "      y.append(seq_y)\n",
        "  return np.array(X), np.array(y)"
      ],
      "metadata": {
        "id": "YkCrGV-IWjHB"
      },
      "execution_count": null,
      "outputs": []
    },
    {
      "cell_type": "markdown",
      "source": [
        "**Visualização da estruturação dos dados**"
      ],
      "metadata": {
        "id": "zUDkl1MCWjHB"
      }
    },
    {
      "cell_type": "code",
      "source": [
        "  look_back = 2\n",
        "\n",
        "  x_treino, y_treino = preparar_dados(treino, look_back)\n",
        "  x_teste, y_teste = preparar_dados(teste, look_back)\n",
        "  n_caracteristicas = 1 #série monovariada\n",
        "  x_treino = x_treino.reshape((x_treino.shape[0], \n",
        "                               x_treino.shape[1], \n",
        "                               n_caracteristicas))\n",
        "  x_teste = x_teste.reshape((x_teste.shape[0], \n",
        "                         x_teste.shape[1], \n",
        "                         n_caracteristicas))\n",
        "\n",
        "#print('ax: {}'.format(trainx))\n",
        "#print('y: {}'.format(y))\n",
        "  for i in range(5):\n",
        "    print('treino[{}]: {} -> {}'.format(i+1, x_treino[i], y_treino[i]))\n",
        "\n",
        "\n",
        "\n"
      ],
      "metadata": {
        "colab": {
          "base_uri": "https://localhost:8080/"
        },
        "outputId": "c70600be-eaa6-4c89-de8f-43cbd4a165dd",
        "id": "hSjM1a35WjHB"
      },
      "execution_count": null,
      "outputs": [
        {
          "output_type": "stream",
          "name": "stdout",
          "text": [
            "treino[1]: [[1.        ]\n",
            " [0.84640015]] -> 0.8544000244140625\n",
            "treino[2]: [[0.84640015]\n",
            " [0.85440002]] -> 0.9696002197265625\n",
            "treino[3]: [[0.85440002]\n",
            " [0.96960022]] -> 0.921600341796875\n",
            "treino[4]: [[0.96960022]\n",
            " [0.92160034]] -> 0.779200439453125\n",
            "treino[5]: [[0.92160034]\n",
            " [0.77920044]] -> 0.561600341796875\n"
          ]
        }
      ]
    },
    {
      "cell_type": "markdown",
      "source": [
        "**Criação do Modelo de Redes Neurais**"
      ],
      "metadata": {
        "id": "yVAGcgfsWjHC"
      }
    },
    {
      "cell_type": "code",
      "source": [
        "import tensorflow as tf\n",
        "from keras.models import Sequential\n",
        "from keras.layers import LSTM, Dense, Dropout\n",
        "n_etapas = x_treino.shape[1]\n",
        "n_caracteristicas = x_treino.shape[2]\n",
        "epocas = 20\n",
        "n_unidades = 100\n",
        "tf.random.set_seed(8888) # Setting seed to ensure reproducibility.\n",
        "modelo = Sequential()\n",
        "camada_de_entrada=(n_etapas, n_caracteristicas)\n",
        "modelo.add(LSTM(n_unidades, \n",
        "               return_sequences = True, \n",
        "               input_shape = camada_de_entrada))\n",
        "modelo.add(Dropout(0.2))\n",
        "modelo.add(LSTM(128,\n",
        "               input_shape = camada_de_entrada))\n",
        "modelo.add(Dense(1))\n"
      ],
      "metadata": {
        "id": "QT9jfxfaWjHC"
      },
      "execution_count": null,
      "outputs": []
    },
    {
      "cell_type": "markdown",
      "source": [
        "**Visualização do modelo**"
      ],
      "metadata": {
        "id": "Ra2hk-GoWjHC"
      }
    },
    {
      "cell_type": "code",
      "source": [
        "modelo.summary()"
      ],
      "metadata": {
        "colab": {
          "base_uri": "https://localhost:8080/"
        },
        "outputId": "76ed81a6-9e6c-4293-a055-3018dcfccf2d",
        "id": "u1lviV-0WjHC"
      },
      "execution_count": null,
      "outputs": [
        {
          "output_type": "stream",
          "name": "stdout",
          "text": [
            "Model: \"sequential_12\"\n",
            "_________________________________________________________________\n",
            " Layer (type)                Output Shape              Param #   \n",
            "=================================================================\n",
            " lstm_24 (LSTM)              (None, 2, 100)            40800     \n",
            "                                                                 \n",
            " dropout_12 (Dropout)        (None, 2, 100)            0         \n",
            "                                                                 \n",
            " lstm_25 (LSTM)              (None, 128)               117248    \n",
            "                                                                 \n",
            " dense_12 (Dense)            (None, 1)                 129       \n",
            "                                                                 \n",
            "=================================================================\n",
            "Total params: 158,177\n",
            "Trainable params: 158,177\n",
            "Non-trainable params: 0\n",
            "_________________________________________________________________\n"
          ]
        }
      ]
    },
    {
      "cell_type": "markdown",
      "source": [
        "**Escolha de Hiperparâmetros**"
      ],
      "metadata": {
        "id": "VIw6JlMYWjHC"
      }
    },
    {
      "cell_type": "code",
      "source": [
        "modelo.compile(loss = 'mean_squared_error', \n",
        "              optimizer = 'adam')"
      ],
      "metadata": {
        "id": "H_C8GLuGWjHC"
      },
      "execution_count": null,
      "outputs": []
    },
    {
      "cell_type": "markdown",
      "source": [
        "**Treinamento do Modelo**"
      ],
      "metadata": {
        "id": "BHM84RH5WjHC"
      }
    },
    {
      "cell_type": "code",
      "source": [
        "\n",
        "\n",
        "historico = modelo.fit(x_treino, y_treino,\n",
        "                       epochs = epocas,\n",
        "                       batch_size = 70,\n",
        "                       verbose = False,\n",
        "                       shuffle = False,\n",
        "                       validation_split = 0.3)"
      ],
      "metadata": {
        "id": "sXx42mCzWjHC"
      },
      "execution_count": null,
      "outputs": []
    },
    {
      "cell_type": "markdown",
      "source": [
        "**Visualização do \"aprendizado\"**"
      ],
      "metadata": {
        "id": "kTt4YH97WjHC"
      }
    },
    {
      "cell_type": "code",
      "source": [
        "import pandas as pd\n",
        "hist = pd.DataFrame(historico.history)\n",
        "hist.head()"
      ],
      "metadata": {
        "colab": {
          "base_uri": "https://localhost:8080/",
          "height": 206
        },
        "outputId": "929d00b6-1059-4c00-f046-2a0bd2b90c4e",
        "id": "s1AhGCGrWjHC"
      },
      "execution_count": null,
      "outputs": [
        {
          "output_type": "execute_result",
          "data": {
            "text/plain": [
              "       loss  val_loss\n",
              "0  0.861460  0.444326\n",
              "1  0.816433  0.415314\n",
              "2  0.780049  0.387037\n",
              "3  0.736518  0.358994\n",
              "4  0.692279  0.330910"
            ],
            "text/html": [
              "\n",
              "  <div id=\"df-3e1d72c6-1fb0-4ae4-be30-a430a33ff13f\">\n",
              "    <div class=\"colab-df-container\">\n",
              "      <div>\n",
              "<style scoped>\n",
              "    .dataframe tbody tr th:only-of-type {\n",
              "        vertical-align: middle;\n",
              "    }\n",
              "\n",
              "    .dataframe tbody tr th {\n",
              "        vertical-align: top;\n",
              "    }\n",
              "\n",
              "    .dataframe thead th {\n",
              "        text-align: right;\n",
              "    }\n",
              "</style>\n",
              "<table border=\"1\" class=\"dataframe\">\n",
              "  <thead>\n",
              "    <tr style=\"text-align: right;\">\n",
              "      <th></th>\n",
              "      <th>loss</th>\n",
              "      <th>val_loss</th>\n",
              "    </tr>\n",
              "  </thead>\n",
              "  <tbody>\n",
              "    <tr>\n",
              "      <th>0</th>\n",
              "      <td>0.861460</td>\n",
              "      <td>0.444326</td>\n",
              "    </tr>\n",
              "    <tr>\n",
              "      <th>1</th>\n",
              "      <td>0.816433</td>\n",
              "      <td>0.415314</td>\n",
              "    </tr>\n",
              "    <tr>\n",
              "      <th>2</th>\n",
              "      <td>0.780049</td>\n",
              "      <td>0.387037</td>\n",
              "    </tr>\n",
              "    <tr>\n",
              "      <th>3</th>\n",
              "      <td>0.736518</td>\n",
              "      <td>0.358994</td>\n",
              "    </tr>\n",
              "    <tr>\n",
              "      <th>4</th>\n",
              "      <td>0.692279</td>\n",
              "      <td>0.330910</td>\n",
              "    </tr>\n",
              "  </tbody>\n",
              "</table>\n",
              "</div>\n",
              "      <button class=\"colab-df-convert\" onclick=\"convertToInteractive('df-3e1d72c6-1fb0-4ae4-be30-a430a33ff13f')\"\n",
              "              title=\"Convert this dataframe to an interactive table.\"\n",
              "              style=\"display:none;\">\n",
              "        \n",
              "  <svg xmlns=\"http://www.w3.org/2000/svg\" height=\"24px\"viewBox=\"0 0 24 24\"\n",
              "       width=\"24px\">\n",
              "    <path d=\"M0 0h24v24H0V0z\" fill=\"none\"/>\n",
              "    <path d=\"M18.56 5.44l.94 2.06.94-2.06 2.06-.94-2.06-.94-.94-2.06-.94 2.06-2.06.94zm-11 1L8.5 8.5l.94-2.06 2.06-.94-2.06-.94L8.5 2.5l-.94 2.06-2.06.94zm10 10l.94 2.06.94-2.06 2.06-.94-2.06-.94-.94-2.06-.94 2.06-2.06.94z\"/><path d=\"M17.41 7.96l-1.37-1.37c-.4-.4-.92-.59-1.43-.59-.52 0-1.04.2-1.43.59L10.3 9.45l-7.72 7.72c-.78.78-.78 2.05 0 2.83L4 21.41c.39.39.9.59 1.41.59.51 0 1.02-.2 1.41-.59l7.78-7.78 2.81-2.81c.8-.78.8-2.07 0-2.86zM5.41 20L4 18.59l7.72-7.72 1.47 1.35L5.41 20z\"/>\n",
              "  </svg>\n",
              "      </button>\n",
              "      \n",
              "  <style>\n",
              "    .colab-df-container {\n",
              "      display:flex;\n",
              "      flex-wrap:wrap;\n",
              "      gap: 12px;\n",
              "    }\n",
              "\n",
              "    .colab-df-convert {\n",
              "      background-color: #E8F0FE;\n",
              "      border: none;\n",
              "      border-radius: 50%;\n",
              "      cursor: pointer;\n",
              "      display: none;\n",
              "      fill: #1967D2;\n",
              "      height: 32px;\n",
              "      padding: 0 0 0 0;\n",
              "      width: 32px;\n",
              "    }\n",
              "\n",
              "    .colab-df-convert:hover {\n",
              "      background-color: #E2EBFA;\n",
              "      box-shadow: 0px 1px 2px rgba(60, 64, 67, 0.3), 0px 1px 3px 1px rgba(60, 64, 67, 0.15);\n",
              "      fill: #174EA6;\n",
              "    }\n",
              "\n",
              "    [theme=dark] .colab-df-convert {\n",
              "      background-color: #3B4455;\n",
              "      fill: #D2E3FC;\n",
              "    }\n",
              "\n",
              "    [theme=dark] .colab-df-convert:hover {\n",
              "      background-color: #434B5C;\n",
              "      box-shadow: 0px 1px 3px 1px rgba(0, 0, 0, 0.15);\n",
              "      filter: drop-shadow(0px 1px 2px rgba(0, 0, 0, 0.3));\n",
              "      fill: #FFFFFF;\n",
              "    }\n",
              "  </style>\n",
              "\n",
              "      <script>\n",
              "        const buttonEl =\n",
              "          document.querySelector('#df-3e1d72c6-1fb0-4ae4-be30-a430a33ff13f button.colab-df-convert');\n",
              "        buttonEl.style.display =\n",
              "          google.colab.kernel.accessAllowed ? 'block' : 'none';\n",
              "\n",
              "        async function convertToInteractive(key) {\n",
              "          const element = document.querySelector('#df-3e1d72c6-1fb0-4ae4-be30-a430a33ff13f');\n",
              "          const dataTable =\n",
              "            await google.colab.kernel.invokeFunction('convertToInteractive',\n",
              "                                                     [key], {});\n",
              "          if (!dataTable) return;\n",
              "\n",
              "          const docLinkHtml = 'Like what you see? Visit the ' +\n",
              "            '<a target=\"_blank\" href=https://colab.research.google.com/notebooks/data_table.ipynb>data table notebook</a>'\n",
              "            + ' to learn more about interactive tables.';\n",
              "          element.innerHTML = '';\n",
              "          dataTable['output_type'] = 'display_data';\n",
              "          await google.colab.output.renderOutput(dataTable, element);\n",
              "          const docLink = document.createElement('div');\n",
              "          docLink.innerHTML = docLinkHtml;\n",
              "          element.appendChild(docLink);\n",
              "        }\n",
              "      </script>\n",
              "    </div>\n",
              "  </div>\n",
              "  "
            ]
          },
          "metadata": {},
          "execution_count": 332
        }
      ]
    },
    {
      "cell_type": "markdown",
      "source": [
        "**Precisão do Modelo**"
      ],
      "metadata": {
        "id": "8Q__U_sIWjHC"
      }
    },
    {
      "cell_type": "code",
      "source": [
        "loss = modelo.evaluate(x_teste, y_teste, batch_size=64)\n",
        "print(\"loss: {}\".format(loss))"
      ],
      "metadata": {
        "colab": {
          "base_uri": "https://localhost:8080/"
        },
        "outputId": "99800511-bea3-44b5-84d7-955b02d511a7",
        "id": "by7vzuqRWjHC"
      },
      "execution_count": null,
      "outputs": [
        {
          "output_type": "stream",
          "name": "stdout",
          "text": [
            "1/1 [==============================] - 0s 32ms/step - loss: 0.2369\n",
            "loss: 0.2368561178445816\n"
          ]
        }
      ]
    },
    {
      "cell_type": "markdown",
      "source": [
        "**Visualização do Processo de Aprendizado**"
      ],
      "metadata": {
        "id": "mBgvnqkrWjHC"
      }
    },
    {
      "cell_type": "code",
      "source": [
        "plt.title('Cálculo do Erro ao longo do treinamento')\n",
        "plt.ylabel('Erro')\n",
        "plt.xlabel('Época')\n",
        "plt.plot(historico.history['loss'])\n",
        "plt.plot(historico.history['val_loss'])\n",
        "plt.legend(['loss (treinamento)', 'val_loss (validação)'], loc='upper right')\n",
        "plt.show()"
      ],
      "metadata": {
        "colab": {
          "base_uri": "https://localhost:8080/",
          "height": 297
        },
        "outputId": "eb5f9ada-eb68-4b59-c5bb-4526990abaca",
        "id": "wEaPsgB3WjHD"
      },
      "execution_count": null,
      "outputs": [
        {
          "output_type": "display_data",
          "data": {
            "text/plain": [
              "<Figure size 432x288 with 1 Axes>"
            ],
            "image/png": "[encoded data removed]"
          },
          "metadata": {
            "needs_background": "light"
          }
        }
      ]
    },
    {
      "cell_type": "markdown",
      "source": [
        "**Realização da Predição**"
      ],
      "metadata": {
        "id": "jTB1vqG-WjHD"
      }
    },
    {
      "cell_type": "code",
      "source": [
        "predicao = modelo.predict(x_teste)"
      ],
      "metadata": {
        "colab": {
          "base_uri": "https://localhost:8080/"
        },
        "outputId": "8b4cac7b-4491-41f4-93be-863d8cec2dd3",
        "id": "YrQFX4K8WjHD"
      },
      "execution_count": null,
      "outputs": [
        {
          "output_type": "stream",
          "name": "stdout",
          "text": [
            "1/1 [==============================] - 1s 969ms/step\n"
          ]
        }
      ]
    },
    {
      "cell_type": "code",
      "source": [
        "look_back = 1\n",
        "valores_reais_y = y_teste\n",
        "plt.figure(figsize=(50,10))\n",
        "plt.plot(list(range(len(valores_reais_y))), \n",
        "         valores_reais_y, \n",
        "         marker='.', \n",
        "         label=\"Real\")\n",
        "lst_dados_predicao=[w[0] for w in predicao]\n",
        "plt.plot(list(np.arange(len(predicao))-look_back), \n",
        "         lst_dados_predicao, \n",
        "         'r',label=\"Estimação do Modelo\")\n",
        "plt.ylabel('valores', size=15)\n",
        "plt.xlabel('período', size=15)\n",
        "plt.legend(fontsize=15)\n",
        "plt.show()"
      ],
      "metadata": {
        "colab": {
          "base_uri": "https://localhost:8080/",
          "height": 313
        },
        "outputId": "797470a9-ab37-4e9e-8bd8-d22079991cb3",
        "id": "zmtgO1pPWjHD"
      },
      "execution_count": null,
      "outputs": [
        {
          "output_type": "display_data",
          "data": {
            "text/plain": [
              "<Figure size 3600x720 with 1 Axes>"
            ],
            "image/png": "[encoded data removed]"
          },
          "metadata": {
            "needs_background": "light"
          }
        }
      ]
    },
    {
      "cell_type": "markdown",
      "source": [
        "# **Fazendo Predições**"
      ],
      "metadata": {
        "id": "v4y0zF9UWjHD"
      }
    },
    {
      "cell_type": "code",
      "source": [
        "len(valores_reais_y)"
      ],
      "metadata": {
        "colab": {
          "base_uri": "https://localhost:8080/"
        },
        "outputId": "3c0e2f47-40e2-47b8-dd99-a961e531e4b1",
        "id": "oeXh3GawWjHD"
      },
      "execution_count": null,
      "outputs": [
        {
          "output_type": "execute_result",
          "data": {
            "text/plain": [
              "1"
            ]
          },
          "metadata": {},
          "execution_count": 337
        }
      ]
    },
    {
      "cell_type": "code",
      "source": [
        "len(lst_dados_predicao)"
      ],
      "metadata": {
        "colab": {
          "base_uri": "https://localhost:8080/"
        },
        "outputId": "0b36dc0a-2632-42de-e992-b22e0cfcd7b4",
        "id": "LdkATnabWjHD"
      },
      "execution_count": null,
      "outputs": [
        {
          "output_type": "execute_result",
          "data": {
            "text/plain": [
              "1"
            ]
          },
          "metadata": {},
          "execution_count": 338
        }
      ]
    },
    {
      "cell_type": "code",
      "source": [
        "n=len(x_teste)\n",
        "x_teste[n-1] #lembrar que no Python a indexação começa na posição 0"
      ],
      "metadata": {
        "colab": {
          "base_uri": "https://localhost:8080/"
        },
        "outputId": "ff3abe7b-3d26-4a8d-febc-2747f25b6a07",
        "id": "S038jwylWjHD"
      },
      "execution_count": null,
      "outputs": [
        {
          "output_type": "execute_result",
          "data": {
            "text/plain": [
              "array([[0.39840027],\n",
              "       [0.37440002]])"
            ]
          },
          "metadata": {},
          "execution_count": 339
        }
      ]
    },
    {
      "cell_type": "code",
      "source": [
        "minha_predicao = modelo.predict([x_teste[n-1]])"
      ],
      "metadata": {
        "colab": {
          "base_uri": "https://localhost:8080/"
        },
        "outputId": "6eacd8b5-2955-4f60-c7eb-54c64f862513",
        "id": "7iiwFJmAWjHD"
      },
      "execution_count": null,
      "outputs": [
        {
          "output_type": "stream",
          "name": "stderr",
          "text": [
            "WARNING:tensorflow:Model was constructed with shape (None, 2, 1) for input KerasTensor(type_spec=TensorSpec(shape=(None, 2, 1), dtype=tf.float32, name='lstm_24_input'), name='lstm_24_input', description=\"created by layer 'lstm_24_input'\"), but it was called on an input with incompatible shape (None, 1, 1).\n"
          ]
        },
        {
          "output_type": "stream",
          "name": "stdout",
          "text": [
            "1/1 [==============================] - 1s 1s/step\n"
          ]
        }
      ]
    },
    {
      "cell_type": "code",
      "source": [
        "print(f'minha predição é: {minha_predicao}')"
      ],
      "metadata": {
        "colab": {
          "base_uri": "https://localhost:8080/"
        },
        "outputId": "1da26390-8dcd-42b3-b3c2-eb55fb71361a",
        "id": "fw_3mFPzWjHD"
      },
      "execution_count": null,
      "outputs": [
        {
          "output_type": "stream",
          "name": "stdout",
          "text": [
            "minha predição é: [[0.18214712]\n",
            " [0.17854702]]\n"
          ]
        }
      ]
    },
    {
      "cell_type": "code",
      "source": [],
      "metadata": {
        "id": "-JE8jRRrWjHD"
      },
      "execution_count": null,
      "outputs": []
    },
    {
      "cell_type": "markdown",
      "source": [
        "#XPBR31"
      ],
      "metadata": {
        "id": "S2pY5u-2Wjcg"
      }
    },
    {
      "cell_type": "code",
      "source": [
        "y=[]\n",
        "for a in df['XPBR31.SA', 'Close']:\n",
        "  y.append(a)"
      ],
      "metadata": {
        "id": "-D_AudaIWjcg"
      },
      "execution_count": null,
      "outputs": []
    },
    {
      "cell_type": "code",
      "source": [
        "x = np.arange (1,len(y)+1,1)\n"
      ],
      "metadata": {
        "id": "rvAXn13UWjcg"
      },
      "execution_count": null,
      "outputs": []
    },
    {
      "cell_type": "markdown",
      "source": [
        "**padronização dos dados**"
      ],
      "metadata": {
        "id": "FWGaGDOxWjcg"
      }
    },
    {
      "cell_type": "code",
      "source": [
        "minimo = np.min(y)\n",
        "maximo = np.max(y)\n",
        "y = (y - minimo)/(maximo - minimo)"
      ],
      "metadata": {
        "id": "6P8yT107Wjcg"
      },
      "execution_count": null,
      "outputs": []
    },
    {
      "cell_type": "markdown",
      "source": [
        "**Preparação dos conjuntos de dados de treinamento e de teste**"
      ],
      "metadata": {
        "id": "WKfnAfGrWjcg"
      }
    },
    {
      "cell_type": "code",
      "source": [
        "percentual_treinamento = 0.7\n",
        "qtd_treinamento = int(percentual_treinamento*(len(x)));\n",
        "\n",
        "x_treino = x[0:qtd_treinamento] \n",
        "x_teste = x[qtd_treinamento:]\n",
        "\n",
        "y_treino = y[0:qtd_treinamento]\n",
        "y_teste = y[qtd_treinamento:]\n",
        "\n",
        "treino = np.array(list(zip(x_treino, y_treino)))\n",
        "teste = np.array(list(zip(x_teste, y_teste)))\n",
        "\n",
        "for i in range(5):\n",
        "  print('treino[{}]: {}'.format(i+1, treino[i]))\n"
      ],
      "metadata": {
        "colab": {
          "base_uri": "https://localhost:8080/"
        },
        "outputId": "4912c6b6-c93b-47f0-ff86-5ccb35edaa07",
        "id": "I5DU3txsWjcg"
      },
      "execution_count": null,
      "outputs": [
        {
          "output_type": "stream",
          "name": "stdout",
          "text": [
            "treino[1]: [1.         0.92594701]\n",
            "treino[2]: [2.         0.84341457]\n",
            "treino[3]: [3. 1.]\n",
            "treino[4]: [4.         0.94290548]\n",
            "treino[5]: [5.         0.99943459]\n"
          ]
        }
      ]
    },
    {
      "cell_type": "markdown",
      "source": [
        "**Organização do modelo de dados**"
      ],
      "metadata": {
        "id": "pgJ6YQuqWjch"
      }
    },
    {
      "cell_type": "code",
      "source": [
        "def create_dataset(n_X, look_back):\n",
        "  dataX = []\n",
        "  dataY = []\n",
        "  for i in range(len(n_X)-look_back):\n",
        "    a = n_X[i:(i+look_back), ]\n",
        "    print('a: {}'.format(a))\n",
        "    dataX.append(a)\n",
        "    dataY.append(n_X[i + look_back, ])\n",
        "  print('dataX: {}'.format(dataX))\n",
        "  return np.array(dataX), np.array(dataY)"
      ],
      "metadata": {
        "id": "AGEb1xb1Wjch"
      },
      "execution_count": null,
      "outputs": []
    },
    {
      "cell_type": "code",
      "source": [
        "def preparar_dados(dados_serie, look_back):\n",
        "  X, y =[],[]\n",
        "  n = len(dados_serie)\n",
        "  for i in range(n - look_back):\n",
        "    posicao_fim = i + look_back\n",
        "    if posicao_fim <= n:\n",
        "      seq_x = dados_serie[i:posicao_fim,1]\n",
        "      seq_y = dados_serie[posicao_fim,1]\n",
        "      X.append(seq_x)\n",
        "      y.append(seq_y)\n",
        "  return np.array(X), np.array(y)"
      ],
      "metadata": {
        "id": "-cTs2-QTWjch"
      },
      "execution_count": null,
      "outputs": []
    },
    {
      "cell_type": "markdown",
      "source": [
        "**Visualização da estruturação dos dados**"
      ],
      "metadata": {
        "id": "noGwwNT0Wjch"
      }
    },
    {
      "cell_type": "code",
      "source": [
        "  look_back = 2\n",
        "\n",
        "  x_treino, y_treino = preparar_dados(treino, look_back)\n",
        "  x_teste, y_teste = preparar_dados(teste, look_back)\n",
        "  n_caracteristicas = 1 #série monovariada\n",
        "  x_treino = x_treino.reshape((x_treino.shape[0], \n",
        "                               x_treino.shape[1], \n",
        "                               n_caracteristicas))\n",
        "  x_teste = x_teste.reshape((x_teste.shape[0], \n",
        "                         x_teste.shape[1], \n",
        "                         n_caracteristicas))\n",
        "\n",
        "#print('ax: {}'.format(trainx))\n",
        "#print('y: {}'.format(y))\n",
        "  for i in range(5):\n",
        "    print('treino[{}]: {} -> {}'.format(i+1, x_treino[i], y_treino[i]))\n",
        "\n",
        "\n",
        "\n"
      ],
      "metadata": {
        "colab": {
          "base_uri": "https://localhost:8080/"
        },
        "outputId": "8bb691b8-6821-4c10-d7ca-df769b1e9214",
        "id": "HEDVZ1lZWjch"
      },
      "execution_count": null,
      "outputs": [
        {
          "output_type": "stream",
          "name": "stdout",
          "text": [
            "treino[1]: [[0.92594701]\n",
            " [0.84341457]] -> 1.0\n",
            "treino[2]: [[0.84341457]\n",
            " [1.        ]] -> 0.9429054835025688\n",
            "treino[3]: [[1.        ]\n",
            " [0.94290548]] -> 0.999434588193891\n",
            "treino[4]: [[0.94290548]\n",
            " [0.99943459]] -> 0.8304126859260332\n",
            "treino[5]: [[0.99943459]\n",
            " [0.83041269]] -> 0.0\n"
          ]
        }
      ]
    },
    {
      "cell_type": "markdown",
      "source": [
        "**Criação do Modelo de Redes Neurais**"
      ],
      "metadata": {
        "id": "fK3i60oQWjch"
      }
    },
    {
      "cell_type": "code",
      "source": [
        "import tensorflow as tf\n",
        "from keras.models import Sequential\n",
        "from keras.layers import LSTM, Dense, Dropout\n",
        "n_etapas = x_treino.shape[1]\n",
        "n_caracteristicas = x_treino.shape[2]\n",
        "epocas = 20\n",
        "n_unidades = 100\n",
        "tf.random.set_seed(8888) # Setting seed to ensure reproducibility.\n",
        "modelo = Sequential()\n",
        "camada_de_entrada=(n_etapas, n_caracteristicas)\n",
        "modelo.add(LSTM(n_unidades, \n",
        "               return_sequences = True, \n",
        "               input_shape = camada_de_entrada))\n",
        "modelo.add(Dropout(0.2))\n",
        "modelo.add(LSTM(128,\n",
        "               input_shape = camada_de_entrada))\n",
        "modelo.add(Dense(1))\n"
      ],
      "metadata": {
        "id": "9IdSQDWBWjch"
      },
      "execution_count": null,
      "outputs": []
    },
    {
      "cell_type": "markdown",
      "source": [
        "**Visualização do modelo**"
      ],
      "metadata": {
        "id": "SOr_BbDWWjch"
      }
    },
    {
      "cell_type": "code",
      "source": [
        "modelo.summary()"
      ],
      "metadata": {
        "colab": {
          "base_uri": "https://localhost:8080/"
        },
        "outputId": "602b7e86-c31c-4810-edbc-13de3a51b8b1",
        "id": "NiOpX1LjWjch"
      },
      "execution_count": null,
      "outputs": [
        {
          "output_type": "stream",
          "name": "stdout",
          "text": [
            "Model: \"sequential_13\"\n",
            "_________________________________________________________________\n",
            " Layer (type)                Output Shape              Param #   \n",
            "=================================================================\n",
            " lstm_26 (LSTM)              (None, 2, 100)            40800     \n",
            "                                                                 \n",
            " dropout_13 (Dropout)        (None, 2, 100)            0         \n",
            "                                                                 \n",
            " lstm_27 (LSTM)              (None, 128)               117248    \n",
            "                                                                 \n",
            " dense_13 (Dense)            (None, 1)                 129       \n",
            "                                                                 \n",
            "=================================================================\n",
            "Total params: 158,177\n",
            "Trainable params: 158,177\n",
            "Non-trainable params: 0\n",
            "_________________________________________________________________\n"
          ]
        }
      ]
    },
    {
      "cell_type": "markdown",
      "source": [
        "**Escolha de Hiperparâmetros**"
      ],
      "metadata": {
        "id": "QMDm4zwYWjch"
      }
    },
    {
      "cell_type": "code",
      "source": [
        "modelo.compile(loss = 'mean_squared_error', \n",
        "              optimizer = 'adam')"
      ],
      "metadata": {
        "id": "zgQen4GMWjch"
      },
      "execution_count": null,
      "outputs": []
    },
    {
      "cell_type": "markdown",
      "source": [
        "**Treinamento do Modelo**"
      ],
      "metadata": {
        "id": "rhA8_T_aWjch"
      }
    },
    {
      "cell_type": "code",
      "source": [
        "\n",
        "\n",
        "historico = modelo.fit(x_treino, y_treino,\n",
        "                       epochs = epocas,\n",
        "                       batch_size = 70,\n",
        "                       verbose = False,\n",
        "                       shuffle = False,\n",
        "                       validation_split = 0.3)"
      ],
      "metadata": {
        "id": "MTzMAQspWjch"
      },
      "execution_count": null,
      "outputs": []
    },
    {
      "cell_type": "markdown",
      "source": [
        "**Visualização do \"aprendizado\"**"
      ],
      "metadata": {
        "id": "VWircq07Wjch"
      }
    },
    {
      "cell_type": "code",
      "source": [
        "import pandas as pd\n",
        "hist = pd.DataFrame(historico.history)\n",
        "hist.head()"
      ],
      "metadata": {
        "colab": {
          "base_uri": "https://localhost:8080/",
          "height": 206
        },
        "outputId": "75a90be7-219e-4e0d-f0ee-caf2f9f94735",
        "id": "KWHKjcnvWjch"
      },
      "execution_count": null,
      "outputs": [
        {
          "output_type": "execute_result",
          "data": {
            "text/plain": [
              "       loss  val_loss\n",
              "0  0.967584  0.325419\n",
              "1  0.916338  0.306562\n",
              "2  0.878620  0.288616\n",
              "3  0.820333  0.271418\n",
              "4  0.778306  0.254894"
            ],
            "text/html": [
              "\n",
              "  <div id=\"df-81975842-d16a-4e00-a09c-6de1045d3a12\">\n",
              "    <div class=\"colab-df-container\">\n",
              "      <div>\n",
              "<style scoped>\n",
              "    .dataframe tbody tr th:only-of-type {\n",
              "        vertical-align: middle;\n",
              "    }\n",
              "\n",
              "    .dataframe tbody tr th {\n",
              "        vertical-align: top;\n",
              "    }\n",
              "\n",
              "    .dataframe thead th {\n",
              "        text-align: right;\n",
              "    }\n",
              "</style>\n",
              "<table border=\"1\" class=\"dataframe\">\n",
              "  <thead>\n",
              "    <tr style=\"text-align: right;\">\n",
              "      <th></th>\n",
              "      <th>loss</th>\n",
              "      <th>val_loss</th>\n",
              "    </tr>\n",
              "  </thead>\n",
              "  <tbody>\n",
              "    <tr>\n",
              "      <th>0</th>\n",
              "      <td>0.967584</td>\n",
              "      <td>0.325419</td>\n",
              "    </tr>\n",
              "    <tr>\n",
              "      <th>1</th>\n",
              "      <td>0.916338</td>\n",
              "      <td>0.306562</td>\n",
              "    </tr>\n",
              "    <tr>\n",
              "      <th>2</th>\n",
              "      <td>0.878620</td>\n",
              "      <td>0.288616</td>\n",
              "    </tr>\n",
              "    <tr>\n",
              "      <th>3</th>\n",
              "      <td>0.820333</td>\n",
              "      <td>0.271418</td>\n",
              "    </tr>\n",
              "    <tr>\n",
              "      <th>4</th>\n",
              "      <td>0.778306</td>\n",
              "      <td>0.254894</td>\n",
              "    </tr>\n",
              "  </tbody>\n",
              "</table>\n",
              "</div>\n",
              "      <button class=\"colab-df-convert\" onclick=\"convertToInteractive('df-81975842-d16a-4e00-a09c-6de1045d3a12')\"\n",
              "              title=\"Convert this dataframe to an interactive table.\"\n",
              "              style=\"display:none;\">\n",
              "        \n",
              "  <svg xmlns=\"http://www.w3.org/2000/svg\" height=\"24px\"viewBox=\"0 0 24 24\"\n",
              "       width=\"24px\">\n",
              "    <path d=\"M0 0h24v24H0V0z\" fill=\"none\"/>\n",
              "    <path d=\"M18.56 5.44l.94 2.06.94-2.06 2.06-.94-2.06-.94-.94-2.06-.94 2.06-2.06.94zm-11 1L8.5 8.5l.94-2.06 2.06-.94-2.06-.94L8.5 2.5l-.94 2.06-2.06.94zm10 10l.94 2.06.94-2.06 2.06-.94-2.06-.94-.94-2.06-.94 2.06-2.06.94z\"/><path d=\"M17.41 7.96l-1.37-1.37c-.4-.4-.92-.59-1.43-.59-.52 0-1.04.2-1.43.59L10.3 9.45l-7.72 7.72c-.78.78-.78 2.05 0 2.83L4 21.41c.39.39.9.59 1.41.59.51 0 1.02-.2 1.41-.59l7.78-7.78 2.81-2.81c.8-.78.8-2.07 0-2.86zM5.41 20L4 18.59l7.72-7.72 1.47 1.35L5.41 20z\"/>\n",
              "  </svg>\n",
              "      </button>\n",
              "      \n",
              "  <style>\n",
              "    .colab-df-container {\n",
              "      display:flex;\n",
              "      flex-wrap:wrap;\n",
              "      gap: 12px;\n",
              "    }\n",
              "\n",
              "    .colab-df-convert {\n",
              "      background-color: #E8F0FE;\n",
              "      border: none;\n",
              "      border-radius: 50%;\n",
              "      cursor: pointer;\n",
              "      display: none;\n",
              "      fill: #1967D2;\n",
              "      height: 32px;\n",
              "      padding: 0 0 0 0;\n",
              "      width: 32px;\n",
              "    }\n",
              "\n",
              "    .colab-df-convert:hover {\n",
              "      background-color: #E2EBFA;\n",
              "      box-shadow: 0px 1px 2px rgba(60, 64, 67, 0.3), 0px 1px 3px 1px rgba(60, 64, 67, 0.15);\n",
              "      fill: #174EA6;\n",
              "    }\n",
              "\n",
              "    [theme=dark] .colab-df-convert {\n",
              "      background-color: #3B4455;\n",
              "      fill: #D2E3FC;\n",
              "    }\n",
              "\n",
              "    [theme=dark] .colab-df-convert:hover {\n",
              "      background-color: #434B5C;\n",
              "      box-shadow: 0px 1px 3px 1px rgba(0, 0, 0, 0.15);\n",
              "      filter: drop-shadow(0px 1px 2px rgba(0, 0, 0, 0.3));\n",
              "      fill: #FFFFFF;\n",
              "    }\n",
              "  </style>\n",
              "\n",
              "      <script>\n",
              "        const buttonEl =\n",
              "          document.querySelector('#df-81975842-d16a-4e00-a09c-6de1045d3a12 button.colab-df-convert');\n",
              "        buttonEl.style.display =\n",
              "          google.colab.kernel.accessAllowed ? 'block' : 'none';\n",
              "\n",
              "        async function convertToInteractive(key) {\n",
              "          const element = document.querySelector('#df-81975842-d16a-4e00-a09c-6de1045d3a12');\n",
              "          const dataTable =\n",
              "            await google.colab.kernel.invokeFunction('convertToInteractive',\n",
              "                                                     [key], {});\n",
              "          if (!dataTable) return;\n",
              "\n",
              "          const docLinkHtml = 'Like what you see? Visit the ' +\n",
              "            '<a target=\"_blank\" href=https://colab.research.google.com/notebooks/data_table.ipynb>data table notebook</a>'\n",
              "            + ' to learn more about interactive tables.';\n",
              "          element.innerHTML = '';\n",
              "          dataTable['output_type'] = 'display_data';\n",
              "          await google.colab.output.renderOutput(dataTable, element);\n",
              "          const docLink = document.createElement('div');\n",
              "          docLink.innerHTML = docLinkHtml;\n",
              "          element.appendChild(docLink);\n",
              "        }\n",
              "      </script>\n",
              "    </div>\n",
              "  </div>\n",
              "  "
            ]
          },
          "metadata": {},
          "execution_count": 353
        }
      ]
    },
    {
      "cell_type": "markdown",
      "source": [
        "**Precisão do Modelo**"
      ],
      "metadata": {
        "id": "r_oKZNAaWjch"
      }
    },
    {
      "cell_type": "code",
      "source": [
        "loss = modelo.evaluate(x_teste, y_teste, batch_size=64)\n",
        "print(\"loss: {}\".format(loss))"
      ],
      "metadata": {
        "colab": {
          "base_uri": "https://localhost:8080/"
        },
        "outputId": "513af4f1-263f-4711-a776-2b731e76fddd",
        "id": "GHVXZh42Wjci"
      },
      "execution_count": null,
      "outputs": [
        {
          "output_type": "stream",
          "name": "stdout",
          "text": [
            "1/1 [==============================] - 0s 20ms/step - loss: 0.1020\n",
            "loss: 0.10201391577720642\n"
          ]
        }
      ]
    },
    {
      "cell_type": "markdown",
      "source": [
        "**Visualização do Processo de Aprendizado**"
      ],
      "metadata": {
        "id": "HqSim4OxWjci"
      }
    },
    {
      "cell_type": "code",
      "source": [
        "plt.title('Cálculo do Erro ao longo do treinamento')\n",
        "plt.ylabel('Erro')\n",
        "plt.xlabel('Época')\n",
        "plt.plot(historico.history['loss'])\n",
        "plt.plot(historico.history['val_loss'])\n",
        "plt.legend(['loss (treinamento)', 'val_loss (validação)'], loc='upper right')\n",
        "plt.show()"
      ],
      "metadata": {
        "colab": {
          "base_uri": "https://localhost:8080/",
          "height": 297
        },
        "outputId": "8e17311b-e57b-4f2e-f784-9d33e1650630",
        "id": "qdDUFjbQWjci"
      },
      "execution_count": null,
      "outputs": [
        {
          "output_type": "display_data",
          "data": {
            "text/plain": [
              "<Figure size 432x288 with 1 Axes>"
            ],
            "image/png": "[encoded data removed]"
          },
          "metadata": {
            "needs_background": "light"
          }
        }
      ]
    },
    {
      "cell_type": "markdown",
      "source": [
        "**Realização da Predição**"
      ],
      "metadata": {
        "id": "C9k_SIeKWjci"
      }
    },
    {
      "cell_type": "code",
      "source": [
        "predicao = modelo.predict(x_teste)"
      ],
      "metadata": {
        "colab": {
          "base_uri": "https://localhost:8080/"
        },
        "outputId": "2d8f7943-cfe2-4dcb-d26a-075702944f95",
        "id": "ua-vTx8YWjci"
      },
      "execution_count": null,
      "outputs": [
        {
          "output_type": "stream",
          "name": "stdout",
          "text": [
            "1/1 [==============================] - 1s 604ms/step\n"
          ]
        }
      ]
    },
    {
      "cell_type": "code",
      "source": [
        "look_back = 1\n",
        "valores_reais_y = y_teste\n",
        "plt.figure(figsize=(50,10))\n",
        "plt.plot(list(range(len(valores_reais_y))), \n",
        "         valores_reais_y, \n",
        "         marker='.', \n",
        "         label=\"Real\")\n",
        "lst_dados_predicao=[w[0] for w in predicao]\n",
        "plt.plot(list(np.arange(len(predicao))-look_back), \n",
        "         lst_dados_predicao, \n",
        "         'r',label=\"Estimação do Modelo\")\n",
        "plt.ylabel('valores', size=15)\n",
        "plt.xlabel('período', size=15)\n",
        "plt.legend(fontsize=15)\n",
        "plt.show()"
      ],
      "metadata": {
        "colab": {
          "base_uri": "https://localhost:8080/",
          "height": 312
        },
        "outputId": "cd2b12e8-e22c-45c6-c4b2-17ed75277db9",
        "id": "m2aOkfnkWjci"
      },
      "execution_count": null,
      "outputs": [
        {
          "output_type": "display_data",
          "data": {
            "text/plain": [
              "<Figure size 3600x720 with 1 Axes>"
            ],
            "image/png": "[encoded data removed]"
          },
          "metadata": {
            "needs_background": "light"
          }
        }
      ]
    },
    {
      "cell_type": "markdown",
      "source": [
        "# **Fazendo Predições**"
      ],
      "metadata": {
        "id": "u1fSWt3nWjci"
      }
    },
    {
      "cell_type": "code",
      "source": [
        "len(valores_reais_y)"
      ],
      "metadata": {
        "colab": {
          "base_uri": "https://localhost:8080/"
        },
        "outputId": "385e7c64-085c-4db0-b71c-c86dbf1854af",
        "id": "atGHJ-YkWjci"
      },
      "execution_count": null,
      "outputs": [
        {
          "output_type": "execute_result",
          "data": {
            "text/plain": [
              "1"
            ]
          },
          "metadata": {},
          "execution_count": 358
        }
      ]
    },
    {
      "cell_type": "code",
      "source": [
        "len(lst_dados_predicao)"
      ],
      "metadata": {
        "colab": {
          "base_uri": "https://localhost:8080/"
        },
        "outputId": "940dfc2e-17ef-4a77-882b-049f2a44a5dc",
        "id": "k9HsPOfnWjci"
      },
      "execution_count": null,
      "outputs": [
        {
          "output_type": "execute_result",
          "data": {
            "text/plain": [
              "1"
            ]
          },
          "metadata": {},
          "execution_count": 359
        }
      ]
    },
    {
      "cell_type": "code",
      "source": [
        "n=len(x_teste)\n",
        "x_teste[n-1] #lembrar que no Python a indexação começa na posição 0"
      ],
      "metadata": {
        "colab": {
          "base_uri": "https://localhost:8080/"
        },
        "outputId": "69ae44ce-5bd6-4de4-cd1d-0fbe976c81e8",
        "id": "9LcGLcYLWjci"
      },
      "execution_count": null,
      "outputs": [
        {
          "output_type": "execute_result",
          "data": {
            "text/plain": [
              "array([[0.10740539],\n",
              "       [0.08762028]])"
            ]
          },
          "metadata": {},
          "execution_count": 360
        }
      ]
    },
    {
      "cell_type": "code",
      "source": [
        "minha_predicao = modelo.predict([x_teste[n-1]])"
      ],
      "metadata": {
        "colab": {
          "base_uri": "https://localhost:8080/"
        },
        "outputId": "36645de3-4b2c-43ac-fb79-44134d74d27e",
        "id": "NayvPHXIWjci"
      },
      "execution_count": null,
      "outputs": [
        {
          "output_type": "stream",
          "name": "stderr",
          "text": [
            "WARNING:tensorflow:Model was constructed with shape (None, 2, 1) for input KerasTensor(type_spec=TensorSpec(shape=(None, 2, 1), dtype=tf.float32, name='lstm_26_input'), name='lstm_26_input', description=\"created by layer 'lstm_26_input'\"), but it was called on an input with incompatible shape (None, 1, 1).\n"
          ]
        },
        {
          "output_type": "stream",
          "name": "stdout",
          "text": [
            "1/1 [==============================] - 1s 611ms/step\n"
          ]
        }
      ]
    },
    {
      "cell_type": "code",
      "source": [
        "print(f'minha predição é: {minha_predicao}')"
      ],
      "metadata": {
        "colab": {
          "base_uri": "https://localhost:8080/"
        },
        "outputId": "0b16dd84-8a44-4f4e-b954-d80ae923f12a",
        "id": "yOPAaZcZWjci"
      },
      "execution_count": null,
      "outputs": [
        {
          "output_type": "stream",
          "name": "stdout",
          "text": [
            "minha predição é: [[0.1471158]\n",
            " [0.1439215]]\n"
          ]
        }
      ]
    },
    {
      "cell_type": "code",
      "source": [],
      "metadata": {
        "id": "xPnCm00qWjci"
      },
      "execution_count": null,
      "outputs": []
    }
  ]
}